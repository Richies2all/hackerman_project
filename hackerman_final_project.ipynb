{
 "cells": [
  {
   "cell_type": "markdown",
   "id": "2a704e3f",
   "metadata": {},
   "source": [
    "```python\n",
    "Data Hackerman Final Project\n",
    "By Richard Adeyeye\n",
    "05-April-2023\n",
    "```"
   ]
  },
  {
   "cell_type": "code",
   "execution_count": 1,
   "id": "85cb7334",
   "metadata": {},
   "outputs": [
    {
     "data": {
      "text/html": [
       "<style>.container { width:100% !important; }</style>"
      ],
      "text/plain": [
       "<IPython.core.display.HTML object>"
      ]
     },
     "metadata": {},
     "output_type": "display_data"
    }
   ],
   "source": [
    "import pandas as pd\n",
    "import requests\n",
    "import json\n",
    "\n",
    "pd.set_option(\"display.max_columns\", None)\n",
    "pd.set_option(\"display.max_rows\", None)\n",
    "pd.options.display.max_colwidth = None\n",
    "pd.set_option(\"display.float_format\", lambda x: '%.2f' % x)\n",
    "\n",
    "from IPython.display import display, HTML\n",
    "display(HTML(\"<style>.container { width:100% !important; }</style>\"))"
   ]
  },
  {
   "cell_type": "code",
   "execution_count": 2,
   "id": "d3b263ee",
   "metadata": {},
   "outputs": [],
   "source": [
    "book_url = \"https://anapioficeandfire.com/api/books\"\n",
    "book_result = requests.get(book_url)"
   ]
  },
  {
   "cell_type": "code",
   "execution_count": 3,
   "id": "89a95e30",
   "metadata": {},
   "outputs": [
    {
     "data": {
      "text/plain": [
       "200"
      ]
     },
     "execution_count": 3,
     "metadata": {},
     "output_type": "execute_result"
    }
   ],
   "source": [
    "book_result.status_code"
   ]
  },
  {
   "cell_type": "code",
   "execution_count": 4,
   "id": "5dc54f0a",
   "metadata": {},
   "outputs": [],
   "source": [
    "# book_result.json()"
   ]
  },
  {
   "cell_type": "code",
   "execution_count": 5,
   "id": "1bbeffd3",
   "metadata": {},
   "outputs": [],
   "source": [
    "# normalized_data = pd.json_normalize(book_result.json())"
   ]
  },
  {
   "cell_type": "code",
   "execution_count": 6,
   "id": "43a9f780",
   "metadata": {},
   "outputs": [],
   "source": [
    "# normalized_data.head(1)"
   ]
  },
  {
   "cell_type": "code",
   "execution_count": 7,
   "id": "cb295427",
   "metadata": {},
   "outputs": [],
   "source": [
    "books_pd = pd.DataFrame(book_result.json())"
   ]
  },
  {
   "cell_type": "code",
   "execution_count": 8,
   "id": "e2772bfa",
   "metadata": {},
   "outputs": [
    {
     "data": {
      "text/html": [
       "<div>\n",
       "<style scoped>\n",
       "    .dataframe tbody tr th:only-of-type {\n",
       "        vertical-align: middle;\n",
       "    }\n",
       "\n",
       "    .dataframe tbody tr th {\n",
       "        vertical-align: top;\n",
       "    }\n",
       "\n",
       "    .dataframe thead th {\n",
       "        text-align: right;\n",
       "    }\n",
       "</style>\n",
       "<table border=\"1\" class=\"dataframe\">\n",
       "  <thead>\n",
       "    <tr style=\"text-align: right;\">\n",
       "      <th></th>\n",
       "      <th>url</th>\n",
       "      <th>name</th>\n",
       "      <th>isbn</th>\n",
       "      <th>authors</th>\n",
       "      <th>numberOfPages</th>\n",
       "      <th>publisher</th>\n",
       "      <th>country</th>\n",
       "      <th>mediaType</th>\n",
       "      <th>released</th>\n",
       "      <th>characters</th>\n",
       "      <th>povCharacters</th>\n",
       "    </tr>\n",
       "  </thead>\n",
       "  <tbody>\n",
       "    <tr>\n",
       "      <th>0</th>\n",
       "      <td>https://anapioficeandfire.com/api/books/1</td>\n",
       "      <td>A Game of Thrones</td>\n",
       "      <td>978-0553103540</td>\n",
       "      <td>[George R. R. Martin]</td>\n",
       "      <td>694</td>\n",
       "      <td>Bantam Books</td>\n",
       "      <td>United States</td>\n",
       "      <td>Hardcover</td>\n",
       "      <td>1996-08-01T00:00:00</td>\n",
       "      <td>[https://anapioficeandfire.com/api/characters/2, https://anapioficeandfire.com/api/characters/12, https://anapioficeandfire.com/api/characters/13, https://anapioficeandfire.com/api/characters/16, https://anapioficeandfire.com/api/characters/20, https://anapioficeandfire.com/api/characters/27, https://anapioficeandfire.com/api/characters/31, https://anapioficeandfire.com/api/characters/38, https://anapioficeandfire.com/api/characters/39, https://anapioficeandfire.com/api/characters/40, https://anapioficeandfire.com/api/characters/41, https://anapioficeandfire.com/api/characters/42, https://anapioficeandfire.com/api/characters/46, https://anapioficeandfire.com/api/characters/54, https://anapioficeandfire.com/api/characters/56, https://anapioficeandfire.com/api/characters/57, https://anapioficeandfire.com/api/characters/60, https://anapioficeandfire.com/api/characters/61, https://anapioficeandfire.com/api/characters/62, https://anapioficeandfire.com/api/characters/66, https://anapioficeandfire.com/api/characters/67, https://anapioficeandfire.com/api/characters/69, https://anapioficeandfire.com/api/characters/79, https://anapioficeandfire.com/api/characters/89, https://anapioficeandfire.com/api/characters/107, https://anapioficeandfire.com/api/characters/115, https://anapioficeandfire.com/api/characters/116, https://anapioficeandfire.com/api/characters/120, https://anapioficeandfire.com/api/characters/125, https://anapioficeandfire.com/api/characters/128, https://anapioficeandfire.com/api/characters/129, https://anapioficeandfire.com/api/characters/130, https://anapioficeandfire.com/api/characters/135, https://anapioficeandfire.com/api/characters/137, https://anapioficeandfire.com/api/characters/142, https://anapioficeandfire.com/api/characters/147, https://anapioficeandfire.com/api/characters/149, https://anapioficeandfire.com/api/characters/150, https://anapioficeandfire.com/api/characters/151, https://anapioficeandfire.com/api/characters/160, https://anapioficeandfire.com/api/characters/164, https://anapioficeandfire.com/api/characters/168, https://anapioficeandfire.com/api/characters/171, https://anapioficeandfire.com/api/characters/181, https://anapioficeandfire.com/api/characters/190, https://anapioficeandfire.com/api/characters/194, https://anapioficeandfire.com/api/characters/198, https://anapioficeandfire.com/api/characters/202, https://anapioficeandfire.com/api/characters/203, https://anapioficeandfire.com/api/characters/206, https://anapioficeandfire.com/api/characters/209, https://anapioficeandfire.com/api/characters/211, https://anapioficeandfire.com/api/characters/213, https://anapioficeandfire.com/api/characters/217, https://anapioficeandfire.com/api/characters/220, https://anapioficeandfire.com/api/characters/223, https://anapioficeandfire.com/api/characters/225, https://anapioficeandfire.com/api/characters/235, https://anapioficeandfire.com/api/characters/238, https://anapioficeandfire.com/api/characters/245, https://anapioficeandfire.com/api/characters/259, https://anapioficeandfire.com/api/characters/264, https://anapioficeandfire.com/api/characters/273, https://anapioficeandfire.com/api/characters/274, https://anapioficeandfire.com/api/characters/291, https://anapioficeandfire.com/api/characters/292, https://anapioficeandfire.com/api/characters/293, https://anapioficeandfire.com/api/characters/294, https://anapioficeandfire.com/api/characters/303, https://anapioficeandfire.com/api/characters/306, https://anapioficeandfire.com/api/characters/313, https://anapioficeandfire.com/api/characters/315, https://anapioficeandfire.com/api/characters/325, https://anapioficeandfire.com/api/characters/326, https://anapioficeandfire.com/api/characters/327, https://anapioficeandfire.com/api/characters/338, https://anapioficeandfire.com/api/characters/346, https://anapioficeandfire.com/api/characters/347, https://anapioficeandfire.com/api/characters/348, https://anapioficeandfire.com/api/characters/361, https://anapioficeandfire.com/api/characters/368, https://anapioficeandfire.com/api/characters/377, https://anapioficeandfire.com/api/characters/379, https://anapioficeandfire.com/api/characters/380, https://anapioficeandfire.com/api/characters/384, https://anapioficeandfire.com/api/characters/385, https://anapioficeandfire.com/api/characters/393, https://anapioficeandfire.com/api/characters/394, https://anapioficeandfire.com/api/characters/397, https://anapioficeandfire.com/api/characters/400, https://anapioficeandfire.com/api/characters/401, https://anapioficeandfire.com/api/characters/405, https://anapioficeandfire.com/api/characters/408, https://anapioficeandfire.com/api/characters/413, https://anapioficeandfire.com/api/characters/415, https://anapioficeandfire.com/api/characters/418, https://anapioficeandfire.com/api/characters/421, https://anapioficeandfire.com/api/characters/427, https://anapioficeandfire.com/api/characters/435, https://anapioficeandfire.com/api/characters/439, ...]</td>\n",
       "      <td>[https://anapioficeandfire.com/api/characters/148, https://anapioficeandfire.com/api/characters/208, https://anapioficeandfire.com/api/characters/232, https://anapioficeandfire.com/api/characters/339, https://anapioficeandfire.com/api/characters/583, https://anapioficeandfire.com/api/characters/957, https://anapioficeandfire.com/api/characters/1052, https://anapioficeandfire.com/api/characters/1109, https://anapioficeandfire.com/api/characters/1303]</td>\n",
       "    </tr>\n",
       "  </tbody>\n",
       "</table>\n",
       "</div>"
      ],
      "text/plain": [
       "                                         url               name  \\\n",
       "0  https://anapioficeandfire.com/api/books/1  A Game of Thrones   \n",
       "\n",
       "             isbn                authors  numberOfPages     publisher  \\\n",
       "0  978-0553103540  [George R. R. Martin]            694  Bantam Books   \n",
       "\n",
       "         country  mediaType             released  \\\n",
       "0  United States  Hardcover  1996-08-01T00:00:00   \n",
       "\n",
       "                                                                                                                                                                                                                                                                                                                                                                                                                                                                                                                                                                                                                                                                                                                                                                                                                                                                                                                                                                                                                                                                                                                                                                                                                                                                                                                                                                                                                                                                                                                                                                                                                                                                                                                                                                                                                                                                                                                                                                                                                                                                                                                                                                                                                                                                                                                                                                                                                                                                                                                                                                                                                                                                                                                                                                                                                                                                                                                                                                                                                                                                                                                                                                                                                                                                                                                                                                                                                                                                                                                                                                                                                                                                                                                                                                                                                                                                                                                                                                                                                                                                                                                                                                                                                                                                                                                                                                                                                                                                                                                                                                                                                                                                                                                                                                                                                                                                                                                                                                                                                                                                                                                                                                             characters  \\\n",
       "0  [https://anapioficeandfire.com/api/characters/2, https://anapioficeandfire.com/api/characters/12, https://anapioficeandfire.com/api/characters/13, https://anapioficeandfire.com/api/characters/16, https://anapioficeandfire.com/api/characters/20, https://anapioficeandfire.com/api/characters/27, https://anapioficeandfire.com/api/characters/31, https://anapioficeandfire.com/api/characters/38, https://anapioficeandfire.com/api/characters/39, https://anapioficeandfire.com/api/characters/40, https://anapioficeandfire.com/api/characters/41, https://anapioficeandfire.com/api/characters/42, https://anapioficeandfire.com/api/characters/46, https://anapioficeandfire.com/api/characters/54, https://anapioficeandfire.com/api/characters/56, https://anapioficeandfire.com/api/characters/57, https://anapioficeandfire.com/api/characters/60, https://anapioficeandfire.com/api/characters/61, https://anapioficeandfire.com/api/characters/62, https://anapioficeandfire.com/api/characters/66, https://anapioficeandfire.com/api/characters/67, https://anapioficeandfire.com/api/characters/69, https://anapioficeandfire.com/api/characters/79, https://anapioficeandfire.com/api/characters/89, https://anapioficeandfire.com/api/characters/107, https://anapioficeandfire.com/api/characters/115, https://anapioficeandfire.com/api/characters/116, https://anapioficeandfire.com/api/characters/120, https://anapioficeandfire.com/api/characters/125, https://anapioficeandfire.com/api/characters/128, https://anapioficeandfire.com/api/characters/129, https://anapioficeandfire.com/api/characters/130, https://anapioficeandfire.com/api/characters/135, https://anapioficeandfire.com/api/characters/137, https://anapioficeandfire.com/api/characters/142, https://anapioficeandfire.com/api/characters/147, https://anapioficeandfire.com/api/characters/149, https://anapioficeandfire.com/api/characters/150, https://anapioficeandfire.com/api/characters/151, https://anapioficeandfire.com/api/characters/160, https://anapioficeandfire.com/api/characters/164, https://anapioficeandfire.com/api/characters/168, https://anapioficeandfire.com/api/characters/171, https://anapioficeandfire.com/api/characters/181, https://anapioficeandfire.com/api/characters/190, https://anapioficeandfire.com/api/characters/194, https://anapioficeandfire.com/api/characters/198, https://anapioficeandfire.com/api/characters/202, https://anapioficeandfire.com/api/characters/203, https://anapioficeandfire.com/api/characters/206, https://anapioficeandfire.com/api/characters/209, https://anapioficeandfire.com/api/characters/211, https://anapioficeandfire.com/api/characters/213, https://anapioficeandfire.com/api/characters/217, https://anapioficeandfire.com/api/characters/220, https://anapioficeandfire.com/api/characters/223, https://anapioficeandfire.com/api/characters/225, https://anapioficeandfire.com/api/characters/235, https://anapioficeandfire.com/api/characters/238, https://anapioficeandfire.com/api/characters/245, https://anapioficeandfire.com/api/characters/259, https://anapioficeandfire.com/api/characters/264, https://anapioficeandfire.com/api/characters/273, https://anapioficeandfire.com/api/characters/274, https://anapioficeandfire.com/api/characters/291, https://anapioficeandfire.com/api/characters/292, https://anapioficeandfire.com/api/characters/293, https://anapioficeandfire.com/api/characters/294, https://anapioficeandfire.com/api/characters/303, https://anapioficeandfire.com/api/characters/306, https://anapioficeandfire.com/api/characters/313, https://anapioficeandfire.com/api/characters/315, https://anapioficeandfire.com/api/characters/325, https://anapioficeandfire.com/api/characters/326, https://anapioficeandfire.com/api/characters/327, https://anapioficeandfire.com/api/characters/338, https://anapioficeandfire.com/api/characters/346, https://anapioficeandfire.com/api/characters/347, https://anapioficeandfire.com/api/characters/348, https://anapioficeandfire.com/api/characters/361, https://anapioficeandfire.com/api/characters/368, https://anapioficeandfire.com/api/characters/377, https://anapioficeandfire.com/api/characters/379, https://anapioficeandfire.com/api/characters/380, https://anapioficeandfire.com/api/characters/384, https://anapioficeandfire.com/api/characters/385, https://anapioficeandfire.com/api/characters/393, https://anapioficeandfire.com/api/characters/394, https://anapioficeandfire.com/api/characters/397, https://anapioficeandfire.com/api/characters/400, https://anapioficeandfire.com/api/characters/401, https://anapioficeandfire.com/api/characters/405, https://anapioficeandfire.com/api/characters/408, https://anapioficeandfire.com/api/characters/413, https://anapioficeandfire.com/api/characters/415, https://anapioficeandfire.com/api/characters/418, https://anapioficeandfire.com/api/characters/421, https://anapioficeandfire.com/api/characters/427, https://anapioficeandfire.com/api/characters/435, https://anapioficeandfire.com/api/characters/439, ...]   \n",
       "\n",
       "                                                                                                                                                                                                                                                                                                                                                                                                                                                           povCharacters  \n",
       "0  [https://anapioficeandfire.com/api/characters/148, https://anapioficeandfire.com/api/characters/208, https://anapioficeandfire.com/api/characters/232, https://anapioficeandfire.com/api/characters/339, https://anapioficeandfire.com/api/characters/583, https://anapioficeandfire.com/api/characters/957, https://anapioficeandfire.com/api/characters/1052, https://anapioficeandfire.com/api/characters/1109, https://anapioficeandfire.com/api/characters/1303]  "
      ]
     },
     "execution_count": 8,
     "metadata": {},
     "output_type": "execute_result"
    }
   ],
   "source": [
    "books_pd.head(1)"
   ]
  },
  {
   "cell_type": "code",
   "execution_count": 9,
   "id": "19859240",
   "metadata": {},
   "outputs": [
    {
     "data": {
      "text/plain": [
       "0    [George R. R. Martin]\n",
       "1    [George R. R. Martin]\n",
       "2    [George R. R. Martin]\n",
       "3    [George R. R. Martin]\n",
       "4    [George R. R. Martin]\n",
       "5    [George R. R. Martin]\n",
       "6    [George R. R. Martin]\n",
       "7    [George R. R. Martin]\n",
       "8    [George R. R. Martin]\n",
       "9    [George R. R. Martin]\n",
       "Name: authors, dtype: object"
      ]
     },
     "execution_count": 9,
     "metadata": {},
     "output_type": "execute_result"
    }
   ],
   "source": [
    "books_pd['authors']"
   ]
  },
  {
   "cell_type": "code",
   "execution_count": 10,
   "id": "d89526a5",
   "metadata": {},
   "outputs": [
    {
     "data": {
      "text/plain": [
       "10"
      ]
     },
     "execution_count": 10,
     "metadata": {},
     "output_type": "execute_result"
    }
   ],
   "source": [
    "len(book_result.json())"
   ]
  },
  {
   "cell_type": "code",
   "execution_count": 11,
   "id": "b3861589",
   "metadata": {},
   "outputs": [],
   "source": [
    "# Alternatively:\n",
    "def book_count():\n",
    "    book_url = \"https://anapioficeandfire.com/api/books\"\n",
    "    book_result = requests.get(book_url)\n",
    "    number_of_books = book_result.json()\n",
    "    total_books = len(number_of_books)\n",
    "    return total_books"
   ]
  },
  {
   "cell_type": "code",
   "execution_count": 70,
   "id": "bfaed046",
   "metadata": {},
   "outputs": [
    {
     "name": "stdout",
     "output_type": "stream",
     "text": [
      "Total number of books that can be assessed by API: 10\n"
     ]
    }
   ],
   "source": [
    "print(f\"Total number of books that can be assessed by API: {book_count()}\")"
   ]
  },
  {
   "cell_type": "code",
   "execution_count": null,
   "id": "18a74f93",
   "metadata": {},
   "outputs": [],
   "source": []
  },
  {
   "cell_type": "code",
   "execution_count": 13,
   "id": "1d56a5d0",
   "metadata": {},
   "outputs": [],
   "source": [
    "character_url = \"https://anapioficeandfire.com/api/characters\"\n",
    "character_result = requests.get(character_url)"
   ]
  },
  {
   "cell_type": "code",
   "execution_count": 14,
   "id": "3f9f7dba",
   "metadata": {},
   "outputs": [
    {
     "data": {
      "text/plain": [
       "200"
      ]
     },
     "execution_count": 14,
     "metadata": {},
     "output_type": "execute_result"
    }
   ],
   "source": [
    "character_result.status_code"
   ]
  },
  {
   "cell_type": "code",
   "execution_count": 15,
   "id": "34551c52",
   "metadata": {},
   "outputs": [],
   "source": [
    "character_pd = pd.DataFrame(character_result.json())"
   ]
  },
  {
   "cell_type": "code",
   "execution_count": 16,
   "id": "14810de1",
   "metadata": {},
   "outputs": [
    {
     "data": {
      "text/html": [
       "<div>\n",
       "<style scoped>\n",
       "    .dataframe tbody tr th:only-of-type {\n",
       "        vertical-align: middle;\n",
       "    }\n",
       "\n",
       "    .dataframe tbody tr th {\n",
       "        vertical-align: top;\n",
       "    }\n",
       "\n",
       "    .dataframe thead th {\n",
       "        text-align: right;\n",
       "    }\n",
       "</style>\n",
       "<table border=\"1\" class=\"dataframe\">\n",
       "  <thead>\n",
       "    <tr style=\"text-align: right;\">\n",
       "      <th></th>\n",
       "      <th>url</th>\n",
       "      <th>name</th>\n",
       "      <th>gender</th>\n",
       "      <th>culture</th>\n",
       "      <th>born</th>\n",
       "      <th>died</th>\n",
       "      <th>titles</th>\n",
       "      <th>aliases</th>\n",
       "      <th>father</th>\n",
       "      <th>mother</th>\n",
       "      <th>spouse</th>\n",
       "      <th>allegiances</th>\n",
       "      <th>books</th>\n",
       "      <th>povBooks</th>\n",
       "      <th>tvSeries</th>\n",
       "      <th>playedBy</th>\n",
       "    </tr>\n",
       "  </thead>\n",
       "  <tbody>\n",
       "    <tr>\n",
       "      <th>0</th>\n",
       "      <td>https://anapioficeandfire.com/api/characters/1</td>\n",
       "      <td></td>\n",
       "      <td>Female</td>\n",
       "      <td>Braavosi</td>\n",
       "      <td></td>\n",
       "      <td></td>\n",
       "      <td>[]</td>\n",
       "      <td>[The Daughter of the Dusk]</td>\n",
       "      <td></td>\n",
       "      <td></td>\n",
       "      <td></td>\n",
       "      <td>[]</td>\n",
       "      <td>[https://anapioficeandfire.com/api/books/5]</td>\n",
       "      <td>[]</td>\n",
       "      <td>[]</td>\n",
       "      <td>[]</td>\n",
       "    </tr>\n",
       "    <tr>\n",
       "      <th>1</th>\n",
       "      <td>https://anapioficeandfire.com/api/characters/2</td>\n",
       "      <td>Walder</td>\n",
       "      <td>Male</td>\n",
       "      <td></td>\n",
       "      <td></td>\n",
       "      <td></td>\n",
       "      <td>[]</td>\n",
       "      <td>[Hodor]</td>\n",
       "      <td></td>\n",
       "      <td></td>\n",
       "      <td></td>\n",
       "      <td>[https://anapioficeandfire.com/api/houses/362]</td>\n",
       "      <td>[https://anapioficeandfire.com/api/books/1, https://anapioficeandfire.com/api/books/2, https://anapioficeandfire.com/api/books/3, https://anapioficeandfire.com/api/books/5, https://anapioficeandfire.com/api/books/8]</td>\n",
       "      <td>[]</td>\n",
       "      <td>[Season 1, Season 2, Season 3, Season 4, Season 6]</td>\n",
       "      <td>[Kristian Nairn]</td>\n",
       "    </tr>\n",
       "    <tr>\n",
       "      <th>2</th>\n",
       "      <td>https://anapioficeandfire.com/api/characters/3</td>\n",
       "      <td></td>\n",
       "      <td>Male</td>\n",
       "      <td></td>\n",
       "      <td></td>\n",
       "      <td></td>\n",
       "      <td>[]</td>\n",
       "      <td>[Lamprey]</td>\n",
       "      <td></td>\n",
       "      <td></td>\n",
       "      <td></td>\n",
       "      <td>[https://anapioficeandfire.com/api/houses/15]</td>\n",
       "      <td>[https://anapioficeandfire.com/api/books/3]</td>\n",
       "      <td>[]</td>\n",
       "      <td>[]</td>\n",
       "      <td>[]</td>\n",
       "    </tr>\n",
       "    <tr>\n",
       "      <th>3</th>\n",
       "      <td>https://anapioficeandfire.com/api/characters/4</td>\n",
       "      <td></td>\n",
       "      <td>Female</td>\n",
       "      <td>Braavosi</td>\n",
       "      <td></td>\n",
       "      <td></td>\n",
       "      <td>[]</td>\n",
       "      <td>[The Merling Queen]</td>\n",
       "      <td></td>\n",
       "      <td></td>\n",
       "      <td></td>\n",
       "      <td>[]</td>\n",
       "      <td>[https://anapioficeandfire.com/api/books/5, https://anapioficeandfire.com/api/books/8]</td>\n",
       "      <td>[]</td>\n",
       "      <td>[]</td>\n",
       "      <td>[]</td>\n",
       "    </tr>\n",
       "    <tr>\n",
       "      <th>4</th>\n",
       "      <td>https://anapioficeandfire.com/api/characters/5</td>\n",
       "      <td></td>\n",
       "      <td>Male</td>\n",
       "      <td></td>\n",
       "      <td></td>\n",
       "      <td></td>\n",
       "      <td>[]</td>\n",
       "      <td>[Old Crackbones]</td>\n",
       "      <td></td>\n",
       "      <td></td>\n",
       "      <td></td>\n",
       "      <td>[]</td>\n",
       "      <td>[https://anapioficeandfire.com/api/books/5]</td>\n",
       "      <td>[]</td>\n",
       "      <td>[]</td>\n",
       "      <td>[]</td>\n",
       "    </tr>\n",
       "  </tbody>\n",
       "</table>\n",
       "</div>"
      ],
      "text/plain": [
       "                                              url    name  gender   culture  \\\n",
       "0  https://anapioficeandfire.com/api/characters/1          Female  Braavosi   \n",
       "1  https://anapioficeandfire.com/api/characters/2  Walder    Male             \n",
       "2  https://anapioficeandfire.com/api/characters/3            Male             \n",
       "3  https://anapioficeandfire.com/api/characters/4          Female  Braavosi   \n",
       "4  https://anapioficeandfire.com/api/characters/5            Male             \n",
       "\n",
       "  born died titles                     aliases father mother spouse  \\\n",
       "0               []  [The Daughter of the Dusk]                        \n",
       "1               []                     [Hodor]                        \n",
       "2               []                   [Lamprey]                        \n",
       "3               []         [The Merling Queen]                        \n",
       "4               []            [Old Crackbones]                        \n",
       "\n",
       "                                      allegiances  \\\n",
       "0                                              []   \n",
       "1  [https://anapioficeandfire.com/api/houses/362]   \n",
       "2   [https://anapioficeandfire.com/api/houses/15]   \n",
       "3                                              []   \n",
       "4                                              []   \n",
       "\n",
       "                                                                                                                                                                                                                     books  \\\n",
       "0                                                                                                                                                                              [https://anapioficeandfire.com/api/books/5]   \n",
       "1  [https://anapioficeandfire.com/api/books/1, https://anapioficeandfire.com/api/books/2, https://anapioficeandfire.com/api/books/3, https://anapioficeandfire.com/api/books/5, https://anapioficeandfire.com/api/books/8]   \n",
       "2                                                                                                                                                                              [https://anapioficeandfire.com/api/books/3]   \n",
       "3                                                                                                                                   [https://anapioficeandfire.com/api/books/5, https://anapioficeandfire.com/api/books/8]   \n",
       "4                                                                                                                                                                              [https://anapioficeandfire.com/api/books/5]   \n",
       "\n",
       "  povBooks                                            tvSeries  \\\n",
       "0       []                                                  []   \n",
       "1       []  [Season 1, Season 2, Season 3, Season 4, Season 6]   \n",
       "2       []                                                  []   \n",
       "3       []                                                  []   \n",
       "4       []                                                  []   \n",
       "\n",
       "           playedBy  \n",
       "0                []  \n",
       "1  [Kristian Nairn]  \n",
       "2                []  \n",
       "3                []  \n",
       "4                []  "
      ]
     },
     "execution_count": 16,
     "metadata": {},
     "output_type": "execute_result"
    }
   ],
   "source": [
    "character_pd.head()"
   ]
  },
  {
   "cell_type": "code",
   "execution_count": 17,
   "id": "3c4c472c",
   "metadata": {},
   "outputs": [
    {
     "data": {
      "text/plain": [
       "0    Female\n",
       "1      Male\n",
       "2      Male\n",
       "3    Female\n",
       "4      Male\n",
       "5    Female\n",
       "6    Female\n",
       "7      Male\n",
       "8    Female\n",
       "9    Female\n",
       "Name: gender, dtype: object"
      ]
     },
     "execution_count": 17,
     "metadata": {},
     "output_type": "execute_result"
    }
   ],
   "source": [
    "character_pd['gender']"
   ]
  },
  {
   "cell_type": "code",
   "execution_count": 18,
   "id": "219cd6f7",
   "metadata": {},
   "outputs": [],
   "source": [
    "def get_genders():\n",
    "    character_url = \"https://anapioficeandfire.com/api/characters\"\n",
    "    character_result = requests.get(character_url)\n",
    "    character_data = character_result.json()\n",
    "    genders = [char['gender'] for char in character_data[1:]]\n",
    "    genders_counts = pd.Series(genders).value_counts()\n",
    "    \n",
    "    return genders_counts"
   ]
  },
  {
   "cell_type": "code",
   "execution_count": 69,
   "id": "bf287070",
   "metadata": {},
   "outputs": [
    {
     "name": "stdout",
     "output_type": "stream",
     "text": [
      "Total number of genders in the first 40 characters are : Female    5\n",
      "Male      4\n",
      "dtype: int64\n"
     ]
    }
   ],
   "source": [
    "print(f\"Total number of genders in the first 40 characters are : {get_genders()}\")"
   ]
  },
  {
   "cell_type": "code",
   "execution_count": null,
   "id": "48a2c1f1",
   "metadata": {},
   "outputs": [],
   "source": []
  },
  {
   "cell_type": "code",
   "execution_count": 57,
   "id": "ace7471c",
   "metadata": {},
   "outputs": [],
   "source": [
    "# Getting the details of the character 'High Septon' using request\n",
    "books_character_request = requests.get(\"https://anapioficeandfire.com/api/characters?name=High+Septon\")"
   ]
  },
  {
   "cell_type": "code",
   "execution_count": 58,
   "id": "41204089",
   "metadata": {},
   "outputs": [],
   "source": [
    "# Extracting URL of the character resource\n",
    "url = \"https://anapioficeandfire.com/api/characters\"\n",
    "books_character_url = books_character_request.json()[0]['url']"
   ]
  },
  {
   "cell_type": "code",
   "execution_count": 59,
   "id": "34f68d33",
   "metadata": {},
   "outputs": [],
   "source": [
    "# Making a request to get the details of the character including the books they appear in\n",
    "books_character_request = requests.get(books_character_url + '?expand=books')"
   ]
  },
  {
   "cell_type": "code",
   "execution_count": 61,
   "id": "43b1513f",
   "metadata": {},
   "outputs": [],
   "source": [
    "# Extracting the list of books the character appears in\n",
    "books_list = books_character_request.json()['books']"
   ]
  },
  {
   "cell_type": "code",
   "execution_count": 62,
   "id": "45af8cf9",
   "metadata": {},
   "outputs": [],
   "source": [
    "# Count the number of books the character appears in\n",
    "num_books = len(books_list)"
   ]
  },
  {
   "cell_type": "code",
   "execution_count": 63,
   "id": "7cd5c4d3",
   "metadata": {},
   "outputs": [
    {
     "data": {
      "text/plain": [
       "2"
      ]
     },
     "execution_count": 63,
     "metadata": {},
     "output_type": "execute_result"
    }
   ],
   "source": [
    "num_books"
   ]
  },
  {
   "cell_type": "code",
   "execution_count": 68,
   "id": "9dbc8e10",
   "metadata": {},
   "outputs": [
    {
     "name": "stdout",
     "output_type": "stream",
     "text": [
      "The character 'High Septon' appears in 2 books.\n"
     ]
    }
   ],
   "source": [
    "print(f\"The character 'High Septon' appears in {num_books} books.\")"
   ]
  },
  {
   "cell_type": "code",
   "execution_count": null,
   "id": "712f665f",
   "metadata": {},
   "outputs": [],
   "source": []
  },
  {
   "cell_type": "code",
   "execution_count": 25,
   "id": "501b03a4",
   "metadata": {},
   "outputs": [],
   "source": [
    "houses_url = \"https://anapioficeandfire.com/api/houses\"\n",
    "houses_result = requests.get(houses_url)"
   ]
  },
  {
   "cell_type": "code",
   "execution_count": 26,
   "id": "f2a3757a",
   "metadata": {},
   "outputs": [
    {
     "data": {
      "text/plain": [
       "200"
      ]
     },
     "execution_count": 26,
     "metadata": {},
     "output_type": "execute_result"
    }
   ],
   "source": [
    "houses_result.status_code"
   ]
  },
  {
   "cell_type": "code",
   "execution_count": 27,
   "id": "8f8d4a13",
   "metadata": {},
   "outputs": [],
   "source": [
    "houses_pd = pd.DataFrame(houses_result.json())"
   ]
  },
  {
   "cell_type": "code",
   "execution_count": 28,
   "id": "bf5fe0df",
   "metadata": {},
   "outputs": [
    {
     "data": {
      "text/html": [
       "<div>\n",
       "<style scoped>\n",
       "    .dataframe tbody tr th:only-of-type {\n",
       "        vertical-align: middle;\n",
       "    }\n",
       "\n",
       "    .dataframe tbody tr th {\n",
       "        vertical-align: top;\n",
       "    }\n",
       "\n",
       "    .dataframe thead th {\n",
       "        text-align: right;\n",
       "    }\n",
       "</style>\n",
       "<table border=\"1\" class=\"dataframe\">\n",
       "  <thead>\n",
       "    <tr style=\"text-align: right;\">\n",
       "      <th></th>\n",
       "      <th>url</th>\n",
       "      <th>name</th>\n",
       "      <th>region</th>\n",
       "      <th>coatOfArms</th>\n",
       "      <th>words</th>\n",
       "      <th>titles</th>\n",
       "      <th>seats</th>\n",
       "      <th>currentLord</th>\n",
       "      <th>heir</th>\n",
       "      <th>overlord</th>\n",
       "      <th>founded</th>\n",
       "      <th>founder</th>\n",
       "      <th>diedOut</th>\n",
       "      <th>ancestralWeapons</th>\n",
       "      <th>cadetBranches</th>\n",
       "      <th>swornMembers</th>\n",
       "    </tr>\n",
       "  </thead>\n",
       "  <tbody>\n",
       "    <tr>\n",
       "      <th>0</th>\n",
       "      <td>https://anapioficeandfire.com/api/houses/1</td>\n",
       "      <td>House Algood</td>\n",
       "      <td>The Westerlands</td>\n",
       "      <td>A golden wreath, on a blue field with a gold border(Azure, a garland of laurel within a bordure or)</td>\n",
       "      <td></td>\n",
       "      <td>[]</td>\n",
       "      <td>[]</td>\n",
       "      <td></td>\n",
       "      <td></td>\n",
       "      <td>https://anapioficeandfire.com/api/houses/229</td>\n",
       "      <td></td>\n",
       "      <td></td>\n",
       "      <td></td>\n",
       "      <td>[]</td>\n",
       "      <td>[]</td>\n",
       "      <td>[]</td>\n",
       "    </tr>\n",
       "  </tbody>\n",
       "</table>\n",
       "</div>"
      ],
      "text/plain": [
       "                                          url          name           region  \\\n",
       "0  https://anapioficeandfire.com/api/houses/1  House Algood  The Westerlands   \n",
       "\n",
       "                                                                                            coatOfArms  \\\n",
       "0  A golden wreath, on a blue field with a gold border(Azure, a garland of laurel within a bordure or)   \n",
       "\n",
       "  words titles seats currentLord heir  \\\n",
       "0           []    []                    \n",
       "\n",
       "                                       overlord founded founder diedOut  \\\n",
       "0  https://anapioficeandfire.com/api/houses/229                           \n",
       "\n",
       "  ancestralWeapons cadetBranches swornMembers  \n",
       "0               []            []           []  "
      ]
     },
     "execution_count": 28,
     "metadata": {},
     "output_type": "execute_result"
    }
   ],
   "source": [
    "houses_pd.head(1)"
   ]
  },
  {
   "cell_type": "code",
   "execution_count": 75,
   "id": "10ab0491",
   "metadata": {},
   "outputs": [],
   "source": [
    "def getting_houses_index(name):\n",
    "    name_param = name={name}\n",
    "    given_url = f\"https://anapioficeandfire.com/api/houses/?name_param\"\n",
    "    url_response = requests.get(given_url)\n",
    "    final_data = url_response.json()\n",
    "    outcome_index = final_data[0]['url'].split('/')[-1]\n",
    "    return outcome_index"
   ]
  },
  {
   "cell_type": "code",
   "execution_count": 76,
   "id": "cfb77fb3",
   "metadata": {},
   "outputs": [
    {
     "name": "stdout",
     "output_type": "stream",
     "text": [
      "The index corresponding to the house \"House Breakstone\" is: 1\n"
     ]
    }
   ],
   "source": [
    "print(f'The index corresponding to the house \"House Breakstone\" is: {getting_houses_index(\"House Breakstone\")}')"
   ]
  },
  {
   "cell_type": "code",
   "execution_count": null,
   "id": "d144b4b5",
   "metadata": {},
   "outputs": [],
   "source": []
  }
 ],
 "metadata": {
  "kernelspec": {
   "display_name": "Python 3 (ipykernel)",
   "language": "python",
   "name": "python3"
  },
  "language_info": {
   "codemirror_mode": {
    "name": "ipython",
    "version": 3
   },
   "file_extension": ".py",
   "mimetype": "text/x-python",
   "name": "python",
   "nbconvert_exporter": "python",
   "pygments_lexer": "ipython3",
   "version": "3.9.13"
  }
 },
 "nbformat": 4,
 "nbformat_minor": 5
}
