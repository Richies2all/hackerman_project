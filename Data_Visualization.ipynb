{
 "cells": [
  {
   "cell_type": "markdown",
   "id": "429dd36e",
   "metadata": {},
   "source": [
    "```python\n",
    "Data Hackerman Final Project\n",
    "By Richard Adeyeye\n",
    "18-April-2023\n",
    "```"
   ]
  },
  {
   "cell_type": "code",
   "execution_count": 1,
   "id": "7ecc2275",
   "metadata": {},
   "outputs": [
    {
     "data": {
      "text/html": [
       "<style>.container { width:100% !important; }</style>"
      ],
      "text/plain": [
       "<IPython.core.display.HTML object>"
      ]
     },
     "metadata": {},
     "output_type": "display_data"
    }
   ],
   "source": [
    "import pandas as pd\n",
    "import requests\n",
    "import json\n",
    "import os\n",
    "import matplotlib.pyplot as plt\n",
    "from matplotlib import cm\n",
    "import numpy as np\n",
    "import seaborn as sns\n",
    "import folium\n",
    "\n",
    "\n",
    "pd.set_option(\"display.max_columns\", None)\n",
    "pd.set_option(\"display.max_rows\", None)\n",
    "pd.options.display.max_colwidth = None\n",
    "pd.set_option(\"display.float_format\", lambda x: '%.2f' % x)\n",
    "\n",
    "from IPython.display import display, HTML\n",
    "display(HTML(\"<style>.container { width:100% !important; }</style>\"))"
   ]
  },
  {
   "cell_type": "markdown",
   "id": "9e4a2546",
   "metadata": {},
   "source": [
    "### 1. File type manipulation and formatting"
   ]
  },
  {
   "cell_type": "code",
   "execution_count": 2,
   "id": "e1a06d58",
   "metadata": {},
   "outputs": [],
   "source": [
    "# Main working directory \n",
    "main_working_folder = os.getcwd()"
   ]
  },
  {
   "cell_type": "code",
   "execution_count": 3,
   "id": "dbae019f",
   "metadata": {},
   "outputs": [],
   "source": [
    "# Data folder directory\n",
    "data_folder = \"data\""
   ]
  },
  {
   "cell_type": "code",
   "execution_count": 4,
   "id": "543f31cb",
   "metadata": {},
   "outputs": [],
   "source": [
    "# Combining the paths\n",
    "main_path = os.path.join(main_working_folder, data_folder)"
   ]
  },
  {
   "cell_type": "code",
   "execution_count": 5,
   "id": "f58e84cf",
   "metadata": {},
   "outputs": [],
   "source": [
    "# Getting the files list\n",
    "files_list = os.listdir(main_path)"
   ]
  },
  {
   "cell_type": "code",
   "execution_count": 6,
   "id": "708fdb2e",
   "metadata": {},
   "outputs": [
    {
     "data": {
      "text/plain": [
       "['csv_file.csv', 'json_file.json', 'txt_file.txt']"
      ]
     },
     "execution_count": 6,
     "metadata": {},
     "output_type": "execute_result"
    }
   ],
   "source": [
    "files_list"
   ]
  },
  {
   "cell_type": "code",
   "execution_count": 7,
   "id": "90c77740",
   "metadata": {},
   "outputs": [],
   "source": [
    "# Reading in csv file\n",
    "csv_data = pd.read_csv(os.path.join(main_path, files_list[0]))"
   ]
  },
  {
   "cell_type": "code",
   "execution_count": 8,
   "id": "e9c8d1a5",
   "metadata": {},
   "outputs": [
    {
     "data": {
      "text/html": [
       "<div>\n",
       "<style scoped>\n",
       "    .dataframe tbody tr th:only-of-type {\n",
       "        vertical-align: middle;\n",
       "    }\n",
       "\n",
       "    .dataframe tbody tr th {\n",
       "        vertical-align: top;\n",
       "    }\n",
       "\n",
       "    .dataframe thead th {\n",
       "        text-align: right;\n",
       "    }\n",
       "</style>\n",
       "<table border=\"1\" class=\"dataframe\">\n",
       "  <thead>\n",
       "    <tr style=\"text-align: right;\">\n",
       "      <th></th>\n",
       "      <th>author.properties.friends</th>\n",
       "      <th>author.properties.status_count</th>\n",
       "      <th>author.properties.verified</th>\n",
       "      <th>content.body</th>\n",
       "      <th>location.country</th>\n",
       "      <th>properties.platform</th>\n",
       "      <th>properties.sentiment</th>\n",
       "      <th>location.latitude</th>\n",
       "      <th>location.longitude</th>\n",
       "    </tr>\n",
       "  </thead>\n",
       "  <tbody>\n",
       "    <tr>\n",
       "      <th>0</th>\n",
       "      <td>1689</td>\n",
       "      <td>22566</td>\n",
       "      <td>False</td>\n",
       "      <td>Can't believe I'm missing Love Island 😩</td>\n",
       "      <td>GB</td>\n",
       "      <td>twitter</td>\n",
       "      <td>1</td>\n",
       "      <td>51.57</td>\n",
       "      <td>0.46</td>\n",
       "    </tr>\n",
       "  </tbody>\n",
       "</table>\n",
       "</div>"
      ],
      "text/plain": [
       "   author.properties.friends  author.properties.status_count  \\\n",
       "0                       1689                           22566   \n",
       "\n",
       "   author.properties.verified                             content.body  \\\n",
       "0                       False  Can't believe I'm missing Love Island 😩   \n",
       "\n",
       "  location.country properties.platform  properties.sentiment  \\\n",
       "0               GB             twitter                     1   \n",
       "\n",
       "   location.latitude  location.longitude  \n",
       "0              51.57                0.46  "
      ]
     },
     "execution_count": 8,
     "metadata": {},
     "output_type": "execute_result"
    }
   ],
   "source": [
    "csv_data.head(1)"
   ]
  },
  {
   "cell_type": "code",
   "execution_count": 9,
   "id": "33a2ad62",
   "metadata": {},
   "outputs": [],
   "source": [
    "# Reading in text file\n",
    "# book_data = pd.read_csv(os.path.join(main_path, files_list[2]))\n",
    "text_data = pd.read_csv(os.path.join(main_path, files_list[2]), sep=',', header=0)"
   ]
  },
  {
   "cell_type": "code",
   "execution_count": 10,
   "id": "75794e22",
   "metadata": {},
   "outputs": [
    {
     "data": {
      "text/html": [
       "<div>\n",
       "<style scoped>\n",
       "    .dataframe tbody tr th:only-of-type {\n",
       "        vertical-align: middle;\n",
       "    }\n",
       "\n",
       "    .dataframe tbody tr th {\n",
       "        vertical-align: top;\n",
       "    }\n",
       "\n",
       "    .dataframe thead th {\n",
       "        text-align: right;\n",
       "    }\n",
       "</style>\n",
       "<table border=\"1\" class=\"dataframe\">\n",
       "  <thead>\n",
       "    <tr style=\"text-align: right;\">\n",
       "      <th></th>\n",
       "      <th>author.properties.friends</th>\n",
       "      <th>author.properties.verified</th>\n",
       "      <th>location.longitude</th>\n",
       "      <th>author.properties.status_count</th>\n",
       "      <th>properties.sentiment</th>\n",
       "      <th>location.latitude</th>\n",
       "      <th>location.country</th>\n",
       "      <th>content.body</th>\n",
       "      <th>properties.platform</th>\n",
       "    </tr>\n",
       "  </thead>\n",
       "  <tbody>\n",
       "    <tr>\n",
       "      <th>0</th>\n",
       "      <td>632</td>\n",
       "      <td>False</td>\n",
       "      <td>-2.32</td>\n",
       "      <td>106490.00</td>\n",
       "      <td>0.00</td>\n",
       "      <td>52.12</td>\n",
       "      <td>GB</td>\n",
       "      <td>@moel_bryn https://t.co/qvz1bI2Utb</td>\n",
       "      <td>twitter</td>\n",
       "    </tr>\n",
       "  </tbody>\n",
       "</table>\n",
       "</div>"
      ],
      "text/plain": [
       "  author.properties.friends author.properties.verified  location.longitude  \\\n",
       "0                       632                      False               -2.32   \n",
       "\n",
       "   author.properties.status_count  properties.sentiment  location.latitude  \\\n",
       "0                       106490.00                  0.00              52.12   \n",
       "\n",
       "  location.country                        content.body properties.platform  \n",
       "0               GB  @moel_bryn https://t.co/qvz1bI2Utb             twitter  "
      ]
     },
     "execution_count": 10,
     "metadata": {},
     "output_type": "execute_result"
    }
   ],
   "source": [
    "text_data.head(1)"
   ]
  },
  {
   "cell_type": "code",
   "execution_count": 11,
   "id": "1d575831",
   "metadata": {},
   "outputs": [],
   "source": [
    "# json_data = pd.read_json(os.path.join(main_path, files_list[1]))\n",
    "\n",
    "with open(os.path.join(main_path, files_list[1])) as f:\n",
    "    json_data = json.load(f)\n",
    "json_data_df = pd.json_normalize(json_data)"
   ]
  },
  {
   "cell_type": "code",
   "execution_count": 12,
   "id": "32b0369c",
   "metadata": {},
   "outputs": [
    {
     "data": {
      "text/html": [
       "<div>\n",
       "<style scoped>\n",
       "    .dataframe tbody tr th:only-of-type {\n",
       "        vertical-align: middle;\n",
       "    }\n",
       "\n",
       "    .dataframe tbody tr th {\n",
       "        vertical-align: top;\n",
       "    }\n",
       "\n",
       "    .dataframe thead th {\n",
       "        text-align: right;\n",
       "    }\n",
       "</style>\n",
       "<table border=\"1\" class=\"dataframe\">\n",
       "  <thead>\n",
       "    <tr style=\"text-align: right;\">\n",
       "      <th></th>\n",
       "      <th>author.properties.friends</th>\n",
       "      <th>author.properties.verified</th>\n",
       "      <th>author.properties.status_count</th>\n",
       "      <th>location.longitude</th>\n",
       "      <th>location.country</th>\n",
       "      <th>location.latitude</th>\n",
       "      <th>content.body</th>\n",
       "      <th>properties.sentiment</th>\n",
       "      <th>properties.platform</th>\n",
       "    </tr>\n",
       "  </thead>\n",
       "  <tbody>\n",
       "    <tr>\n",
       "      <th>0</th>\n",
       "      <td>150</td>\n",
       "      <td>False</td>\n",
       "      <td>583</td>\n",
       "      <td>-1.45</td>\n",
       "      <td>GB</td>\n",
       "      <td>53.38</td>\n",
       "      <td>To everyone tryin to snapchat me fuck off I'm ugly</td>\n",
       "      <td>-1</td>\n",
       "      <td>twitter</td>\n",
       "    </tr>\n",
       "  </tbody>\n",
       "</table>\n",
       "</div>"
      ],
      "text/plain": [
       "   author.properties.friends  author.properties.verified  \\\n",
       "0                        150                       False   \n",
       "\n",
       "   author.properties.status_count  location.longitude location.country  \\\n",
       "0                             583               -1.45               GB   \n",
       "\n",
       "   location.latitude                                        content.body  \\\n",
       "0              53.38  To everyone tryin to snapchat me fuck off I'm ugly   \n",
       "\n",
       "   properties.sentiment properties.platform  \n",
       "0                    -1             twitter  "
      ]
     },
     "execution_count": 12,
     "metadata": {},
     "output_type": "execute_result"
    }
   ],
   "source": [
    "json_data_df.head(1)"
   ]
  },
  {
   "cell_type": "markdown",
   "id": "1deb76e0",
   "metadata": {},
   "source": [
    "### Combine the DataFrames"
   ]
  },
  {
   "cell_type": "code",
   "execution_count": 13,
   "id": "a61d5005",
   "metadata": {},
   "outputs": [
    {
     "data": {
      "text/plain": [
       "1000"
      ]
     },
     "execution_count": 13,
     "metadata": {},
     "output_type": "execute_result"
    }
   ],
   "source": [
    "len(csv_data)"
   ]
  },
  {
   "cell_type": "code",
   "execution_count": 14,
   "id": "90aa8a41",
   "metadata": {},
   "outputs": [
    {
     "data": {
      "text/plain": [
       "1000"
      ]
     },
     "execution_count": 14,
     "metadata": {},
     "output_type": "execute_result"
    }
   ],
   "source": [
    "len(text_data)"
   ]
  },
  {
   "cell_type": "code",
   "execution_count": 15,
   "id": "c5f6b849",
   "metadata": {},
   "outputs": [
    {
     "data": {
      "text/plain": [
       "1000"
      ]
     },
     "execution_count": 15,
     "metadata": {},
     "output_type": "execute_result"
    }
   ],
   "source": [
    "len(json_data_df)"
   ]
  },
  {
   "cell_type": "code",
   "execution_count": 16,
   "id": "cee1512a",
   "metadata": {},
   "outputs": [],
   "source": [
    "csv_txt_data = pd.concat([csv_data, text_data])"
   ]
  },
  {
   "cell_type": "code",
   "execution_count": 17,
   "id": "25eeb085",
   "metadata": {},
   "outputs": [
    {
     "data": {
      "text/plain": [
       "2000"
      ]
     },
     "execution_count": 17,
     "metadata": {},
     "output_type": "execute_result"
    }
   ],
   "source": [
    "len(csv_txt_data)"
   ]
  },
  {
   "cell_type": "code",
   "execution_count": 18,
   "id": "cf8e52dd",
   "metadata": {},
   "outputs": [],
   "source": [
    "csv_txt_json_data = pd.concat([csv_txt_data, json_data_df])"
   ]
  },
  {
   "cell_type": "code",
   "execution_count": 19,
   "id": "2a8dbeb5",
   "metadata": {},
   "outputs": [
    {
     "data": {
      "text/plain": [
       "3000"
      ]
     },
     "execution_count": 19,
     "metadata": {},
     "output_type": "execute_result"
    }
   ],
   "source": [
    "len(csv_txt_json_data)"
   ]
  },
  {
   "cell_type": "code",
   "execution_count": 20,
   "id": "60cd9a84",
   "metadata": {},
   "outputs": [
    {
     "data": {
      "text/html": [
       "<div>\n",
       "<style scoped>\n",
       "    .dataframe tbody tr th:only-of-type {\n",
       "        vertical-align: middle;\n",
       "    }\n",
       "\n",
       "    .dataframe tbody tr th {\n",
       "        vertical-align: top;\n",
       "    }\n",
       "\n",
       "    .dataframe thead th {\n",
       "        text-align: right;\n",
       "    }\n",
       "</style>\n",
       "<table border=\"1\" class=\"dataframe\">\n",
       "  <thead>\n",
       "    <tr style=\"text-align: right;\">\n",
       "      <th></th>\n",
       "      <th>author.properties.friends</th>\n",
       "      <th>author.properties.status_count</th>\n",
       "      <th>author.properties.verified</th>\n",
       "      <th>content.body</th>\n",
       "      <th>location.country</th>\n",
       "      <th>properties.platform</th>\n",
       "      <th>properties.sentiment</th>\n",
       "      <th>location.latitude</th>\n",
       "      <th>location.longitude</th>\n",
       "    </tr>\n",
       "  </thead>\n",
       "  <tbody>\n",
       "    <tr>\n",
       "      <th>0</th>\n",
       "      <td>1689</td>\n",
       "      <td>22566.00</td>\n",
       "      <td>False</td>\n",
       "      <td>Can't believe I'm missing Love Island 😩</td>\n",
       "      <td>GB</td>\n",
       "      <td>twitter</td>\n",
       "      <td>1.00</td>\n",
       "      <td>51.57</td>\n",
       "      <td>0.46</td>\n",
       "    </tr>\n",
       "  </tbody>\n",
       "</table>\n",
       "</div>"
      ],
      "text/plain": [
       "  author.properties.friends  author.properties.status_count  \\\n",
       "0                      1689                        22566.00   \n",
       "\n",
       "  author.properties.verified                             content.body  \\\n",
       "0                      False  Can't believe I'm missing Love Island 😩   \n",
       "\n",
       "  location.country properties.platform  properties.sentiment  \\\n",
       "0               GB             twitter                  1.00   \n",
       "\n",
       "   location.latitude  location.longitude  \n",
       "0              51.57                0.46  "
      ]
     },
     "execution_count": 20,
     "metadata": {},
     "output_type": "execute_result"
    }
   ],
   "source": [
    "csv_txt_json_data.head(1)"
   ]
  },
  {
   "cell_type": "markdown",
   "id": "623b7bb4",
   "metadata": {},
   "source": [
    "### 2. Data exploration"
   ]
  },
  {
   "cell_type": "code",
   "execution_count": 21,
   "id": "3dafa032",
   "metadata": {},
   "outputs": [
    {
     "name": "stdout",
     "output_type": "stream",
     "text": [
      "<class 'pandas.core.frame.DataFrame'>\n",
      "Int64Index: 3000 entries, 0 to 999\n",
      "Data columns (total 9 columns):\n",
      " #   Column                          Non-Null Count  Dtype  \n",
      "---  ------                          --------------  -----  \n",
      " 0   author.properties.friends       3000 non-null   object \n",
      " 1   author.properties.status_count  2999 non-null   float64\n",
      " 2   author.properties.verified      3000 non-null   object \n",
      " 3   content.body                    2999 non-null   object \n",
      " 4   location.country                2999 non-null   object \n",
      " 5   properties.platform             2998 non-null   object \n",
      " 6   properties.sentiment            2999 non-null   float64\n",
      " 7   location.latitude               2999 non-null   float64\n",
      " 8   location.longitude              2999 non-null   float64\n",
      "dtypes: float64(4), object(5)\n",
      "memory usage: 234.4+ KB\n"
     ]
    }
   ],
   "source": [
    "csv_txt_json_data.info()"
   ]
  },
  {
   "cell_type": "code",
   "execution_count": 22,
   "id": "c723dac1",
   "metadata": {},
   "outputs": [
    {
     "data": {
      "text/plain": [
       "array([ 1., -1.,  0., nan])"
      ]
     },
     "execution_count": 22,
     "metadata": {},
     "output_type": "execute_result"
    }
   ],
   "source": [
    "csv_txt_json_data[\"properties.sentiment\"].unique()"
   ]
  },
  {
   "cell_type": "code",
   "execution_count": 23,
   "id": "8601d7b5",
   "metadata": {},
   "outputs": [],
   "source": [
    "# Removing the null, 'NaN' data from the \"properties.sentiment\" column\n",
    "updated_data = csv_txt_json_data[csv_txt_json_data[\"properties.sentiment\"].notnull()]"
   ]
  },
  {
   "cell_type": "code",
   "execution_count": 24,
   "id": "8380638d",
   "metadata": {},
   "outputs": [
    {
     "data": {
      "text/plain": [
       "array([ 1., -1.,  0.])"
      ]
     },
     "execution_count": 24,
     "metadata": {},
     "output_type": "execute_result"
    }
   ],
   "source": [
    "#csv_txt_json_data['author.properties.friends'] = csv_txt_json_data['author.properties.friends'].astype(int)\n",
    "#csv_txt_json_data['author.properties.friends'] = pd.to_numeric(csv_txt_json_data['author.properties.friends'],errors = 'coerce')\n",
    "updated_data['properties.sentiment'].unique()"
   ]
  },
  {
   "cell_type": "code",
   "execution_count": 25,
   "id": "9ecea312",
   "metadata": {},
   "outputs": [
    {
     "name": "stdout",
     "output_type": "stream",
     "text": [
      "<class 'pandas.core.frame.DataFrame'>\n",
      "Int64Index: 2999 entries, 0 to 999\n",
      "Data columns (total 9 columns):\n",
      " #   Column                          Non-Null Count  Dtype  \n",
      "---  ------                          --------------  -----  \n",
      " 0   author.properties.friends       2999 non-null   object \n",
      " 1   author.properties.status_count  2999 non-null   float64\n",
      " 2   author.properties.verified      2999 non-null   object \n",
      " 3   content.body                    2999 non-null   object \n",
      " 4   location.country                2999 non-null   object \n",
      " 5   properties.platform             2998 non-null   object \n",
      " 6   properties.sentiment            2999 non-null   float64\n",
      " 7   location.latitude               2999 non-null   float64\n",
      " 8   location.longitude              2999 non-null   float64\n",
      "dtypes: float64(4), object(5)\n",
      "memory usage: 234.3+ KB\n"
     ]
    }
   ],
   "source": [
    "updated_data.info()"
   ]
  },
  {
   "cell_type": "code",
   "execution_count": 26,
   "id": "e1cd7d33",
   "metadata": {},
   "outputs": [
    {
     "data": {
      "text/html": [
       "<div>\n",
       "<style scoped>\n",
       "    .dataframe tbody tr th:only-of-type {\n",
       "        vertical-align: middle;\n",
       "    }\n",
       "\n",
       "    .dataframe tbody tr th {\n",
       "        vertical-align: top;\n",
       "    }\n",
       "\n",
       "    .dataframe thead th {\n",
       "        text-align: right;\n",
       "    }\n",
       "</style>\n",
       "<table border=\"1\" class=\"dataframe\">\n",
       "  <thead>\n",
       "    <tr style=\"text-align: right;\">\n",
       "      <th></th>\n",
       "      <th>count</th>\n",
       "      <th>mean</th>\n",
       "      <th>std</th>\n",
       "      <th>min</th>\n",
       "      <th>25%</th>\n",
       "      <th>50%</th>\n",
       "      <th>75%</th>\n",
       "      <th>max</th>\n",
       "    </tr>\n",
       "  </thead>\n",
       "  <tbody>\n",
       "    <tr>\n",
       "      <th>author.properties.status_count</th>\n",
       "      <td>2999.00</td>\n",
       "      <td>35139.96</td>\n",
       "      <td>129182.54</td>\n",
       "      <td>2.00</td>\n",
       "      <td>3427.50</td>\n",
       "      <td>11435.00</td>\n",
       "      <td>30461.00</td>\n",
       "      <td>1702464.00</td>\n",
       "    </tr>\n",
       "    <tr>\n",
       "      <th>properties.sentiment</th>\n",
       "      <td>2999.00</td>\n",
       "      <td>-0.26</td>\n",
       "      <td>0.78</td>\n",
       "      <td>-1.00</td>\n",
       "      <td>-1.00</td>\n",
       "      <td>0.00</td>\n",
       "      <td>0.00</td>\n",
       "      <td>1.00</td>\n",
       "    </tr>\n",
       "    <tr>\n",
       "      <th>location.latitude</th>\n",
       "      <td>2999.00</td>\n",
       "      <td>52.75</td>\n",
       "      <td>1.66</td>\n",
       "      <td>49.19</td>\n",
       "      <td>51.50</td>\n",
       "      <td>52.20</td>\n",
       "      <td>53.69</td>\n",
       "      <td>58.17</td>\n",
       "    </tr>\n",
       "    <tr>\n",
       "      <th>location.longitude</th>\n",
       "      <td>2999.00</td>\n",
       "      <td>-1.61</td>\n",
       "      <td>1.64</td>\n",
       "      <td>-7.82</td>\n",
       "      <td>-2.68</td>\n",
       "      <td>-1.40</td>\n",
       "      <td>-0.18</td>\n",
       "      <td>1.40</td>\n",
       "    </tr>\n",
       "  </tbody>\n",
       "</table>\n",
       "</div>"
      ],
      "text/plain": [
       "                                 count     mean       std   min     25%  \\\n",
       "author.properties.status_count 2999.00 35139.96 129182.54  2.00 3427.50   \n",
       "properties.sentiment           2999.00    -0.26      0.78 -1.00   -1.00   \n",
       "location.latitude              2999.00    52.75      1.66 49.19   51.50   \n",
       "location.longitude             2999.00    -1.61      1.64 -7.82   -2.68   \n",
       "\n",
       "                                    50%      75%        max  \n",
       "author.properties.status_count 11435.00 30461.00 1702464.00  \n",
       "properties.sentiment               0.00     0.00       1.00  \n",
       "location.latitude                 52.20    53.69      58.17  \n",
       "location.longitude                -1.40    -0.18       1.40  "
      ]
     },
     "execution_count": 26,
     "metadata": {},
     "output_type": "execute_result"
    }
   ],
   "source": [
    "updated_data.describe().T"
   ]
  },
  {
   "cell_type": "markdown",
   "id": "82369e22",
   "metadata": {},
   "source": [
    "#### Friends statistics"
   ]
  },
  {
   "cell_type": "code",
   "execution_count": 27,
   "id": "e5ac9e05",
   "metadata": {},
   "outputs": [
    {
     "data": {
      "text/html": [
       "<div>\n",
       "<style scoped>\n",
       "    .dataframe tbody tr th:only-of-type {\n",
       "        vertical-align: middle;\n",
       "    }\n",
       "\n",
       "    .dataframe tbody tr th {\n",
       "        vertical-align: top;\n",
       "    }\n",
       "\n",
       "    .dataframe thead th {\n",
       "        text-align: right;\n",
       "    }\n",
       "</style>\n",
       "<table border=\"1\" class=\"dataframe\">\n",
       "  <thead>\n",
       "    <tr style=\"text-align: right;\">\n",
       "      <th></th>\n",
       "      <th>counts</th>\n",
       "    </tr>\n",
       "    <tr>\n",
       "      <th>friends</th>\n",
       "      <th></th>\n",
       "    </tr>\n",
       "  </thead>\n",
       "  <tbody>\n",
       "    <tr>\n",
       "      <th>195</th>\n",
       "      <td>25</td>\n",
       "    </tr>\n",
       "    <tr>\n",
       "      <th>2457</th>\n",
       "      <td>23</td>\n",
       "    </tr>\n",
       "    <tr>\n",
       "      <th>521</th>\n",
       "      <td>11</td>\n",
       "    </tr>\n",
       "    <tr>\n",
       "      <th>190</th>\n",
       "      <td>11</td>\n",
       "    </tr>\n",
       "    <tr>\n",
       "      <th>0</th>\n",
       "      <td>10</td>\n",
       "    </tr>\n",
       "  </tbody>\n",
       "</table>\n",
       "</div>"
      ],
      "text/plain": [
       "         counts\n",
       "friends        \n",
       "195          25\n",
       "2457         23\n",
       "521          11\n",
       "190          11\n",
       "0            10"
      ]
     },
     "execution_count": 27,
     "metadata": {},
     "output_type": "execute_result"
    }
   ],
   "source": [
    "friends_df = updated_data['author.properties.friends'].value_counts().rename_axis('friends').to_frame('counts')\n",
    "friends_df.head(5)"
   ]
  },
  {
   "cell_type": "markdown",
   "id": "1092a98c",
   "metadata": {},
   "source": [
    "#### Countries statistics"
   ]
  },
  {
   "cell_type": "code",
   "execution_count": 28,
   "id": "824e6627",
   "metadata": {},
   "outputs": [],
   "source": [
    "countries_df = updated_data['location.country'].value_counts().rename_axis('country code').to_frame('counts')"
   ]
  },
  {
   "cell_type": "code",
   "execution_count": 29,
   "id": "cf761ba4",
   "metadata": {},
   "outputs": [
    {
     "data": {
      "text/html": [
       "<div>\n",
       "<style scoped>\n",
       "    .dataframe tbody tr th:only-of-type {\n",
       "        vertical-align: middle;\n",
       "    }\n",
       "\n",
       "    .dataframe tbody tr th {\n",
       "        vertical-align: top;\n",
       "    }\n",
       "\n",
       "    .dataframe thead th {\n",
       "        text-align: right;\n",
       "    }\n",
       "</style>\n",
       "<table border=\"1\" class=\"dataframe\">\n",
       "  <thead>\n",
       "    <tr style=\"text-align: right;\">\n",
       "      <th></th>\n",
       "      <th>counts</th>\n",
       "    </tr>\n",
       "    <tr>\n",
       "      <th>country code</th>\n",
       "      <th></th>\n",
       "    </tr>\n",
       "  </thead>\n",
       "  <tbody>\n",
       "    <tr>\n",
       "      <th>GB</th>\n",
       "      <td>2991</td>\n",
       "    </tr>\n",
       "    <tr>\n",
       "      <th>GG</th>\n",
       "      <td>5</td>\n",
       "    </tr>\n",
       "    <tr>\n",
       "      <th>JE</th>\n",
       "      <td>2</td>\n",
       "    </tr>\n",
       "    <tr>\n",
       "      <th>IM</th>\n",
       "      <td>1</td>\n",
       "    </tr>\n",
       "  </tbody>\n",
       "</table>\n",
       "</div>"
      ],
      "text/plain": [
       "              counts\n",
       "country code        \n",
       "GB              2991\n",
       "GG                 5\n",
       "JE                 2\n",
       "IM                 1"
      ]
     },
     "execution_count": 29,
     "metadata": {},
     "output_type": "execute_result"
    }
   ],
   "source": [
    "countries_df"
   ]
  },
  {
   "cell_type": "markdown",
   "id": "00300771",
   "metadata": {},
   "source": [
    "#### Sentiments count"
   ]
  },
  {
   "cell_type": "code",
   "execution_count": 30,
   "id": "4df1776b",
   "metadata": {},
   "outputs": [
    {
     "data": {
      "text/html": [
       "<div>\n",
       "<style scoped>\n",
       "    .dataframe tbody tr th:only-of-type {\n",
       "        vertical-align: middle;\n",
       "    }\n",
       "\n",
       "    .dataframe tbody tr th {\n",
       "        vertical-align: top;\n",
       "    }\n",
       "\n",
       "    .dataframe thead th {\n",
       "        text-align: right;\n",
       "    }\n",
       "</style>\n",
       "<table border=\"1\" class=\"dataframe\">\n",
       "  <thead>\n",
       "    <tr style=\"text-align: right;\">\n",
       "      <th></th>\n",
       "      <th>counts</th>\n",
       "    </tr>\n",
       "    <tr>\n",
       "      <th>sentiment</th>\n",
       "      <th></th>\n",
       "    </tr>\n",
       "  </thead>\n",
       "  <tbody>\n",
       "    <tr>\n",
       "      <th>-1.00</th>\n",
       "      <td>1403</td>\n",
       "    </tr>\n",
       "    <tr>\n",
       "      <th>0.00</th>\n",
       "      <td>968</td>\n",
       "    </tr>\n",
       "    <tr>\n",
       "      <th>1.00</th>\n",
       "      <td>628</td>\n",
       "    </tr>\n",
       "  </tbody>\n",
       "</table>\n",
       "</div>"
      ],
      "text/plain": [
       "           counts\n",
       "sentiment        \n",
       "-1.00        1403\n",
       "0.00          968\n",
       "1.00          628"
      ]
     },
     "execution_count": 30,
     "metadata": {},
     "output_type": "execute_result"
    }
   ],
   "source": [
    "sentiments_df = updated_data['properties.sentiment'].value_counts().rename_axis('sentiment').to_frame('counts')\n",
    "sentiments_df"
   ]
  },
  {
   "cell_type": "code",
   "execution_count": 31,
   "id": "4b2f5c74",
   "metadata": {},
   "outputs": [
    {
     "data": {
      "text/plain": [
       "(2999, 9)"
      ]
     },
     "execution_count": 31,
     "metadata": {},
     "output_type": "execute_result"
    }
   ],
   "source": [
    "updated_data.shape"
   ]
  },
  {
   "cell_type": "markdown",
   "id": "68d882e7",
   "metadata": {},
   "source": [
    "#### Platforms count"
   ]
  },
  {
   "cell_type": "code",
   "execution_count": 32,
   "id": "2ddf9ef5",
   "metadata": {},
   "outputs": [
    {
     "data": {
      "text/html": [
       "<div>\n",
       "<style scoped>\n",
       "    .dataframe tbody tr th:only-of-type {\n",
       "        vertical-align: middle;\n",
       "    }\n",
       "\n",
       "    .dataframe tbody tr th {\n",
       "        vertical-align: top;\n",
       "    }\n",
       "\n",
       "    .dataframe thead th {\n",
       "        text-align: right;\n",
       "    }\n",
       "</style>\n",
       "<table border=\"1\" class=\"dataframe\">\n",
       "  <thead>\n",
       "    <tr style=\"text-align: right;\">\n",
       "      <th></th>\n",
       "      <th>counts</th>\n",
       "    </tr>\n",
       "    <tr>\n",
       "      <th>platform</th>\n",
       "      <th></th>\n",
       "    </tr>\n",
       "  </thead>\n",
       "  <tbody>\n",
       "    <tr>\n",
       "      <th>twitter</th>\n",
       "      <td>2998</td>\n",
       "    </tr>\n",
       "  </tbody>\n",
       "</table>\n",
       "</div>"
      ],
      "text/plain": [
       "          counts\n",
       "platform        \n",
       "twitter     2998"
      ]
     },
     "execution_count": 32,
     "metadata": {},
     "output_type": "execute_result"
    }
   ],
   "source": [
    "platforms_df = updated_data['properties.platform'].value_counts().rename_axis('platform').to_frame('counts')\n",
    "platforms_df"
   ]
  },
  {
   "cell_type": "markdown",
   "id": "93843826",
   "metadata": {},
   "source": [
    "### Country vs Sentiment"
   ]
  },
  {
   "cell_type": "code",
   "execution_count": 33,
   "id": "2275b052",
   "metadata": {},
   "outputs": [
    {
     "data": {
      "image/png": "[encoded data removed]",
      "text/plain": [
       "<Figure size 640x480 with 1 Axes>"
      ]
     },
     "metadata": {},
     "output_type": "display_data"
    },
    {
     "data": {
      "text/plain": [
       "<Figure size 640x480 with 0 Axes>"
      ]
     },
     "metadata": {},
     "output_type": "display_data"
    }
   ],
   "source": [
    "sns.set_theme()\n",
    "sns.barplot(data=updated_data, x='location.country', y='properties.sentiment')\n",
    "plt.show()\n",
    "plt.savefig(\"images\\sentiment.png\")"
   ]
  },
  {
   "cell_type": "code",
   "execution_count": 34,
   "id": "c70ee3e8",
   "metadata": {},
   "outputs": [
    {
     "data": {
      "image/png": "[encoded data removed]",
      "text/plain": [
       "<Figure size 640x480 with 1 Axes>"
      ]
     },
     "metadata": {},
     "output_type": "display_data"
    },
    {
     "data": {
      "text/plain": [
       "<Figure size 640x480 with 0 Axes>"
      ]
     },
     "metadata": {},
     "output_type": "display_data"
    }
   ],
   "source": [
    "# count plot properties.sentiment and author.properties.verified\n",
    "sns.countplot(x='properties.sentiment',hue='location.country',data=updated_data)\n",
    "plt.show()\n",
    "plt.savefig(\"images\\properties.png\")"
   ]
  },
  {
   "cell_type": "code",
   "execution_count": 35,
   "id": "bd85d41f",
   "metadata": {},
   "outputs": [],
   "source": [
    "# get the location where sentiments on properties were sampled\n",
    "location_data = updated_data[['location.latitude','location.longitude']]\n",
    "area_map =  folium.Map(location=[58.17,1.40], zoom_start=5)\n",
    "heat_map_data = [[row['location.latitude'],row['location.longitude']] for index, row in location_data.iterrows()]"
   ]
  },
  {
   "cell_type": "code",
   "execution_count": 36,
   "id": "8cf8b04c",
   "metadata": {},
   "outputs": [
    {
     "data": {
      "text/plain": [
       "<folium.plugins.heat_map.HeatMap at 0x272c170cd90>"
      ]
     },
     "execution_count": 36,
     "metadata": {},
     "output_type": "execute_result"
    }
   ],
   "source": [
    "from folium.plugins import HeatMap\n",
    "# display map\n",
    "HeatMap(heat_map_data, radius=5).add_to(area_map)"
   ]
  },
  {
   "cell_type": "code",
   "execution_count": 37,
   "id": "186e7ea3",
   "metadata": {},
   "outputs": [
    {
     "data": {
      "text/html": [
       "<div style=\"width:100%;\"><div style=\"position:relative;width:100%;height:0;padding-bottom:60%;\"><span style=\"color:#565656\">Make this Notebook Trusted to load map: File -> Trust Notebook</span><iframe srcdoc=\"&lt;!DOCTYPE html&gt;\n",
       "&lt;html&gt;\n",
       "&lt;head&gt;\n",
       "    \n",
       "    &lt;meta http-equiv=&quot;content-type&quot; content=&quot;text/html; charset=UTF-8&quot; /&gt;\n",
       "    \n",
       "        &lt;script&gt;\n",
       "            L_NO_TOUCH = false;\n",
       "            L_DISABLE_3D = false;\n",
       "        &lt;/script&gt;\n",
       "    \n",
       "    &lt;style&gt;html, body {width: 100%;height: 100%;margin: 0;padding: 0;}&lt;/style&gt;\n",
       "    &lt;style&gt;#map {position:absolute;top:0;bottom:0;right:0;left:0;}&lt;/style&gt;\n",
       "    &lt;script src=&quot;https://cdn.jsdelivr.net/npm/leaflet@1.9.3/dist/leaflet.js&quot;&gt;&lt;/script&gt;\n",
       "    &lt;script src=&quot;https://code.jquery.com/jquery-1.12.4.min.js&quot;&gt;&lt;/script&gt;\n",
       "    &lt;script src=&quot;https://cdn.jsdelivr.net/npm/bootstrap@5.2.2/dist/js/bootstrap.bundle.min.js&quot;&gt;&lt;/script&gt;\n",
       "    &lt;script src=&quot;https://cdnjs.cloudflare.com/ajax/libs/Leaflet.awesome-markers/2.0.2/leaflet.awesome-markers.js&quot;&gt;&lt;/script&gt;\n",
       "    &lt;link rel=&quot;stylesheet&quot; href=&quot;https://cdn.jsdelivr.net/npm/leaflet@1.9.3/dist/leaflet.css&quot;/&gt;\n",
       "    &lt;link rel=&quot;stylesheet&quot; href=&quot;https://cdn.jsdelivr.net/npm/bootstrap@5.2.2/dist/css/bootstrap.min.css&quot;/&gt;\n",
       "    &lt;link rel=&quot;stylesheet&quot; href=&quot;https://netdna.bootstrapcdn.com/bootstrap/3.0.0/css/bootstrap.min.css&quot;/&gt;\n",
       "    &lt;link rel=&quot;stylesheet&quot; href=&quot;https://cdn.jsdelivr.net/npm/@fortawesome/fontawesome-free@6.2.0/css/all.min.css&quot;/&gt;\n",
       "    &lt;link rel=&quot;stylesheet&quot; href=&quot;https://cdnjs.cloudflare.com/ajax/libs/Leaflet.awesome-markers/2.0.2/leaflet.awesome-markers.css&quot;/&gt;\n",
       "    &lt;link rel=&quot;stylesheet&quot; href=&quot;https://cdn.jsdelivr.net/gh/python-visualization/folium/folium/templates/leaflet.awesome.rotate.min.css&quot;/&gt;\n",
       "    \n",
       "            &lt;meta name=&quot;viewport&quot; content=&quot;width=device-width,\n",
       "                initial-scale=1.0, maximum-scale=1.0, user-scalable=no&quot; /&gt;\n",
       "            &lt;style&gt;\n",
       "                #map_b3e3d0eb12c17963f0b5d0a22dcf3812 {\n",
       "                    position: relative;\n",
       "                    width: 100.0%;\n",
       "                    height: 100.0%;\n",
       "                    left: 0.0%;\n",
       "                    top: 0.0%;\n",
       "                }\n",
       "                .leaflet-container { font-size: 1rem; }\n",
       "            &lt;/style&gt;\n",
       "        \n",
       "    &lt;script src=&quot;https://cdn.jsdelivr.net/gh/python-visualization/folium@main/folium/templates/leaflet_heat.min.js&quot;&gt;&lt;/script&gt;\n",
       "&lt;/head&gt;\n",
       "&lt;body&gt;\n",
       "    \n",
       "    \n",
       "            &lt;div class=&quot;folium-map&quot; id=&quot;map_b3e3d0eb12c17963f0b5d0a22dcf3812&quot; &gt;&lt;/div&gt;\n",
       "        \n",
       "&lt;/body&gt;\n",
       "&lt;script&gt;\n",
       "    \n",
       "    \n",
       "            var map_b3e3d0eb12c17963f0b5d0a22dcf3812 = L.map(\n",
       "                &quot;map_b3e3d0eb12c17963f0b5d0a22dcf3812&quot;,\n",
       "                {\n",
       "                    center: [58.17, 1.4],\n",
       "                    crs: L.CRS.EPSG3857,\n",
       "                    zoom: 5,\n",
       "                    zoomControl: true,\n",
       "                    preferCanvas: false,\n",
       "                }\n",
       "            );\n",
       "\n",
       "            \n",
       "\n",
       "        \n",
       "    \n",
       "            var tile_layer_5bf863ef3ed0aae83207e02d63167904 = L.tileLayer(\n",
       "                &quot;https://{s}.tile.openstreetmap.org/{z}/{x}/{y}.png&quot;,\n",
       "                {&quot;attribution&quot;: &quot;Data by \\u0026copy; \\u003ca target=\\&quot;_blank\\&quot; href=\\&quot;http://openstreetmap.org\\&quot;\\u003eOpenStreetMap\\u003c/a\\u003e, under \\u003ca target=\\&quot;_blank\\&quot; href=\\&quot;http://www.openstreetmap.org/copyright\\&quot;\\u003eODbL\\u003c/a\\u003e.&quot;, &quot;detectRetina&quot;: false, &quot;maxNativeZoom&quot;: 18, &quot;maxZoom&quot;: 18, &quot;minZoom&quot;: 0, &quot;noWrap&quot;: false, &quot;opacity&quot;: 1, &quot;subdomains&quot;: &quot;abc&quot;, &quot;tms&quot;: false}\n",
       "            ).addTo(map_b3e3d0eb12c17963f0b5d0a22dcf3812);\n",
       "        \n",
       "    \n",
       "            var heat_map_7bb0fd49561a016df1cb34a82d7f341b = L.heatLayer(\n",
       "                [[51.57044795545623, 0.4571355], [52.969744440802685, -1.1722659999999996], [51.394368557245095, 0.0262989999999999], [51.648544478966905, -3.8042920000000016], [53.54347057254045, -2.6532380000000004], [50.84034002985045, -0.130356], [55.46607469435491, -4.624916500000001], [52.80280339743897, -0.8380554999999998], [57.589930014026, -4.531439500000001], [51.5248433429905, -0.173115], [52.49405270288055, -1.8906405], [51.51788, -0.12723], [51.35895133231162, -0.092633], [54.04781511003401, -2.8563455], [53.354, -1.998], [52.22713108182664, 0.511578], [51.89632636441313, -2.0877745], [53.67581511056894, -0.5130909999999999], [51.46034516709653, -0.1154059999999999], [51.47951871451352, 0.1618535], [51.451674884083495, -0.1937195], [51.58792119344532, -0.102162], [55.246772692267214, -4.8454345000000005], [53.354, -1.998], [51.676323, -3.542993], [54.59237810964623, -1.0204444999999998], [51.807135116435056, -0.1923765], [54.07111124598568, -2.7751315], [55.943259273756, -3.2030085], [52.22713108182664, 0.511578], [52.76166847346558, -1.556472], [51.64530734401061, -0.0991635], [50.83958338001748, -0.1917229999999999], [50.7733897, 0.1028418], [51.51448212166734, -0.0929105], [53.18148435163203, -1.3867305], [51.23643089192935, -0.5701174999999999], [55.853166006556194, -4.5111855], [54.53511410350928, -2.392945], [52.916607589459744, -2.298134], [51.73990077998931, 0.4784789999999999], [51.249274706820096, -0.0103159999999999], [53.65511012384002, -2.1735065], [51.56060768459776, 0.2105895], [52.924466066039024, -4.3855665], [54.94155570577247, -1.5685954999999998], [53.419914903420405, -2.915427], [54.55942740993167, -1.2225015000000004], [51.5112139, -0.1198244], [51.644318675742966, -3.945734999999999], [51.49704302186007, -3.1798], [53.5532640595455, -0.6594239999999999], [53.58071287134156, -2.3047580000000005], [52.49405270288055, -1.8906405], [51.58500991494593, 0.0788629999999999], [57.78663118391636, -4.200440999999999], [54.72877650726704, -1.37532], [55.85839558130999, -4.2417515], [52.41214485808566, -4.001617], [53.54627311144873, -2.7743115], [57.78663118391636, -4.200440999999999], [55.85839558130999, -4.2417515], [50.40223082859258, -4.142929999999999], [51.64530734401061, -0.0991635], [53.38322877572023, -1.4496120000000003], [51.54947858240573, 0.7212505000000001], [54.64768107500438, -5.667601], [57.78663118391636, -4.200440999999999], [51.50009845259365, -0.148936], [51.87159996014631, -0.9207325], [51.618787229839945, 0.4827625], [54.23525523438256, -6.161753000000001], [53.61268198775026, -0.960897], [52.23888471672323, -0.8829510000000002], [51.59585202771581, -0.3370625], [51.39781057661456, -0.252754], [52.4319652771424, -1.1083805], [51.23073568064819, -2.3158515], [54.13016014, -0.79494567], [51.58500991494593, 0.0788629999999999], [51.451674884083495, -0.1937195], [52.55388908204646, -1.146641], [51.79251, -0.66238], [53.09992981, -1.11058807], [50.4475730815792, -3.5456950000000003], [53.456983702037085, -2.233480000000001], [53.72853598842583, -2.4837505], [51.67150341071704, -0.5871185], [55.943259273756, -3.2030085], [53.38322877572023, -1.4496120000000003], [53.12977465530245, -1.272442], [52.0571262016396, 1.1616629999999997], [51.54765285291366, -0.0601675], [55.86527381074809, -3.5084120000000008], [51.61191284168327, -0.2108945], [51.51483911149297, -0.0350195], [51.61904654153738, -3.456404], [54.55942740993167, -1.2225015000000004], [51.54765285291366, -0.0601675], [55.00619740232842, -7.312944999999999], [52.62211889266382, -1.683398], [51.46034516709653, -0.1154059999999999], [51.59585202771581, -0.3370625], [55.943259273756, -3.2030085], [51.50009845259365, -0.148936], [54.59591680133457, -5.928412999999999], [53.41462347939496, -2.1556405], [51.46034516709653, -0.1154059999999999], [51.3296460722635, -2.8691530000000003], [53.38322877572023, -1.4496120000000003], [56.64118209699307, -2.8904995], [52.03360633916026, -0.7640635], [51.27676464045431, 1.0901355], [55.85839558130999, -4.2417515], [57.78663118391636, -4.200440999999999], [53.38322877572023, -1.4496120000000003], [57.1605717487859, -2.1270405], [51.13241515126608, 1.302505], [51.61191284168327, -0.2108945], [51.64530734401061, -0.0991635], [53.32361549801847, -2.2338195000000005], [51.58567402626544, -3.0258350000000007], [52.5801490926246, -2.147965], [54.9636183551984, -1.7626134999999998], [53.47534904324797, -2.3495664999999994], [52.969744440802685, -1.1722659999999996], [54.89924650764616, -1.385366], [51.58500991494593, 0.0788629999999999], [54.07111124598568, -2.7751315], [52.297656565581015, -1.930983], [51.394368557245095, 0.0262989999999999], [51.45255330711058, -0.9820305], [51.316552116349946, -0.5488354999999999], [51.58500991494593, 0.0788629999999999], [51.46469310439313, -0.0706035], [52.626293532909706, -1.13067], [53.09212588142911, -2.4568145], [53.32361549801847, -2.2338195000000005], [53.802038177843606, -1.5654900000000005], [53.60940388839056, -2.153001], [55.943259273756, -3.2030085], [53.5532640595455, -0.6594239999999999], [50.80884444054213, -1.1491980000000002], [51.48651958815168, 0.317777], [55.8667, -3.06667], [52.22713108182664, 0.511578], [51.394368557245095, 0.0262989999999999], [56.65477203, -2.50492637], [53.802038177843606, -1.5654900000000005], [50.785535, -1.077425], [53.456983702037085, -2.233480000000001], [52.23888471672323, -0.8829510000000002], [53.7554215099273, -1.659842], [52.49405270288055, -1.8906405], [51.199212563346414, -4.118541999999999], [52.969744440802685, -1.1722659999999996], [51.35895133231162, -0.092633], [51.13241515126608, 1.302505], [53.38263616563445, -2.5933005], [51.807135116435056, -0.1923765], [52.583285350952416, -0.265658], [56.966307688482274, -2.219349], [53.419914903420405, -2.915427], [53.589899524748894, -0.6419345000000002], [51.73931775419655, -0.24971], [51.14193531741283, 0.8731215000000001], [53.79985711313213, -3.0221290000000005], [51.58792119344532, -0.102162], [51.394368557245095, 0.0262989999999999], [51.97915839291141, -0.2255424999999999], [52.916607589459744, -2.298134], [53.58421048880526, -2.434952499999999], [51.5248433429905, -0.173115], [50.91464801183099, -1.299116], [54.234175921979336, -1.3487329999999995], [54.89924650764616, -1.385366], [55.13511300814875, -1.7396195], [55.943259273756, -3.2030085], [51.451674884083495, -0.1937195], [53.419914903420405, -2.915427], [51.51476447266411, -0.29743], [51.49839328713241, -0.216108], [55.83474384248336, -4.424785000000001], [53.60940388839056, -2.153001], [51.58500991494593, 0.0788629999999999], [51.49704302186007, -3.1798], [55.16855422285807, -1.6921415000000002], [52.03360633916026, -0.7640635], [51.4846403, 0.1035098], [51.46192602344183, 0.3605635], [51.51483911149297, -0.0350195], [56.47700935163645, -2.955045], [53.38263616563445, -2.5933005], [52.5801490926246, -2.147965], [54.82418988839152, -7.466483000000001], [54.51603989375694, -6.062353500000001], [55.943259273756, -3.2030085], [52.20098398787838, 0.1359159999999999], [57.188779263340585, -2.201773], [51.50009845259365, -0.148936], [51.35895133231162, -0.092633], [51.45790063398809, -2.58539], [56.06268046445877, -3.4990415000000006], [55.90962224537389, -4.146607], [51.45412060423482, -0.01799], [52.916607589459744, -2.298134], [51.56060768459776, 0.2105895], [54.9920651180037, -1.6453615], [56.966307688482274, -2.219349], [53.54347057254045, -2.6532380000000004], [52.91556110309076, -1.4707784999999998], [53.72853598842583, -2.4837505], [50.40223082859258, -4.142929999999999], [50.151928876550045, -5.074048], [53.94528548392478, -1.0488515], [53.419914903420405, -2.915427], [53.33373983363341, -2.664049], [51.394368557245095, 0.0262989999999999], [50.7760117, 0.0933185], [57.1605717487859, -2.1270405], [51.46034516709653, -0.1154059999999999], [52.22713108182664, 0.511578], [53.42500746506978, -1.2084370000000002], [52.22713108182664, 0.511578], [51.45412060423482, -0.01799], [52.969744440802685, -1.1722659999999996], [51.51290308733172, 0.2883644999999999], [52.297656565581015, -1.930983], [55.943259273756, -3.2030085], [53.456983702037085, -2.233480000000001], [51.49839328713241, -0.216108], [55.2022056089392, -6.250704000000001], [51.45790063398809, -2.58539], [54.59591680133457, -5.928412999999999], [51.49704302186007, -3.1798], [52.49405270288055, -1.8906405], [51.61191284168327, -0.2108945], [52.583285350952416, -0.265658], [55.85839558130999, -4.2417515], [53.10493938510599, -0.1840399999999999], [51.42715315764938, -0.5480965], [55.61185560072989, -4.496779500000001], [51.49704302186007, -3.1798], [55.888357164286205, -4.8915935], [51.21777778, 1.40388889], [51.5248433429905, -0.173115], [55.1333254370988, -6.662939999999999], [51.56521809122742, -0.2631405], [51.51483911149297, -0.0350195], [52.49405270288055, -1.8906405], [52.49405270288055, -1.8906405], [55.91088316660992, -4.425149500000002], [55.85839558130999, -4.2417515], [50.92135482814837, -1.3964669999999997], [51.525333, -0.136054], [50.88229482721381, -1.0286495], [51.12773719364318, -0.1868325], [53.08999325989027, -1.2516219999999998], [57.50503183042213, -1.7952475], [51.45412060423482, -0.01799], [55.1801606354945, -1.5702060000000002], [54.53579056478005, -1.5538284999999998], [51.644318675742966, -3.945734999999999], [51.44054535039476, -0.3069960000000001], [53.75172380053243, -2.378431999999999], [52.626293532909706, -1.13067], [51.394368557245095, 0.0262989999999999], [51.48651958815168, 0.317777], [55.89884523424009, -3.524390499999999], [51.676323, -3.542993], [53.72853598842583, -2.4837505], [57.52177711, -2.008225], [56.47700935163645, -2.955045], [50.45354542456807, -4.4711135], [51.39781057661456, -0.252754], [56.06043978261314, -3.604268499999999], [52.297656565581015, -1.930983], [51.490020924854, -0.088161], [57.1605717487859, -2.1270405], [51.33222222, -0.55777778], [51.47951871451352, 0.1618535], [51.5248433429905, -0.173115], [57.78663118391636, -4.200440999999999], [52.59626917579951, -2.2009845], [51.54765285291366, -0.0601675], [51.02295143263842, -3.927119], [57.78663118391636, -4.200440999999999], [51.526173688843706, 0.4453010000000001], [53.96622242873735, -1.0853244999999998], [54.17514165621084, -6.344167999999998], [51.53707969560851, -0.4423609999999999], [55.00619740232842, -7.312944999999999], [51.40946691, 0.01607928], [50.83640134, -0.77816969], [52.80416803941673, -2.104833], [53.10493938510599, -0.1840399999999999], [51.515436, -0.156958], [51.42715315764938, -0.5480965], [55.596990127930894, -4.456689999999999], [51.49097, -3.18546], [51.44023795652285, 0.2066289999999999], [51.26214695188809, -2.9870915], [51.5248433429905, -0.173115], [51.58500991494593, 0.0788629999999999], [54.04781511003401, -2.8563455], [52.25138889, 0.10166667], [53.38322877572023, -1.4496120000000003], [51.853102906308365, -2.2294175], [51.48651958815168, 0.317777], [53.60940388839056, -2.153001], [51.81361111, 1.16888889], [51.87472222, 0.98694444], [51.75228868262215, -0.4675694999999999], [51.49839328713241, -0.216108], [51.888713732289546, 0.8988910000000001], [57.78663118391636, -4.200440999999999], [51.465826602329074, -2.492508], [57.78663118391636, -4.200440999999999], [55.943259273756, -3.2030085], [51.50009845259365, -0.148936], [51.50379309930915, -0.18919], [57.78663118391636, -4.200440999999999], [57.50503183042213, -1.7952475], [51.63335610131152, -2.6772815], [51.80044880094318, 1.155431], [53.469862766255794, -3.0044560000000007], [51.44385985231367, 0.13187], [53.802038177843606, -1.5654900000000005], [51.56060768459776, 0.2105895], [51.59585202771581, -0.3370625], [53.76584968269761, -0.3339425], [54.89924650764616, -1.385366], [53.43301858470882, -1.3668674999999997], [51.44054535039476, -0.3069960000000001], [51.54244893903978, -0.159403], [51.777178542361, -3.212603], [51.35895133231162, -0.092633], [52.98533808533774, -1.1140985000000003], [51.39781057661456, -0.252754], [52.530541925714566, -2.2038685000000005], [53.51766460606289, -1.1393599999999997], [50.81887558368253, -1.0669855000000004], [51.51483911149297, -0.0350195], [55.977181887158565, -4.052037], [51.39007140862319, -0.278464], [51.45790063398809, -2.58539], [51.63335610131152, -2.6772815], [53.38322877572023, -1.4496120000000003], [53.82741938270176, -2.6056435], [51.59356948686316, -3.312432], [57.1557549, -2.0888044], [51.50379309930915, -0.18919], [52.33058798283946, -0.903591], [53.38322877572023, -1.4496120000000003], [53.802038177843606, -1.5654900000000005], [52.53879471794792, -2.8031325], [51.47151451957592, 0.0149895], [55.85839558130999, -4.2417515], [52.91556110309076, -1.4707784999999998], [51.59585202771581, -0.3370625], [51.5472959, 0.0092663], [53.96622242873735, -1.0853244999999998], [51.465826602329074, -2.492508], [51.676323, -3.542993], [52.626293532909706, -1.13067], [55.943259273756, -3.2030085], [51.63335610131152, -2.6772815], [51.47951871451352, 0.1618535], [57.10450371478529, -2.616530000000001], [51.46841029916232, 0.0893245], [51.410893464308295, -0.189289], [51.64090092075878, 0.0611209999999999], [51.49839328713241, -0.216108], [51.394368557245095, 0.0262989999999999], [51.493289, -0.225512], [51.394368557245095, 0.0262989999999999], [52.41214485808566, -4.001617], [51.6258822, -0.73494159], [53.456983702037085, -2.233480000000001], [55.85839558130999, -4.2417515], [54.9779371296568, -1.4407025], [51.3960205470363, -1.319187], [54.67505086172861, -6.81351], [51.56060768459776, 0.2105895], [51.599263128359, -0.018734], [51.74080260077765, -3.2970185], [53.36274027216741, -3.0394275000000004], [54.9779371296568, -1.4407025], [51.86631477111753, 0.159749], [53.54627311144873, -2.7743115], [52.39592256202304, -0.7156244999999998], [51.44385985231367, 0.13187], [51.23073568064819, -2.3158515], [51.51448212166734, -0.0929105], [51.66250566, -0.26176149], [51.53707969560851, -0.4423609999999999], [52.41214485808566, -4.001617], [51.35895133231162, -0.092633], [51.61962120903687, 0.4110205], [55.75947448152295, -4.186459999999999], [52.62211889266382, -1.683398], [51.490020924854, -0.088161], [52.9244514967954, -1.2301575], [53.64742271951225, -1.811758], [54.60276942508207, -1.2714555], [51.410893464308295, -0.189289], [55.97622910709359, -3.712312], [53.45602402261249, -2.3312305], [51.394368557245095, 0.0262989999999999], [51.58792119344532, -0.102162], [52.22713108182664, 0.511578], [51.546931093541325, -0.1091815], [51.39781057661456, -0.252754], [51.490020924854, -0.088161], [51.56060768459776, 0.2105895], [55.75947448152295, -4.186459999999999], [50.88229482721381, -1.0286495], [53.00279156026351, -2.2798315], [52.626293532909706, -1.13067], [51.54947858240573, 0.7212505000000001], [52.969744440802685, -1.1722659999999996], [51.67150341071704, -0.5871185], [51.23643089192935, -0.5701174999999999], [51.4081263733163, -0.8415085000000001], [51.54765285291366, -0.0601675], [50.80884444054213, -1.1491980000000002], [51.58792119344532, -0.102162], [51.29141049, -0.52528701], [51.4081263733163, -0.8415085000000001], [51.12919171037765, -3.0054000000000003], [51.412102, -3.54795], [52.49405270288055, -1.8906405], [57.47197179293184, -4.2219125], [51.14216412114232, 0.2515055], [53.456983702037085, -2.233480000000001], [51.39781057661456, -0.252754], [51.66809006143172, -0.3922755], [51.51476447266411, -0.29743], [54.66803267080793, -5.916400000000001], [53.55648692288787, -0.0784764999999999], [51.48651958815168, 0.317777], [51.39007140862319, -0.278464], [50.710059743792215, -2.4395140000000004], [51.648544478966905, -3.8042920000000016], [51.5359129566958, -0.910568], [53.7558582214556, -1.7610015], [51.63335610131152, -2.6772815], [50.72719903, -3.47507318], [53.71427619990924, -2.241185], [53.5767643, -2.4152147], [53.456983702037085, -2.233480000000001], [50.80884444054213, -1.1491980000000002], [51.729037983841735, -1.4328894999999997], [55.85839558130999, -4.2417515], [50.72, -1.88], [51.39781057661456, -0.252754], [51.46841029916232, 0.0893245], [56.06719126905753, -3.452863], [57.78663118391636, -4.200440999999999], [53.71427619990924, -2.241185], [53.70184613556756, -1.664672], [50.83639237, -0.77816687], [52.03360633916026, -0.7640635], [52.59286965724111, -1.096631], [53.54347057254045, -2.6532380000000004], [52.37427738933978, -1.253726], [51.35895133231162, -0.092633], [51.79661280900454, -0.0777585], [53.802038177843606, -1.5654900000000005], [51.853102906308365, -2.2294175], [52.4059046, -1.4906351], [53.38263616563445, -2.5933005], [52.530541925714566, -2.2038685000000005], [55.85839558130999, -4.2417515], [51.44023795652285, 0.2066289999999999], [50.94290745464424, -2.6420495], [51.63335610131152, -2.6772815], [53.47534904324797, -2.3495664999999994], [51.58500991494593, 0.0788629999999999], [52.23888471672323, -0.8829510000000002], [50.92135482814837, -1.3964669999999997], [52.41214485808566, -4.001617], [51.22697378007422, -2.8968110000000005], [55.07230297424175, -3.612964], [51.292947656733695, -0.7689714999999999], [51.51448212166734, -0.0929105], [51.39781057661456, -0.252754], [51.39781057661456, -0.252754], [52.68458161158765, -1.5350900000000005], [50.7209524108503, -3.5148765], [51.394368557245095, 0.0262989999999999], [51.84813056, -0.40001088], [50.86656252780391, -1.2695274999999997], [52.91556110309076, -1.4707784999999998], [53.32986849318908, -0.8200580000000001], [51.64530734401061, -0.0991635], [51.56521809122742, -0.2631405], [51.50711486, -0.12731805], [51.54244893903978, -0.159403], [54.67505086172861, -6.81351], [51.61481535, 0.52161405], [55.875093439172105, -3.6167284999999993], [58.166389, -4.994444], [51.54765285291366, -0.0601675], [53.47378058, -2.29729886], [51.95300704, -0.27206208], [52.05684, -2.71482], [52.232070714245225, -1.153072], [53.456983702037085, -2.233480000000001], [53.456983702037085, -2.233480000000001], [55.85839558130999, -4.2417515], [51.72529343, 0.46173641], [51.54765285291366, -0.0601675], [50.2879915824549, -5.080609500000001], [51.70562364, -0.61128817], [50.63131638438789, -3.3978945], [53.85664850426875, -2.168761], [51.425730318478536, -2.2076585], [51.39781057661456, -0.252754], [54.67505086172861, -6.81351], [51.71185071569722, -3.346804], [51.02295143263842, -3.927119], [52.38107293044398, -2.2506990000000004], [51.46469310439313, -0.0706035], [51.46469310439313, -0.0706035], [54.89453982, -2.93380223], [52.45618581497742, -2.0562570000000004], [51.58500991494593, 0.0788629999999999], [51.51448212166734, -0.0929105], [52.65679230661852, 1.3256085], [51.54765285291366, -0.0601675], [51.648544478966905, -3.8042920000000016], [52.1949280184406, -2.21187], [51.35895133231162, -0.092633], [51.45412060423482, -0.01799], [51.54947858240573, 0.7212505000000001], [49.57165277888953, -2.4170055], [51.53707969560851, -0.4423609999999999], [51.490020924854, -0.088161], [56.719007393710655, -2.4695395], [52.08515709788065, -0.2515914999999999], [50.77416667, -2.02166667], [55.7877101260224, -3.218963], [51.64515665609943, -3.128604], [52.35816110715695, -2.201258999999999], [51.02295143263842, -3.927119], [51.90412922698327, 0.1977344999999999], [51.75228868262215, -0.4675694999999999], [52.596279428808245, -1.999259], [50.81887558368253, -1.0669855000000004], [54.546918913524806, -1.2928485000000003], [51.76827386362998, 0.106737], [54.52122650972725, -1.2340625], [51.46857321492137, -0.6315115], [50.83103, -4.37553], [56.12609661195722, -3.321336000000001], [53.09364959, -1.39105163], [55.61185560072989, -4.496779500000001], [53.197359096378186, -2.8948825], [52.20098398787838, 0.1359159999999999], [53.47534904324797, -2.3495664999999994], [51.5248433429905, -0.173115], [54.47453159116244, -5.690601000000001], [57.1605717487859, -2.1270405], [51.394368557245095, 0.0262989999999999], [52.98533808533774, -1.1140985000000003], [53.58421048880526, -2.434952499999999], [53.9394953936082, -1.2074825000000002], [52.626293532909706, -1.13067], [51.47951871451352, 0.1618535], [53.553143, -1.4819217], [52.23888471672323, -0.8829510000000002], [51.78760456578286, -1.4938255], [53.9394953936082, -1.2074825000000002], [53.22073232033591, -0.54739], [51.71832954962456, -0.055731], [52.59286965724111, -1.096631], [51.544829907267776, 0.024996], [52.22713108182664, 0.511578], [54.07111124598568, -2.7751315], [51.64090092075878, 0.0611209999999999], [55.85839558130999, -4.2417515], [52.49405270288055, -1.8906405], [51.45412060423482, -0.01799], [52.583285350952416, -0.265658], [51.5730271279188, -1.7856895], [54.22224638624048, -4.6875115], [51.35895133231162, -0.092633], [51.599263128359, -0.018734], [55.943259273756, -3.2030085], [55.943259273756, -3.2030085], [52.49405270288055, -1.8906405], [53.419914903420405, -2.915427], [53.820396850981695, -2.4073205], [52.80280339743897, -0.8380554999999998], [51.64437431465974, -3.231378], [53.456983702037085, -2.233480000000001], [54.67505086172861, -6.81351], [52.71992469337859, -1.1440884999999998], [51.39781057661456, -0.252754], [53.456983702037085, -2.233480000000001], [53.12977465530245, -1.272442], [51.49839328713241, -0.216108], [52.13748683368741, -0.4593664999999998], [55.85839558130999, -4.2417515], [51.546931093541325, -0.1091815], [51.50711486, -0.12731805], [51.71832954962456, -0.055731], [52.916607589459744, -2.298134], [57.63621266058033, -3.216036], [51.68945786093106, -1.245088], [52.530541925714566, -2.2038685000000005], [53.13638161659108, -1.033436], [51.39007140862319, -0.278464], [51.51448212166734, -0.0929105], [55.90251516220698, -3.6327250000000006], [51.57684347038337, -1.3144875], [55.645426936496825, -4.7979325], [53.651506798063465, -2.6340755], [55.12375402958675, -3.4468685000000003], [51.853102906308365, -2.2294175], [50.94705258471872, -0.4568094999999999], [55.943259273756, -3.2030085], [53.7343414406204, -2.669629], [51.48651958815168, 0.317777], [53.5532640595455, -0.6594239999999999], [51.56521809122742, -0.2631405], [51.428692, -0.0746168], [55.85839558130999, -4.2417515], [53.47501224392086, -2.5745119999999995], [52.213112768692575, -1.983523], [53.9486515545321, -1.314941], [54.07111124598568, -2.7751315], [55.85839558130999, -4.2417515], [51.56521809122742, -0.2631405], [52.41195046288927, -1.5186515], [51.58500991494593, 0.0788629999999999], [49.46033824223239, -2.542239], [54.59591680133457, -5.928412999999999], [51.39781057661456, -0.252754], [55.85839558130999, -4.2417515], [55.85839558130999, -4.2417515], [52.626293532909706, -1.13067], [51.45255330711058, -0.9820305], [51.57044795545623, 0.4571355], [55.85839558130999, -4.2417515], [55.8654372, -4.2689931], [54.67505086172861, -6.81351], [51.46179093953856, -0.3506925], [51.554035394136, 0.127886], [53.0110450621772, -3.0493385], [51.73990077998931, 0.4784789999999999], [52.53921621015078, -1.3761374999999998], [51.50711486, -0.12731805], [55.85839558130999, -4.2417515], [51.546931093541325, -0.1091815], [54.9920651180037, -1.6453615], [51.75228868262215, -0.4675694999999999], [51.546931093541325, -0.1091815], [55.08650489982679, -1.5999609999999995], [51.71781740128751, -4.055834], [52.05148874699398, -0.023097], [57.646346244301625, -3.3144404999999995], [50.83958338001748, -0.1917229999999999], [51.49704302186007, -3.1798], [51.45790063398809, -2.58539], [55.85839558130999, -4.2417515], [52.80280339743897, -0.8380554999999998], [51.46034516709653, -0.1154059999999999], [55.02801629516445, -1.458029], [51.46857321492137, -0.6315115], [54.94889131058395, -1.4448110000000003], [51.59585202771581, -0.3370625], [51.39781057661456, -0.252754], [52.969744440802685, -1.1722659999999996], [52.626293532909706, -1.13067], [52.18990818815062, 0.6198340000000001], [51.394368557245095, 0.0262989999999999], [52.80623228300398, -1.6364945000000004], [52.676701315525946, -1.125923], [51.46034516709653, -0.1154059999999999], [52.530541925714566, -2.2038685000000005], [51.06990660596826, -4.081617499999999], [55.79719178372056, -4.865199999999999], [51.51483911149297, -0.0350195], [52.49405270288055, -1.8906405], [53.47534904324797, -2.3495664999999994], [54.52693, -1.55438], [57.78663118391636, -4.200440999999999], [51.71556274, 0.49808521], [53.41462347939496, -2.1556405], [51.31293373001153, 0.8891865000000001], [51.71556274, 0.49808521], [51.23643089192935, -0.5701174999999999], [52.22713108182664, 0.511578], [51.61191284168327, -0.2108945], [52.05784571405197, -1.339156], [54.59591680133457, -5.928412999999999], [56.44606554368488, -2.8828404999999995], [51.21602840809597, 1.3792345], [50.81887558368253, -1.0669855000000004], [52.03360633916026, -0.7640635], [51.54765285291366, -0.0601675], [53.79985711313213, -3.0221290000000005], [51.853102906308365, -2.2294175], [53.07120692951682, -0.7921350000000003], [51.616495409714645, -3.652869000000001], [55.61185560072989, -4.496779500000001], [54.94155570577247, -1.5685954999999998], [53.45602402261249, -2.3312305], [53.477292543329696, -1.0016434999999997], [51.37576552480028, -0.4120220000000001], [55.02674436272129, -1.62716], [54.17514165621084, -6.344167999999998], [55.13511300814875, -1.7396195], [54.32745988776401, -5.705072], [53.47534904324797, -2.3495664999999994], [50.391966954517855, -3.519233500000001], [53.50482601530084, -1.0750485], [50.74229888148258, -1.852607], [52.0571262016396, 1.1616629999999997], [51.02295143263842, -3.927119], [50.82010569218544, -0.499693], [51.56060768459776, 0.2105895], [53.419914903420405, -2.915427], [52.80280339743897, -0.8380554999999998], [51.39781057661456, -0.252754], [52.01761111567209, -0.229368], [51.73990077998931, 0.4784789999999999], [53.72958161796917, -1.8900305], [51.02295143263842, -3.927119], [51.54244893903978, -0.159403], [51.81193438704671, 0.7454515], [52.65780657883538, 0.156227], [51.394368557245095, 0.0262989999999999], [50.84781430101049, 0.4609985], [52.969744440802685, -1.1722659999999996], [53.91744938805915, -2.1852850000000004], [52.33555556, 0.91444444], [53.64833333, -1.82166667], [52.91556110309076, -1.4707784999999998], [54.8629493357831, -5.8251955], [54.970411, -1.666429], [52.77102, 0.187415], [55.85839558130999, -4.2417515], [53.419914903420405, -2.915427], [55.02801629516445, -1.458029], [57.78663118391636, -4.200440999999999], [53.47534904324797, -2.3495664999999994], [52.22713108182664, 0.511578], [51.54765285291366, -0.0601675], [57.78663118391636, -4.200440999999999], [51.44054535039476, -0.3069960000000001], [52.49405270288055, -1.8906405], [51.40491326863137, -1.2548425000000003], [51.50009845259365, -0.148936], [53.14868913006961, -1.1863639999999998], [51.546931093541325, -0.1091815], [51.39781057661456, -0.252754], [52.530541925714566, -2.2038685000000005], [53.54844035616542, -2.202075], [54.54242950391275, -3.579466499999999], [52.530541925714566, -2.2038685000000005], [51.49704302186007, -3.1798], [54.59591680133457, -5.928412999999999], [53.802038177843606, -1.5654900000000005], [51.45412060423482, -0.01799], [52.49405270288055, -1.8906405], [50.74229888148258, -1.852607], [53.74042, -0.2126], [53.79458633114398, -1.249127], [51.02295143263842, -3.927119], [51.50009845259365, -0.148936], [51.46034516709653, -0.1154059999999999], [51.39781057661456, -0.252754], [51.490020924854, -0.088161], [51.36215995446763, 1.1290525], [51.63335610131152, -2.6772815], [52.290781127298246, -2.1150725], [55.977181887158565, -4.052037], [53.91837488735421, -1.0988509999999998], [52.530541925714566, -2.2038685000000005], [51.88450818389225, -2.1855095], [54.5697379277102, -1.322], [51.59585202771581, -0.3370625], [53.44721721577191, -2.72983], [52.596279428808245, -1.999259], [51.63335610131152, -2.6772815], [54.37753397020612, -2.822569], [55.13511300814875, -1.7396195], [51.394368557245095, 0.0262989999999999], [51.14780056865431, 0.327605], [52.039182110055926, -2.4280390000000005], [55.85839558130999, -4.2417515], [50.88229482721381, -1.0286495], [53.71427619990924, -2.241185], [51.51448212166734, -0.0929105], [53.84119157314604, -3.032089000000001], [53.802038177843606, -1.5654900000000005], [52.65552136029736, -0.4871304999999999], [51.5271785, -0.0805213], [53.49745810140566, -1.285562], [51.39781057661456, -0.252754], [51.644318675742966, -3.945734999999999], [51.33536451019933, 1.3123455000000002], [53.419914903420405, -2.915427], [53.84119157314604, -3.032089000000001], [50.92135482814837, -1.3964669999999997], [51.63335610131152, -2.6772815], [55.94741091501819, -4.568294999999999], [51.46841029916232, 0.0893245], [51.27676464045431, 1.0901355], [51.45790063398809, -2.58539], [53.802038177843606, -1.5654900000000005], [54.12076232089952, -3.2125335000000006], [52.44725408864302, -1.7874955000000006], [51.50009845259365, -0.148936], [51.54765285291366, -0.0601675], [53.65511012384002, -2.1735065], [53.42500746506978, -1.2084370000000002], [53.41462347939496, -2.1556405], [51.63335610131152, -2.6772815], [52.02872122990461, -3.2106980000000007], [52.79187792, -1.25361395], [52.530541925714566, -2.2038685000000005], [51.45790063398809, -2.58539], [51.43036944, -1.20284167], [51.63335610131152, -2.6772815], [52.626293532909706, -1.13067], [55.85839558130999, -4.2417515], [51.51605982148212, 0.044914], [52.0571262016396, 1.1616629999999997], [53.60940388839056, -2.153001], [57.78663118391636, -4.200440999999999], [54.9920651180037, -1.6453615], [51.61191284168327, -0.2108945], [52.596279428808245, -1.999259], [50.74229888148258, -1.852607], [51.58500991494593, 0.0788629999999999], [55.943259273756, -3.2030085], [54.9920651180037, -1.6453615], [55.02801629516445, -1.458029], [51.576382, 0.011841], [53.419914903420405, -2.915427], [54.9779371296568, -1.4407025], [53.47534904324797, -2.3495664999999994], [51.39781057661456, -0.252754], [51.465826602329074, -2.492508], [52.49405270288055, -1.8906405], [57.50503183042213, -1.7952475], [52.03360633916026, -0.7640635], [51.89446585216564, -0.4323374999999999], [51.4081263733163, -0.8415085000000001], [53.20293020080783, -3.0294145], [51.39781057661456, -0.252754], [54.8611977832619, -1.5900065], [54.51730361356013, -1.3071290000000002], [56.49549125399503, -3.055158], [51.45255330711058, -0.9820305], [55.85992124362443, -4.031101499999999], [51.394368557245095, 0.0262989999999999], [52.530541925714566, -2.2038685000000005], [52.38107293044398, -2.2506990000000004], [51.54219923947426, -2.4225325], [55.85839558130999, -4.2417515], [55.85839558130999, -4.2417515], [52.583285350952416, -0.265658], [54.51603989375694, -6.062353500000001], [52.626293532909706, -1.13067], [51.51483911149297, -0.0350195], [54.94889131058395, -1.4448110000000003], [55.85839558130999, -4.2417515], [51.70706023305607, -0.619748], [50.74229888148258, -1.852607], [53.84119157314604, -3.032089000000001], [52.93828381112789, 1.2090070000000002], [51.43148, -0.515525], [52.583285350952416, -0.265658], [51.51483911149297, -0.0350195], [50.8889421918889, 0.3216755], [54.6316527208424, -1.644467], [54.53579056478005, -1.5538284999999998], [51.63335610131152, -2.6772815], [51.394368557245095, 0.0262989999999999], [51.465826602329074, -2.492508], [51.14780056865431, 0.327605], [51.64530734401061, -0.0991635], [51.26283898419042, -1.0945885000000002], [54.50636474177487, -6.767316999999999], [51.50379309930915, -0.18919], [51.58792119344532, -0.102162], [51.47951871451352, 0.1618535], [53.358274217720464, -2.8793305000000005], [51.54765285291366, -0.0601675], [52.969744440802685, -1.1722659999999996], [52.22713108182664, 0.511578], [56.47700935163645, -2.955045], [53.419914903420405, -2.915427], [53.71427619990924, -2.241185], [51.15663357, -0.17782603], [52.49375256382238, -2.1244420000000006], [52.55573593212342, -0.1326149999999999], [54.67043052702915, -5.964055999999999], [55.943259273756, -3.2030085], [53.419914903420405, -2.915427], [51.35895133231162, -0.092633], [51.63335610131152, -2.6772815], [51.49704302186007, -3.1798], [51.51605982148212, 0.044914], [51.56521809122742, -0.2631405], [55.12375402958675, -3.4468685000000003], [53.12977465530245, -1.272442], [51.524453101160745, -2.5650225], [52.90354938096474, -1.1835234999999995], [52.80280339743897, -0.8380554999999998], [52.530541925714566, -2.2038685000000005], [51.394368557245095, 0.0262989999999999], [50.72719903, -3.47507318], [51.45790063398809, -2.58539], [50.72719903, -3.47507318], [55.61537432992772, -2.8030545], [53.79458633114398, -1.249127], [51.61962120903687, 0.4110205], [51.21777778, 1.40388889], [54.9920651180037, -1.6453615], [51.61191284168327, -0.2108945], [53.75779567001227, -2.996768], [53.419914903420405, -2.915427], [53.25939054, -3.98170516], [50.710059743792215, -2.4395140000000004], [51.644318675742966, -3.945734999999999], [51.54765285291366, -0.0601675], [53.36759282440998, -2.1739835000000007], [55.932507, -3.140132], [51.51448212166734, -0.0929105], [51.53707969560851, -0.4423609999999999], [53.456983702037085, -2.233480000000001], [53.14868913006961, -1.1863639999999998], [52.23888471672323, -0.8829510000000002], [51.490020924854, -0.088161], [52.92351685443825, -1.128591], [51.394368557245095, 0.0262989999999999], [51.32440435878898, -2.2034], [52.59119126995395, -0.283451], [51.544829907267776, 0.024996], [52.626293532909706, -1.13067], [51.46034516709653, -0.1154059999999999], [53.6903684346329, -1.785921], [51.51448212166734, -0.0929105], [53.38263616563445, -2.5933005], [51.44054535039476, -0.3069960000000001], [51.49839328713241, -0.216108], [51.59585202771581, -0.3370625], [51.54765285291366, -0.0601675], [50.84034002985045, -0.130356], [52.23888471672323, -0.8829510000000002], [55.46607469435491, -4.624916500000001], [57.47197179293184, -4.2219125], [55.943259273756, -3.2030085], [51.51605982148212, 0.044914], [56.069981598498245, -4.334705999999999], [51.43697641004324, -2.8549455000000004], [52.03858742153511, 0.7365905], [51.394368557245095, 0.0262989999999999], [55.51713771245785, -4.3802555000000005], [51.60670106317219, -3.812973500000001], [52.03360633916026, -0.7640635], [55.943259273756, -3.2030085], [54.9779371296568, -1.4407025], [51.926925427375245, 0.7013054999999998], [51.12919171037765, -3.0054000000000003], [51.23643089192935, -0.5701174999999999], [53.00279156026351, -2.2798315], [53.77411355102777, -2.7016375000000004], [53.6833536, -1.50423026], [53.47079867, -2.29545736], [53.06250276008721, -1.33039], [50.84092416818578, -0.7874559999999998], [52.62211889266382, -1.683398], [51.888713732289546, 0.8988910000000001], [51.26214695188809, -2.9870915], [52.49405270288055, -1.8906405], [53.43301858470882, -1.3668674999999997], [57.1605717487859, -2.1270405], [51.02295143263842, -3.927119], [53.77411355102777, -2.7016375000000004], [52.530541925714566, -2.2038685000000005], [52.41214485808566, -4.001617], [51.58792119344532, -0.102162], [52.20098398787838, 0.1359159999999999], [51.50379309930915, -0.18919], [53.38322877572023, -1.4496120000000003], [51.394368557245095, 0.0262989999999999], [51.90230713909839, -0.1909514999999999], [52.0571262016396, 1.1616629999999997], [53.38322877572023, -1.4496120000000003], [52.916607589459744, -2.298134], [51.08973150514212, -0.7201344999999999], [51.18008374979275, -0.609948], [52.626293532909706, -1.13067], [52.11937731784101, -2.3200565], [51.59585202771581, -0.3370625], [51.39007140862319, -0.278464], [51.394368557245095, 0.0262989999999999], [51.35895133231162, -0.092633], [51.361915086985626, -0.1815875], [51.54765285291366, -0.0601675], [51.23073568064819, -2.3158515], [55.85839558130999, -4.2417515], [51.27676464045431, 1.0901355], [54.678996915358894, -1.216432], [51.59585202771581, -0.3370625], [54.75980522083087, -1.3381829999999997], [51.58792119344532, -0.102162], [51.56521809122742, -0.2631405], [51.51476447266411, -0.29743], [51.676323, -3.542993], [54.59591680133457, -5.928412999999999], [51.2667, -1.08333], [51.50711486, -0.12731805], [50.84034002985045, -0.130356], [51.599263128359, -0.018734], [54.51603989375694, -6.062353500000001], [53.456983702037085, -2.233480000000001], [51.79661280900454, -0.0777585], [51.394368557245095, 0.0262989999999999], [51.51483911149297, -0.0350195], [51.59585202771581, -0.3370625], [50.84034002985045, -0.130356], [51.66512059670472, -3.2209625000000006], [53.456983702037085, -2.233480000000001], [53.802038177843606, -1.5654900000000005], [52.626293532909706, -1.13067], [50.84034002985045, -0.130356], [53.33373983363341, -2.664049], [55.04009406199007, -1.7527905], [51.361915086985626, -0.1815875], [53.40638889, -3.11833333], [53.802038177843606, -1.5654900000000005], [51.599263128359, -0.018734], [53.47045917281744, -2.0964385], [52.530541925714566, -2.2038685000000005], [50.91808335, -1.39231968], [51.2667, -1.08333], [51.50379309930915, -0.18919], [53.38263616563445, -2.5933005], [51.70706023305607, -0.619748], [54.86376699902865, -6.290965500000001], [52.916607589459744, -2.298134], [53.419914903420405, -2.915427], [51.54244893903978, -0.159403], [55.888357164286205, -4.8915935], [51.636640259876245, -0.6839585], [51.63335610131152, -2.6772815], [55.85839558130999, -4.2417515], [51.54765285291366, -0.0601675], [51.51448212166734, -0.0929105], [52.916607589459744, -2.298134], [51.07780640731842, -0.8027400000000003], [51.54219923947426, -2.4225325], [51.49839328713241, -0.216108], [55.13511300814875, -1.7396195], [51.451674884083495, -0.1937195], [55.85839558130999, -4.2417515], [51.56060768459776, 0.2105895], [55.77871485964874, -3.919737], [54.75980522083087, -1.3381829999999997], [53.49745810140566, -1.285562], [53.53073471642859, -2.4874310000000004], [51.53707969560851, -0.4423609999999999], [51.56060768459776, 0.2105895], [51.394368557245095, 0.0262989999999999], [51.926925427375245, 0.7013054999999998], [51.488774, -0.222475], [51.53707969560851, -0.4423609999999999], [51.39781057661456, -0.252754], [51.46469310439313, -0.0706035], [54.88161261656938, -1.4236290000000005], [55.943259273756, -3.2030085], [51.51448212166734, -0.0929105], [51.56521809122742, -0.2631405], [51.50711486, -0.12731805], [49.4333, -2.65], [51.63335610131152, -2.6772815], [50.74393070677674, -1.7460660000000003], [55.12375402958675, -3.4468685000000003], [51.676323, -3.542993], [51.64530734401061, -0.0991635], [51.50379309930915, -0.18919], [51.76827386362998, 0.106737], [51.46841029916232, 0.0893245], [52.49405270288055, -1.8906405], [51.47951871451352, 0.1618535], [52.49405270288055, -1.8906405], [51.50520381, -0.13689175], [52.22713108182664, 0.511578], [53.419914903420405, -2.915427], [52.20098398787838, 0.1359159999999999], [51.37116768457937, 0.5824535000000001], [54.59591680133457, -5.928412999999999], [53.38322877572023, -1.4496120000000003], [51.33872944477839, -0.8296719999999999], [51.61837199338572, 0.076326], [52.49405270288055, -1.8906405], [53.41462347939496, -2.1556405], [51.51476447266411, -0.29743], [54.9779371296568, -1.4407025], [50.78203303384379, 0.286119], [51.43362577820576, -2.7615755], [55.85839558130999, -4.2417515], [51.64530734401061, -0.0991635], [49.19293517135404, -2.2010590000000008], [51.50379309930915, -0.18919], [51.63335610131152, -2.6772815], [53.75779567001227, -2.996768], [52.22713108182664, 0.511578], [55.80135874607209, -3.984748], [54.6998097, -5.94956197], [51.451674884083495, -0.1937195], [54.678996915358894, -1.216432], [53.456983702037085, -2.233480000000001], [54.984881721800384, -1.5710735], [53.456983702037085, -2.233480000000001], [51.89632636441313, -2.0877745], [55.75947448152295, -4.186459999999999], [53.75172380053243, -2.378431999999999], [52.969744440802685, -1.1722659999999996], [52.1949280184406, -2.21187], [53.802038177843606, -1.5654900000000005], [51.49839328713241, -0.216108], [56.47700935163645, -2.955045], [51.54244893903978, -0.159403], [54.9779371296568, -1.4407025], [51.58500991494593, 0.0788629999999999], [51.3169812270552, -0.7356860000000001], [51.465826602329074, -2.492508], [51.394368557245095, 0.0262989999999999], [55.94741091501819, -4.568294999999999], [53.22732943, -2.82651925], [51.51483911149297, -0.0350195], [52.596279428808245, -1.999259], [52.91556110309076, -1.4707784999999998], [51.45790063398809, -2.58539], [51.46179093953856, -0.3506925], [51.54765285291366, -0.0601675], [52.37427738933978, -1.253726], [53.802038177843606, -1.5654900000000005], [56.47700935163645, -2.955045], [52.626293532909706, -1.13067], [52.41195046288927, -1.5186515], [50.84034002985045, -0.130356], [51.54765285291366, -0.0601675], [50.92135482814837, -1.3964669999999997], [51.35895133231162, -0.092633], [53.85517461081592, -2.222309], [51.56521809122742, -0.2631405], [51.676323, -3.542993], [52.039182110055926, -2.4280390000000005], [51.63335610131152, -2.6772815], [55.61185560072989, -4.496779500000001], [53.456983702037085, -2.233480000000001], [51.39781057661456, -0.252754], [52.916607589459744, -2.298134], [55.89739261264143, -3.696995], [54.60276942508207, -1.2714555], [53.7343414406204, -2.669629], [50.92135482814837, -1.3964669999999997], [51.50009845259365, -0.148936], [52.530541925714566, -2.2038685000000005], [53.419914903420405, -2.915427], [51.39781057661456, -0.252754], [51.37116768457937, 0.5824535000000001], [55.977181887158565, -4.052037], [52.49405270288055, -1.8906405], [51.36875707521277, -0.4952195000000001], [53.72853598842583, -2.4837505], [52.969744440802685, -1.1722659999999996], [52.61594097704438, -2.4762309999999994], [51.394368557245095, 0.0262989999999999], [53.456983702037085, -2.233480000000001], [51.523853, -0.127104], [51.8940473990251, -0.5175495000000001], [51.54765285291366, -0.0601675], [51.47151451957592, 0.0149895], [55.12375402958675, -3.4468685000000003], [51.54765285291366, -0.0601675], [50.83958338001748, -0.1917229999999999], [51.81301751445573, -2.6165385], [52.91704054592388, -1.3120369999999997], [51.62117443078567, -4.026033000000001], [57.1605717487859, -2.1270405], [54.9779371296568, -1.4407025], [53.71427619990924, -2.241185], [51.75429938787856, -1.2334335000000003], [52.48637995245303, -0.6840599999999999], [53.589899524748894, -0.6419345000000002], [51.46469310439313, -0.0706035], [51.14216412114232, 0.2515055], [54.57928463999637, -0.981929], [51.490020924854, -0.088161], [51.61191284168327, -0.2108945], [51.394368557245095, 0.0262989999999999], [51.5615582, -0.0735528], [53.22073232033591, -0.54739], [57.1605717487859, -2.1270405], [51.46841029916232, 0.0893245], [51.676323, -3.542993], [51.64530734401061, -0.0991635], [51.56521809122742, -0.2631405], [54.59591680133457, -5.928412999999999], [53.84119157314604, -3.032089000000001], [52.80623228300398, -1.6364945000000004], [53.84119157314604, -3.032089000000001], [51.59356948686316, -3.312432], [53.30978937331829, -1.4583060000000003], [51.48470686, -3.17453384], [51.644318675742966, -3.945734999999999], [53.08999325989027, -1.2516219999999998], [51.64090092075878, 0.0611209999999999], [53.69084911812594, -1.3043975], [55.82553801, -4.25200524], [52.41214485808566, -4.001617], [51.56060768459776, 0.2105895], [55.052489362081296, -7.267620000000002], [55.67978914309615, -4.068760999999999], [53.9394953936082, -1.2074825000000002], [51.546931093541325, -0.1091815], [53.58071287134156, -2.3047580000000005], [56.10765259026592, -3.9335910000000007], [52.626293532909706, -1.13067], [53.456983702037085, -2.233480000000001], [52.91556110309076, -1.4707784999999998], [54.89924650764616, -1.385366], [51.48651958815168, 0.317777], [54.07111124598568, -2.7751315], [53.67654530233322, -1.698456], [55.99873890954781, -2.5222014999999995], [51.56060768459776, 0.2105895], [51.39781057661456, -0.252754], [51.39781057661456, -0.252754], [53.456983702037085, -2.233480000000001], [52.626293532909706, -1.13067], [50.84034002985045, -0.130356], [56.47700935163645, -2.955045], [51.3960205470363, -1.319187], [51.43588946141834, -3.185842500000001], [51.51605982148212, 0.044914], [52.297656565581015, -1.930983], [54.98, -1.62], [53.51766460606289, -1.1393599999999997], [51.54244893903978, -0.159403], [52.23888471672323, -0.8829510000000002], [54.64768107500438, -5.667601], [51.47951871451352, 0.1618535], [53.42500746506978, -1.2084370000000002], [51.5248433429905, -0.173115], [51.48651958815168, 0.317777], [53.84127387951994, -0.4250254999999999], [53.76697541224076, -1.088855], [53.76584968269761, -0.3339425], [50.81887558368253, -1.0669855000000004], [54.41247581263397, -6.147911999999999], [54.59591680133457, -5.928412999999999], [53.84119157314604, -3.032089000000001], [53.589899524748894, -0.6419345000000002], [53.52036147492184, -2.5520515], [52.60952590992789, -2.0193015], [51.525858677989454, -1.1290105], [52.59227235125538, -2.1064074999999995], [51.286357102878206, -0.169846], [57.78663118391636, -4.200440999999999], [53.456983702037085, -2.233480000000001], [54.51603989375694, -6.062353500000001], [51.63335610131152, -2.6772815], [57.67958777715052, -4.033673], [53.43301858470882, -1.3668674999999997], [53.05343201499378, -2.982074], [51.34478318217043, -0.2609154999999999], [51.5248433429905, -0.173115], [52.626293532909706, -1.13067], [53.32361549801847, -2.2338195000000005], [50.81887558368253, -1.0669855000000004], [51.50009845259365, -0.148936], [52.37427738933978, -1.253726], [51.39781057661456, -0.252754], [51.59356948686316, -3.312432], [51.5248433429905, -0.173115], [52.22713108182664, 0.511578], [51.50009845259365, -0.148936], [51.37576552480028, -0.4120220000000001], [50.74229888148258, -1.852607], [51.54765285291366, -0.0601675], [56.47700935163645, -2.955045], [53.419914903420405, -2.915427], [51.45255330711058, -0.9820305], [54.53579056478005, -1.5538284999999998], [55.46607469435491, -4.624916500000001], [53.221241, -2.88519], [51.51483911149297, -0.0350195], [56.01009007520037, -3.6022575000000003], [53.47534904324797, -2.3495664999999994], [53.75779567001227, -2.996768], [53.38322877572023, -1.4496120000000003], [53.72958161796917, -1.8900305], [51.46034516709653, -0.1154059999999999], [53.79423712785474, -2.264325], [51.5248433429905, -0.173115], [51.39781057661456, -0.252754], [53.4833, -2.26667], [52.20098398787838, 0.1359159999999999], [51.37667922182908, -0.3465494999999999], [55.943259273756, -3.2030085], [52.98533808533774, -1.1140985000000003], [53.38322877572023, -1.4496120000000003], [52.22713108182664, 0.511578], [51.56060768459776, 0.2105895], [51.30281455587757, 0.5426174999999999], [55.85839558130999, -4.2417515], [51.45790063398809, -2.58539], [51.54221152, -0.17447233], [52.7152444640889, -2.7621095], [54.07111124598568, -2.7751315], [51.676323, -3.542993], [51.75228868262215, -0.4675694999999999], [52.2429228, 0.7104932], [51.51767338, -0.13927727], [52.969744440802685, -1.1722659999999996], [51.394368557245095, 0.0262989999999999], [51.56060768459776, 0.2105895], [51.56521809122742, -0.2631405], [53.16914977088017, -0.5322144999999999], [51.74180653495327, 0.0108314999999999], [51.45790063398809, -2.58539], [56.165077669777176, -3.1404680000000003], [51.64515665609943, -3.128604], [53.419914903420405, -2.915427], [53.09212588142911, -2.4568145], [53.802038177843606, -1.5654900000000005], [54.89924650764616, -1.385366], [53.729485335569485, -1.9838625], [56.47700935163645, -2.955045], [51.90230713909839, -0.1909514999999999], [51.45412060423482, -0.01799], [50.8959087, -1.3614802], [53.9394953936082, -1.2074825000000002], [52.969744440802685, -1.1722659999999996], [52.41195046288927, -1.5186515], [50.83958338001748, -0.1917229999999999], [51.51448212166734, -0.0929105], [51.53707969560851, -0.4423609999999999], [51.50724666, -0.12771606], [54.17514165621084, -6.344167999999998], [52.41195046288927, -1.5186515], [51.5248433429905, -0.173115], [55.943259273756, -3.2030085], [52.98533808533774, -1.1140985000000003], [51.39781057661456, -0.252754], [51.08260421545904, -4.052469500000001], [54.53579056478005, -1.5538284999999998], [53.01941871958767, -2.1540125], [51.44385985231367, 0.13187], [55.943259273756, -3.2030085], [57.188779263340585, -2.201773], [53.469862766255794, -3.0044560000000007], [54.40535128356525, -1.7348125], [55.00619740232842, -7.312944999999999], [51.53485310087783, -2.3926225], [54.9920651180037, -1.6453615], [52.44725408864302, -1.7874955000000006], [51.49704302186007, -3.1798], [51.46192602344183, 0.3605635], [54.67505086172861, -6.81351], [53.83870413358168, -2.8821154999999994], [53.589899524748894, -0.6419345000000002], [55.85839558130999, -4.2417515], [52.80774725109728, 0.0134424999999999], [53.419914903420405, -2.915427], [57.1605717487859, -2.1270405], [51.36215995446763, 1.1290525], [55.85839558130999, -4.2417515], [55.02801629516445, -1.458029], [57.47197179293184, -4.2219125], [55.85839558130999, -4.2417515], [51.51448212166734, -0.0929105], [51.54244893903978, -0.159403], [51.34680651501751, -2.9451295000000006], [51.394368557245095, 0.0262989999999999], [52.59533862360877, -0.6373869999999999], [53.81595415863419, -1.7668200000000005], [56.80771669844094, -5.116401499999999], [50.97366911983044, -1.3743525], [51.45605182, -2.59314023], [51.06424442981939, -1.3255455000000005], [51.394368557245095, 0.0262989999999999], [53.38203443966408, -2.473425], [53.36274027216741, -3.0394275000000004], [51.39781057661456, -0.252754], [51.75228868262215, -0.4675694999999999], [51.35895133231162, -0.092633], [53.456983702037085, -2.233480000000001], [52.80416803941673, -2.104833], [52.48637995245303, -0.6840599999999999], [51.80108326261314, -4.9798935], [51.394368557245095, 0.0262989999999999], [52.7684076935764, -1.2920579999999997], [51.7584379769822, -2.537534], [55.85839558130999, -4.2417515], [53.62696614500941, -2.7602795], [50.27972222, -3.90027778], [51.39781057661456, -0.252754], [54.67837877, -1.21552836], [52.23888471672323, -0.8829510000000002], [53.9394953936082, -1.2074825000000002], [51.49839328713241, -0.216108], [50.40223082859258, -4.142929999999999], [54.17514165621084, -6.344167999999998], [53.40021124827171, -2.3267745], [52.05787637713311, -2.7131525], [51.20674530290184, -1.6711140000000002], [52.64150315634781, 1.2730815], [51.40824922, -0.30479489], [53.456983702037085, -2.233480000000001], [52.59227235125538, -2.1064074999999995], [56.12609661195722, -3.321336000000001], [52.666729751780885, -1.7708645000000007], [52.49405270288055, -1.8906405], [52.98533808533774, -1.1140985000000003], [51.34336151798615, 0.7322574999999998], [51.46469310439313, -0.0706035], [50.91464801183099, -1.299116], [51.39781057661456, -0.252754], [56.01128453785989, -3.7142625000000007], [51.89446585216564, -0.4323374999999999], [54.71877170611247, -1.508425], [55.80135874607209, -3.984748], [52.63182827240737, -0.4076114999999999], [52.49405270288055, -1.8906405], [51.56521809122742, -0.2631405], [52.80280339743897, -0.8380554999999998], [55.75947448152295, -4.186459999999999], [51.02295143263842, -3.927119], [53.97951399246983, -1.1496285], [51.44054535039476, -0.3069960000000001], [53.802038177843606, -1.5654900000000005], [56.12043338460726, -3.792553999999999], [51.754062585659184, -0.2307385], [55.83729586045824, -3.2229735], [54.67505086172861, -6.81351], [51.48651958815168, 0.317777], [51.02295143263842, -3.927119], [52.41214485808566, -4.001617], [57.78663118391636, -4.200440999999999], [53.51766460606289, -1.1393599999999997], [51.544829907267776, 0.024996], [51.50335435, -0.11918868], [50.99482171853941, -1.4773725], [50.35753381659547, -4.086547000000002], [51.02295143263842, -3.927119], [53.38322877572023, -1.4496120000000003], [51.58792119344532, -0.102162], [53.751418806831815, -0.4392864999999999], [53.419914903420405, -2.915427], [55.13511300814875, -1.7396195], [51.02295143263842, -3.927119], [51.410893464308295, -0.189289], [56.006445104608446, -4.730067], [55.85839558130999, -4.2417515], [51.5730271279188, -1.7856895], [53.589899524748894, -0.6419345000000002], [52.9244514967954, -1.2301575], [55.943259273756, -3.2030085], [53.84119157314604, -3.032089000000001], [52.98533808533774, -1.1140985000000003], [51.451674884083495, -0.1937195], [54.51603989375694, -6.062353500000001], [51.51448212166734, -0.0929105], [51.79661280900454, -0.0777585], [53.47181, -2.66541], [52.51490546110416, -2.0093330000000003], [51.02295143263842, -3.927119], [54.53579056478005, -1.5538284999999998], [53.802038177843606, -1.5654900000000005], [51.39699023502833, -0.6496110000000002], [56.839140054666, -5.103829500000001], [53.77411355102777, -2.7016375000000004], [51.71451998155369, -1.965469], [55.8761998843784, -3.114289999999999], [56.10765259026592, -3.9335910000000007], [55.85839558130999, -4.2417515], [51.68458404150992, 0.7593534999999999], [50.40223082859258, -4.142929999999999], [51.13241515126608, 1.302505], [51.5248433429905, -0.173115], [51.27676464045431, 1.0901355], [53.1902386307094, -1.0660135000000004], [53.419914903420405, -2.915427], [53.73960789845943, -1.5909519999999997], [51.546931093541325, -0.1091815], [53.9394953936082, -1.2074825000000002], [50.84034002985045, -0.130356], [52.5801490926246, -2.147965], [53.51766460606289, -1.1393599999999997], [55.77819600078368, -4.0662275], [51.75429938787856, -1.2334335000000003], [51.96582537838719, 1.3380539999999996], [53.456983702037085, -2.233480000000001], [51.45412060423482, -0.01799], [53.41462347939496, -2.1556405], [51.50009845259365, -0.148936], [52.39592256202304, -0.7156244999999998], [54.9920651180037, -1.6453615], [51.59093822214072, 0.6128184999999998], [53.215092029758, -1.6790850000000004], [51.53707969560851, -0.4423609999999999], [52.53921621015078, -1.3761374999999998], [51.02295143263842, -3.927119], [51.71378365999893, -1.589826], [51.53707969560851, -0.4423609999999999], [51.17969062655831, 0.3893485], [56.06719126905753, -3.452863], [51.61785957420364, -0.7377640000000001], [51.51605982148212, 0.044914], [55.943259273756, -3.2030085], [55.85839558130999, -4.2417515], [54.07111124598568, -2.7751315], [52.36371583157788, -2.0521725], [54.005871, -2.784528], [51.4529, -0.0345], [55.79427478258159, -4.291421499999999], [51.86103475739194, 0.4581054999999999], [55.943259273756, -3.2030085], [51.544829907267776, 0.024996], [53.77262204822704, -2.3807945], [51.51448212166734, -0.0929105], [51.45790063398809, -2.58539], [51.46469310439313, -0.0706035], [51.58749713323214, -3.634682], [51.27676464045431, 1.0901355], [53.47534904324797, -2.3495664999999994], [52.22713108182664, 0.511578], [54.984881721800384, -1.5710735], [53.6792051971325, -1.5085449999999998], [51.75244984571884, -0.3204420000000001], [53.18910568029201, -2.519759], [55.84518757887823, -3.0502590000000005], [53.9394953936082, -1.2074825000000002], [51.49665411, -0.17228245], [53.36274027216741, -3.0394275000000004], [51.37116768457937, 0.5824535000000001], [51.49704302186007, -3.1798], [52.41214485808566, -4.001617], [52.052777, -2.702861], [51.28594214670877, -2.4810844999999992], [55.82755224165754, -4.0624], [51.85938211625717, 0.5301245], [51.61191284168327, -0.2108945], [51.12773719364318, -0.1868325], [53.802038177843606, -1.5654900000000005], [51.45255330711058, -0.9820305], [51.39781057661456, -0.252754], [53.34254584828677, -1.275379], [50.831351509424366, -0.3900409999999999], [50.207002705561365, -5.068740999999999], [51.46034516709653, -0.1154059999999999], [54.56671946897897, -5.883101], [51.02295143263842, -3.927119], [52.08798960493797, -1.6498325], [52.50225990679245, -0.7580544999999999], [51.59585202771581, -0.3370625], [52.27195176, -0.88308485], [53.456983702037085, -2.233480000000001], [52.49405270288055, -1.8906405], [53.32361549801847, -2.2338195000000005], [52.083073386764354, 0.4332009999999999], [51.02295143263842, -3.927119], [51.57044795545623, 0.4571355], [51.599263128359, -0.018734], [53.70184613556756, -1.664672], [53.01941871958767, -2.1540125], [52.49405270288055, -1.8906405], [54.82073746095298, -1.6271020000000005], [52.5801490926246, -2.147965], [55.85839558130999, -4.2417515], [52.59227235125538, -2.1064074999999995], [53.75172380053243, -2.378431999999999], [50.9, -1.4], [51.3729299, -0.0925956], [51.84591488588173, 1.24353], [51.44385985231367, 0.13187], [53.802038177843606, -1.5654900000000005], [51.39781057661456, -0.252754], [53.47534904324797, -2.3495664999999994], [52.98533808533774, -1.1140985000000003], [51.5318730198455, -3.382911499999999], [55.82757370569622, -3.697002], [51.75244984571884, -0.3204420000000001], [52.23888471672323, -0.8829510000000002], [51.47951871451352, 0.1618535], [51.14107968851924, -0.04936], [53.77262204822704, -2.3807945], [51.4310732371099, -2.6590935], [52.20098398787838, 0.1359159999999999], [51.49839328713241, -0.216108], [50.74393070677674, -1.7460660000000003], [54.86376699902865, -6.290965500000001], [52.65088638167118, -2.1340110000000005], [51.45790063398809, -2.58539], [50.81887558368253, -1.0669855000000004], [51.74993881, -0.34017639], [52.79459683906733, -3.079494], [53.86422540726752, -1.6943359999999998], [50.78203303384379, 0.286119], [55.92702060274586, -4.328935000000001], [51.47151451957592, 0.0149895], [52.41214485808566, -4.001617], [53.50917541576678, -1.0381214999999997], [50.92135482814837, -1.3964669999999997], [51.754062585659184, -0.2307385], [51.46034516709653, -0.1154059999999999], [50.81887558368253, -1.0669855000000004], [51.47951871451352, 0.1618535], [51.75244984571884, -0.3204420000000001], [53.79985711313213, -3.0221290000000005], [52.29326602024312, -1.5314200000000004], [51.644318675742966, -3.945734999999999], [51.394368557245095, 0.0262989999999999], [53.50156034651659, -2.504527], [53.802038177843606, -1.5654900000000005], [51.47151451957592, 0.0149895], [51.45412060423482, -0.01799], [51.39781057661456, -0.252754], [52.330170297959, -0.0311444999999999], [53.47534904324797, -2.3495664999999994], [52.37427738933978, -1.253726], [53.69631191069968, -1.4058525], [51.5730271279188, -1.7856895], [52.699667061681005, -2.0080795], [55.85839558130999, -4.2417515], [52.530541925714566, -2.2038685000000005], [54.5697379277102, -1.322], [51.46135998, -0.21984802], [52.77159517, -1.55629528], [55.85839558130999, -4.2417515], [51.451674884083495, -0.1937195], [55.93152788454982, -4.145042], [53.07953843287652, -0.9581475], [51.49704302186007, -3.1798], [53.84119157314604, -3.032089000000001], [52.969744440802685, -1.1722659999999996], [55.75947448152295, -4.186459999999999], [53.507529055528494, -2.4530959999999995], [55.85839558130999, -4.2417515], [55.93925448555986, -4.755876000000001], [51.41231012, 0.01795765], [53.51766460606289, -1.1393599999999997], [51.65489337413365, -3.503459], [51.26283898419042, -1.0945885000000002], [55.46607469435491, -4.624916500000001], [52.08515709788065, -0.2515914999999999], [52.133060278189184, -0.2904545], [52.49405270288055, -1.8906405], [52.49405270288055, -1.8906405], [51.51147227118175, -0.7383080000000001], [51.27133323628585, 1.3441445], [52.530541925714566, -2.2038685000000005], [54.46556743994593, -6.263556000000001], [51.49960344, -0.16305269], [52.48416375, -1.89943716], [51.50934445, -0.05710022], [51.5248433429905, -0.173115], [53.33822223298712, -0.579844], [53.11122462050015, -0.327268], [53.96622242873735, -1.0853244999999998], [53.40021124827171, -2.3267745], [54.59591680133457, -5.928412999999999], [54.94155570577247, -1.5685954999999998], [55.93152788454982, -4.145042], [53.41462347939496, -2.1556405], [51.41141315702481, 0.181815], [51.51377451, -0.09902282], [51.37576552480028, -0.4120220000000001], [53.9394953936082, -1.2074825000000002], [53.9394953936082, -1.2074825000000002], [51.490020924854, -0.088161], [54.9779371296568, -1.4407025], [53.08306926, 0.14451541], [51.44054535039476, -0.3069960000000001], [51.45790063398809, -2.58539], [53.6792051971325, -1.5085449999999998], [55.85839558130999, -4.2417515], [51.557009722728935, 0.5883470000000002], [55.943259273756, -3.2030085], [50.40223082859258, -4.142929999999999], [51.61191284168327, -0.2108945], [52.39057634418738, -1.8800145], [57.78663118391636, -4.200440999999999], [57.50503183042213, -1.7952475], [50.92135482814837, -1.3964669999999997], [51.481797, -0.22315], [56.64118209699307, -2.8904995], [53.58421048880526, -2.434952499999999], [55.13511300814875, -1.7396195], [52.0275227280702, 0.0372975], [56.47700935163645, -2.955045], [52.626293532909706, -1.13067], [52.530541925714566, -2.2038685000000005], [51.61191284168327, -0.2108945], [51.50009845259365, -0.148936], [52.49375256382238, -2.1244420000000006], [54.07111124598568, -2.7751315], [52.33144269224125, -2.057782], [50.63189499663584, -1.183271], [51.51335926, -0.12219563], [51.56060768459776, 0.2105895], [53.3106856915739, -1.121609], [56.47700935163645, -2.955045], [52.083073386764354, 0.4332009999999999], [56.10765259026592, -3.9335910000000007], [51.46469310439313, -0.0706035], [52.49063021194058, -0.292387], [52.41214485808566, -4.001617], [55.943259273756, -3.2030085], [52.22713108182664, 0.511578], [54.42647185476059, -6.435734000000001], [52.1949280184406, -2.21187], [51.47518, -0.04711], [52.6381845366599, -2.450214], [53.4230201162132, -2.5194485], [51.76827386362998, 0.106737], [52.45460878021511, 0.051168], [51.88955224701976, 0.553941], [57.67958777715052, -4.033673], [53.47504018529552, -2.8820060000000005], [53.419914903420405, -2.915427], [52.15774715711621, -1.5095769999999995], [51.45790063398809, -2.58539], [52.51490546110416, -2.0093330000000003], [51.3796579047764, -2.3669329999999995], [51.51605982148212, 0.044914], [51.54130201, -0.02673323], [53.419914903420405, -2.915427], [53.54627311144873, -2.7743115], [55.82093124706946, -4.172645999999999], [51.888713732289546, 0.8988910000000001], [51.89632636441313, -2.0877745], [51.451674884083495, -0.1937195], [51.6455979668541, -3.029984], [51.64530734401061, -0.0991635], [53.69778886883696, -2.7099355], [51.39781057661456, -0.252754], [51.34642710195303, -2.100017], [51.24282666879107, -1.2677835], [50.961449705797406, -0.5591980000000001], [51.41960284420814, -0.452501], [51.02295143263842, -3.927119], [53.77411355102777, -2.7016375000000004], [52.22713108182664, 0.511578], [52.41195046288927, -1.5186515], [51.46469310439313, -0.0706035], [52.51667364180294, -1.4813514999999997], [51.54765285291366, -0.0601675], [51.59091, -0.1413], [53.419914903420405, -2.915427], [53.73662391234628, -2.7227559999999995], [54.46556743994593, -6.263556000000001], [55.85839558130999, -4.2417515], [51.546931093541325, -0.1091815], [53.9394953936082, -1.2074825000000002], [51.44054535039476, -0.3069960000000001], [51.51471384647618, -0.5925995], [55.82553801, -4.25200524], [51.490020924854, -0.088161], [51.54776546, -0.90197972], [51.286357102878206, -0.169846], [52.59227235125538, -2.1064074999999995], [52.49405270288055, -1.8906405], [53.38322877572023, -1.4496120000000003], [53.419914903420405, -2.915427], [55.13511300814875, -1.7396195], [51.58500991494593, 0.0788629999999999], [50.92135482814837, -1.3964669999999997], [51.54765285291366, -0.0601675], [51.66512059670472, -3.2209625000000006], [50.40223082859258, -4.142929999999999], [53.7997, -1.5492], [53.3106856915739, -1.121609], [53.38322877572023, -1.4496120000000003], [51.410893464308295, -0.189289], [55.85839558130999, -4.2417515], [55.1333254370988, -6.662939999999999], [52.59286965724111, -1.096631], [54.04410105870456, -2.8027800000000007], [51.64719818626464, -0.7084465], [52.59286965724111, -1.096631], [51.7803801, -0.0419587], [55.00619740232842, -7.312944999999999], [52.22713108182664, 0.511578], [52.45662668327489, -1.408847], [51.75429938787856, -1.2334335000000003], [51.62174798290239, 0.3084395], [51.5248433429905, -0.173115], [51.64530734401061, -0.0991635], [55.75146596752773, -4.6355855], [53.72853598842583, -2.4837505], [50.958703185209714, -0.3052224999999999], [51.45790063398809, -2.58539], [51.58500991494593, 0.0788629999999999], [51.71693708550789, -3.860929], [50.81887558368253, -1.0669855000000004], [51.58567402626544, -3.0258350000000007], [51.56060768459776, 0.2105895], [55.9195721045616, -3.037609], [53.54347057254045, -2.6532380000000004], [51.46046666, -0.16718402], [56.035449172411866, -3.4129024999999995], [54.59591680133457, -5.928412999999999], [52.49375256382238, -2.1244420000000006], [52.59227235125538, -2.1064074999999995], [55.13511300814875, -1.7396195], [53.77411355102777, -2.7016375000000004], [53.76584968269761, -0.3339425], [55.86243939, -4.30924666], [54.9920651180037, -1.6453615], [53.64742271951225, -1.811758], [52.626293532909706, -1.13067], [53.47045917281744, -2.0964385], [50.84034002985045, -0.130356], [50.34960163706057, -3.568147], [53.60940388839056, -2.153001], [51.58500991494593, 0.0788629999999999], [51.39781057661456, -0.252754], [51.48651958815168, 0.317777], [53.802038177843606, -1.5654900000000005], [54.55942740993167, -1.2225015000000004], [50.40223082859258, -4.142929999999999], [51.46841029916232, 0.0893245], [51.5248433429905, -0.173115], [50.2879915824549, -5.080609500000001], [53.96622242873735, -1.0853244999999998], [53.64972518212148, -1.6025160000000005], [51.37576552480028, -0.4120220000000001], [53.41462347939496, -2.1556405], [53.802038177843606, -1.5654900000000005], [51.54244893903978, -0.159403], [53.08999325989027, -1.2516219999999998], [51.394368557245095, 0.0262989999999999], [55.943259273756, -3.2030085], [52.22713108182664, 0.511578], [51.39781057661456, -0.252754], [53.9394953936082, -1.2074825000000002], [51.62117443078567, -4.026033000000001], [50.84982347, -0.98606003], [51.63335610131152, -2.6772815], [51.54244893903978, -0.159403], [51.39007140862319, -0.278464], [53.456983702037085, -2.233480000000001], [51.490020924854, -0.088161], [51.46192602344183, 0.3605635], [51.394368557245095, 0.0262989999999999], [54.59591680133457, -5.928412999999999], [51.26359597209301, 0.5277305000000001], [51.34336151798615, 0.7322574999999998], [52.22713108182664, 0.511578], [51.50379309930915, -0.18919], [52.22713108182664, 0.511578], [51.54765285291366, -0.0601675], [51.394368557245095, 0.0262989999999999], [51.66809006143172, -0.3922755], [50.81887558368253, -1.0669855000000004], [54.59591680133457, -5.928412999999999], [52.39592256202304, -0.7156244999999998], [51.75228868262215, -0.4675694999999999], [51.45790063398809, -2.58539], [51.676323, -3.542993], [51.39781057661456, -0.252754], [51.544829907267776, 0.024996], [52.80280339743897, -0.8380554999999998], [53.01941871958767, -2.1540125], [51.53707969560851, -0.4423609999999999], [55.46607469435491, -4.624916500000001], [51.46179093953856, -0.3506925], [51.644318675742966, -3.945734999999999], [53.58071287134156, -2.3047580000000005], [52.22713108182664, 0.511578], [51.5248433429905, -0.173115], [51.51476447266411, -0.29743], [52.41214485808566, -4.001617], [54.51730361356013, -1.3071290000000002], [50.72837043669684, -1.9522795000000008], [51.28594214670877, -2.4810844999999992], [52.530541925714566, -2.2038685000000005], [51.51448212166734, -0.0929105], [52.49405270288055, -1.8906405], [52.41138889, -0.07583333], [53.77411355102777, -2.7016375000000004], [51.50379309930915, -0.18919], [56.48864822, -2.81279346], [52.44725408864302, -1.7874955000000006], [51.45790063398809, -2.58539], [52.05787637713311, -2.7131525], [51.46469310439313, -0.0706035], [51.64090092075878, 0.0611209999999999], [51.46841029916232, 0.0893245], [55.80135874607209, -3.984748], [51.51483911149297, -0.0350195], [51.510387, -0.130108], [51.54765285291366, -0.0601675], [51.49839328713241, -0.216108], [51.47151451957592, 0.0149895], [51.49704302186007, -3.1798], [51.71556274, 0.49808521], [50.831351509424366, -0.3900409999999999], [52.626293532909706, -1.13067], [55.85839558130999, -4.2417515], [51.394368557245095, 0.0262989999999999], [55.85839558130999, -4.2417515], [51.410893464308295, -0.189289], [52.5801490926246, -2.147965], [50.84034002985045, -0.130356], [51.50379309930915, -0.18919], [55.77819600078368, -4.0662275], [51.47734704, -0.02553463], [51.4365047767158, 0.7618405], [53.9394953936082, -1.2074825000000002], [52.583285350952416, -0.265658], [51.46179093953856, -0.3506925], [53.64742271951225, -1.811758], [51.51476447266411, -0.29743], [55.54866891485521, -4.655906000000001], [51.63335610131152, -2.6772815], [50.85834181389471, -0.9878955], [51.63335610131152, -2.6772815], [51.54947858240573, 0.7212505000000001], [52.26482402003387, -2.155945], [51.394368557245095, 0.0262989999999999], [53.419914903420405, -2.915427], [51.51605982148212, 0.044914], [53.26765753793334, -2.135494], [53.802038177843606, -1.5654900000000005], [52.41214485808566, -4.001617], [50.97366911983044, -1.3743525], [50.92135482814837, -1.3964669999999997], [52.41214485808566, -4.001617], [53.40605553, -1.49706065], [51.754062585659184, -0.2307385], [51.54244893903978, -0.159403], [55.8612137, -4.2527132], [51.50711486, -0.12731805], [53.802038177843606, -1.5654900000000005], [52.03360633916026, -0.7640635], [51.49704302186007, -3.1798], [52.05195817728906, 1.1093779999999998], [53.20293020080783, -3.0294145], [50.62744081479903, -2.4692695], [57.324, -4.442], [55.11960984880368, -1.5278165], [53.01941871958767, -2.1540125], [53.802038177843606, -1.5654900000000005], [52.65780657883538, 0.156227], [51.5248433429905, -0.173115], [51.51471384647618, -0.5925995], [53.802038177843606, -1.5654900000000005], [51.39781057661456, -0.252754], [51.49704302186007, -3.1798], [52.0085237, -0.4995057], [53.456983702037085, -2.233480000000001], [51.53707969560851, -0.4423609999999999], [51.46034516709653, -0.1154059999999999], [51.51483911149297, -0.0350195], [55.85839558130999, -4.2417515], [51.661624000039446, -0.2735824999999999], [52.616359445021686, -1.7166039999999998], [55.943259273756, -3.2030085], [51.02295143263842, -3.927119], [53.20940366063339, -0.1146495], [51.68688409090002, -4.140761500000001], [53.456983702037085, -2.233480000000001], [50.86233460934557, -2.157358], [55.12375402958675, -3.4468685000000003], [51.46469310439313, -0.0706035], [51.50009845259365, -0.148936], [51.34680651501751, -2.9451295000000006], [55.85839558130999, -4.2417515], [51.51483911149297, -0.0350195], [49.187014039395926, -2.0968365], [51.51448212166734, -0.0929105], [53.802038177843606, -1.5654900000000005], [52.49405270288055, -1.8906405], [53.55648692288787, -0.0784764999999999], [51.12261308030144, -2.740721], [52.23709153290082, 0.9114], [52.49375256382238, -2.1244420000000006], [51.26214695188809, -2.9870915], [51.54947858240573, 0.7212505000000001], [52.21721520274417, -0.073266], [53.456983702037085, -2.233480000000001], [51.47151451957592, 0.0149895], [54.7858178524244, -1.5585544999999998], [52.19238114746484, -1.701262], [53.38322877572023, -1.4496120000000003], [57.786631183916356, -4.200440999999999], [51.46469310439313, -0.07060350000000003], [51.5248433429905, -0.17311500000000005], [53.46992093633473, -2.6693795], [51.663017826717834, -3.827665], [51.394368557245095, 0.026298999999999996], [53.38263616563445, -2.5933005000000002], [55.85839558130999, -4.2417515], [51.8940473990251, -0.5175495000000001], [51.465826602329074, -2.492508], [50.921354828148374, -1.3964669999999997], [51.361915086985626, -0.1815875], [53.966222428737346, -1.0853244999999998], [51.619621209036865, 0.4110205], [51.56521809122742, -0.2631405], [55.13511300814875, -1.7396194999999999], [51.35895133231162, -0.09263300000000001], [55.943259273756, -3.2030084999999997], [50.85834181389471, -0.9878955], [52.26482402003387, -2.155945], [51.58792119344532, -0.102162], [51.644318675742966, -3.9457349999999987], [52.41214485808566, -4.001617], [54.675050861728614, -6.81351], [54.4180191877115, -7.817142999999999], [53.08999325989027, -1.2516219999999998], [56.41082401940412, -5.471907999999999], [50.85834181389471, -0.9878955], [54.8611977832619, -1.5900065], [53.77411355102777, -2.7016375000000004], [54.675050861728614, -6.81351], [51.65070149402358, -0.5177915], [55.89300891503437, -3.4576639999999994], [55.78196180870279, -4.42958], [51.361915086985626, -0.1815875], [51.168097358153126, 0.8865259999999997], [51.616495409714645, -3.6528690000000013], [54.60276942508207, -1.2714555], [52.297656565581015, -1.9309830000000001], [54.13324841105607, -0.7947960000000002], [51.26283898419042, -1.0945885000000002], [53.469862766255794, -3.0044560000000007], [50.40223082859258, -4.142929999999999], [51.35895133231162, -0.09263300000000001], [53.456983702037085, -2.2334800000000006], [55.71049830139804, -3.8359500000000004], [51.39781057661456, -0.252754], [55.85839558130999, -4.2417515], [54.984881721800384, -1.5710735], [54.04781511003401, -2.8563455], [53.419914903420405, -2.9154269999999998], [55.943259273756, -3.2030084999999997], [53.802038177843606, -1.5654900000000003], [51.80044880094318, 1.155431], [53.470459172817435, -2.0964385], [51.5501738, -0.0754169], [54.59591680133457, -5.928412999999999], [51.394368557245095, 0.026298999999999996], [52.64150315634781, 1.2730815], [53.46316060476729, -1.3439270000000003], [51.493104, -0.227522], [53.76584968269761, -0.33394250000000003], [53.456983702037085, -2.2334800000000006], [53.728535988425826, -2.4837504999999998], [51.461926023441826, 0.36056350000000004], [51.14780056865431, 0.327605], [51.546931093541325, -0.10918150000000001], [54.59591680133457, -5.928412999999999], [52.39592256202304, -0.7156244999999998], [53.77411355102777, -2.7016375000000004], [51.599263128359, -0.018734000000000008], [53.419914903420405, -2.9154269999999998], [51.02295143263842, -3.9271189999999994], [52.969744440802685, -1.1722659999999996], [51.35895133231162, -0.09263300000000001], [51.39781057661456, -0.252754], [51.13241515126608, 1.302505], [51.63335610131152, -2.6772815], [53.802038177843606, -1.5654900000000003], [51.50379309930915, -0.18919], [50.83958338001748, -0.19172299999999998], [51.58500991494593, 0.07886299999999999], [54.07111124598568, -2.7751315], [51.46179093953856, -0.3506925], [55.001164174981014, -1.5215815000000001], [51.39781057661456, -0.252754], [52.626293532909706, -1.13067], [51.2667, -1.08333], [53.33261512081396, -3.4157315], [54.99944444, -1.54416667], [52.92351685443825, -1.128591], [51.39007140862319, -0.27846400000000004], [55.13511300814875, -1.7396194999999999], [54.5697379277102, -1.322], [50.7707461, 0.1018167], [51.47151451957592, 0.0149895], [52.49405270288055, -1.8906405], [51.75228868262215, -0.4675694999999999], [55.00619740232842, -7.312944999999999], [51.249954412673155, -0.7576450000000001], [54.59591680133457, -5.928412999999999], [50.391966954517855, -3.519233500000001], [54.675050861728614, -6.81351], [54.04781511003401, -2.8563455], [51.380442, -2.330673], [53.419914903420405, -2.9154269999999998], [53.419914903420405, -2.9154269999999998], [52.410568525655044, -4.069734], [53.72958161796917, -1.8900305], [51.394368557245095, 0.026298999999999996], [52.626293532909706, -1.13067], [51.348979539466974, -0.6735285], [57.1605717487859, -2.1270404999999997], [54.07111124598568, -2.7751315], [51.23643089192935, -0.5701174999999999], [51.64090092075878, 0.061120999999999995], [51.47151451957592, 0.0149895], [51.90230713909839, -0.19095149999999997], [51.46469310439313, -0.07060350000000003], [57.47197179293184, -4.2219125], [55.825407, -4.250578], [54.07111124598568, -2.7751315], [51.82571141798616, -2.278143499999999], [51.43697641004324, -2.8549455000000004], [51.70706023305607, -0.619748], [50.921354828148374, -1.3964669999999997], [52.23888471672323, -0.8829510000000002], [55.943259273756, -3.2030084999999997], [55.13511300814875, -1.7396194999999999], [51.50711486, -0.12731805], [53.79309949981019, -1.3827710000000002], [51.546931093541325, -0.10918150000000001], [51.45255330711058, -0.9820305], [53.38322877572023, -1.4496120000000003], [51.02295143263842, -3.9271189999999994], [53.802038177843606, -1.5654900000000003], [51.46469310439313, -0.07060350000000003], [51.394368557245095, 0.026298999999999996], [52.2071306, 0.11757912], [51.75, -1.26], [51.51308, -0.18763], [54.678996915358894, -1.216432], [51.46469310439313, -0.07060350000000003], [51.5248433429905, -0.17311500000000005], [57.50503183042213, -1.7952475], [53.47534904324797, -2.3495664999999994], [52.916607589459744, -2.2981339999999997], [51.27676464045431, 1.0901355000000001], [54.77444322702235, -5.950997500000001], [54.862659614489964, -1.8073614999999998], [56.12043338460726, -3.7925539999999986], [51.46034516709653, -0.11540599999999997], [51.63335610131152, -2.6772815], [54.675050861728614, -6.81351], [52.580149092624595, -2.147965], [51.53707969560851, -0.44236099999999995], [51.161334, -0.17937], [53.76584968269761, -0.33394250000000003], [52.137486833687404, -0.4593664999999998], [51.35895133231162, -0.09263300000000001], [51.44054535039476, -0.3069960000000001], [54.59591680133457, -5.928412999999999], [51.39007140862319, -0.27846400000000004], [51.37116768457937, 0.5824535000000001], [51.02295143263842, -3.9271189999999994], [50.921354828148374, -1.3964669999999997], [51.51448212166734, -0.09291050000000002], [55.943259273756, -3.2030084999999997], [51.63335610131152, -2.6772815], [51.51476447266411, -0.29743], [53.802038177843606, -1.5654900000000003], [51.35895133231162, -0.09263300000000001], [53.470459172817435, -2.0964385], [55.32671689, -1.66665269], [51.44023795652285, 0.20662899999999995], [52.916607589459744, -2.2981339999999997], [53.44721721577191, -2.7298299999999998], [53.802038177843606, -1.5654900000000003], [52.227131081826634, 0.511578], [53.419914903420405, -2.9154269999999998], [51.199212563346414, -4.118541999999999], [52.410568525655044, -4.069734], [55.943259273756, -3.2030084999999997], [51.54765285291366, -0.060167500000000006], [51.921779211031186, -0.6632855000000002], [53.751418806831815, -0.43928649999999997], [51.7584379769822, -2.537534], [51.249954412673155, -0.7576450000000001], [53.77411355102777, -2.7016375000000004], [51.468410299162315, 0.08932450000000001], [51.78986404485434, -1.7741479999999998], [51.5248433429905, -0.17311500000000005], [50.84034002985045, -0.13035600000000003], [56.73363486582278, -2.6548464999999997], [51.14216412114232, 0.25150550000000005], [51.410893464308295, -0.18928900000000004], [51.560607684597755, 0.21058950000000004], [53.73368996523261, -2.6234565], [51.02295143263842, -3.9271189999999994], [51.39007140862319, -0.27846400000000004], [52.49405270288055, -1.8906405], [51.61191284168327, -0.2108945], [56.01192515387344, -3.8027854999999997], [51.35895133231162, -0.09263300000000001], [51.56521809122742, -0.2631405], [55.1801606354945, -1.5702060000000002], [52.38107293044398, -2.2506990000000004], [52.24817209347381, 0.7177809999999999], [53.554818555193016, -2.575229], [51.54221260676406, 0.4134474999999999], [51.46034516709653, -0.11540599999999997], [53.40021124827171, -2.3267745], [51.45255330711058, -0.9820305], [51.54947858240573, 0.7212505000000001], [52.1863948707103, 0.996792], [51.292947656733695, -0.7689714999999999], [52.057876377133105, -2.7131525], [54.5697379277102, -1.322], [57.786631183916356, -4.200440999999999], [55.65322887340593, -4.704375], [54.20983584814266, -3.2705105000000003], [51.45412060423482, -0.017990000000000003], [53.76584968269761, -0.33394250000000003], [52.626293532909706, -1.13067], [52.39592256202304, -0.7156244999999998], [52.13037876307979, -0.991264], [56.117742156259546, -3.1667954999999997], [50.78942732614382, -0.9717109999999999], [55.85839558130999, -4.2417515], [51.56521809122742, -0.2631405], [51.73990077998931, 0.47847899999999993], [52.80623228300398, -1.6364945000000004], [52.626293532909706, -1.13067], [51.49839328713241, -0.21610800000000002], [52.0571262016396, 1.1616629999999997], [51.01844056884267, 0.7648404999999997], [52.29326602024312, -1.5314200000000004], [55.61110749652487, -4.2787865], [51.888713732289546, 0.8988910000000001], [51.2667, 1.08333], [53.54347057254045, -2.6532380000000004], [52.227131081826634, 0.511578], [52.90354938096474, -1.1835234999999997], [55.13511300814875, -1.7396194999999999], [53.59357396598995, -1.3090495000000002], [53.1914924, -2.5346033], [51.02295143263842, -3.9271189999999994], [53.38322877572023, -1.4496120000000003], [54.68833333, -5.88083333], [53.456983702037085, -2.2334800000000006], [55.85839558130999, -4.2417515], [52.01730803899179, -0.6547829999999999], [51.53707969560851, -0.44236099999999995], [51.02295143263842, -3.9271189999999994], [51.888713732289546, 0.8988910000000001], [51.394368557245095, 0.026298999999999996], [53.40021124827171, -2.3267745], [51.61191284168327, -0.2108945], [52.976086717333246, -0.5077565000000002], [51.490020924854, -0.08816100000000003], [52.19238114746484, -1.701262], [51.12773719364318, -0.18683250000000007], [53.419914903420405, -2.9154269999999998], [51.79251, -0.66238], [52.64150315634781, 1.2730815], [49.57165277888953, -2.4170055], [54.48622729923233, -1.5365415], [53.33373983363341, -2.664049], [55.034199375429836, -1.505989], [53.54347057254045, -2.6532380000000004], [55.85839558130999, -4.2417515], [52.23811605103171, -1.9279804999999997], [50.7209524108503, -3.5148764999999997], [50.942907454644235, -2.6420495], [51.61191284168327, -0.2108945], [51.479518714513524, 0.1618535], [50.82089115797822, -3.8198209999999997], [51.479518714513524, 0.1618535], [51.64530734401061, -0.09916350000000003], [52.49405270288055, -1.8906405], [56.20793492436253, -3.4260299999999995], [56.01009007520037, -3.6022575000000003], [51.379657904776394, -2.3669329999999995], [51.37576552480028, -0.4120220000000001], [53.69631191069968, -1.4058525], [51.75417716, -0.32863776], [53.63263081798527, -3.0033305], [52.51490546110416, -2.0093330000000003], [53.36840136480341, -2.7407224999999995], [51.505291, -0.1373476], [54.82073746095298, -1.6271020000000003], [51.410893464308295, -0.18928900000000004], [55.13511300814875, -1.7396194999999999], [52.20098398787838, 0.13591599999999998], [56.165077669777176, -3.1404680000000003], [53.38263616563445, -2.5933005000000002], [51.24107476902256, -0.18067150000000007], [51.394368557245095, 0.026298999999999996], [54.984881721800384, -1.5710735], [53.58421048880526, -2.434952499999999], [51.54244893903978, -0.15940300000000002], [53.69563211766759, -2.6420435], [51.39781057661456, -0.252754], [51.5730271279188, -1.7856895], [52.1949280184406, -2.2118700000000002], [51.526173688843706, 0.44530100000000017], [52.227131081826634, 0.511578], [51.644318675742966, -3.9457349999999987], [54.45686548467435, -0.6621609999999999], [52.25261912961247, 0.020603500000000004], [53.966222428737346, -1.0853244999999998], [53.01941871958767, -2.1540125], [51.754299387878554, -1.2334335000000003], [51.58500991494593, 0.07886299999999999], [51.11155508, 1.15604288], [52.38635615322815, -1.7492610000000004], [51.13241515126608, 1.302505], [53.89826298, -1.96296179], [55.13511300814875, -1.7396194999999999], [51.46034516709653, -0.11540599999999997], [51.27670306443055, 0.5579120000000002], [55.943259273756, -3.2030084999999997], [51.745, 0.69555556], [57.786631183916356, -4.200440999999999], [55.85839558130999, -4.2417515], [51.46469310439313, -0.07060350000000003], [53.53073471642859, -2.4874310000000004], [51.410893464308295, -0.18928900000000004], [52.44725408864302, -1.7874955000000006], [51.3752, -0.0923], [51.71693708550789, -3.860929], [55.85839558130999, -4.2417515], [51.62623951, -3.94331943], [54.94155570577247, -1.5685954999999998], [55.13511300814875, -1.7396194999999999], [53.7558582214556, -1.7610015], [54.51603989375694, -6.062353500000001], [51.46469310439313, -0.07060350000000003], [51.443859852313665, 0.13187], [51.54947858240573, 0.7212505000000001], [51.54947858240573, 0.7212505000000001], [51.51476447266411, -0.29743], [53.456983702037085, -2.2334800000000006], [53.53073471642859, -2.4874310000000004], [51.618787229839945, 0.4827625], [53.4167, -3.0], [53.6903684346329, -1.785921], [54.13324841105607, -0.7947960000000002], [56.47700935163645, -2.955045], [50.40223082859258, -4.142929999999999], [50.7722453, 0.0994707], [51.61481755117744, -3.1147660000000004], [51.492955, -0.220036], [51.5248433429905, -0.17311500000000005], [51.5082649, -0.1061889], [55.943259273756, -3.2030084999999997], [54.94889131058395, -1.4448110000000003], [51.173760998124685, -0.16035850000000001], [51.50009845259365, -0.148936], [52.49405270288055, -1.8906405], [51.451674884083495, -0.19371950000000002], [51.361915086985626, -0.1815875], [50.87180683383785, 0.565823], [51.02295143263842, -3.9271189999999994], [51.45255330711058, -0.9820305], [51.853102906308365, -2.2294175], [53.84516212047829, -0.49882950000000004], [53.38322877572023, -1.4496120000000003], [54.59591680133457, -5.928412999999999], [51.394368557245095, 0.026298999999999996], [52.49405270288055, -1.8906405], [54.675050861728614, -6.81351], [50.87180683383785, 0.565823], [53.456983702037085, -2.2334800000000006], [55.8298609163425, -4.5099035], [52.23385599558619, 0.08672349999999998], [52.91556110309076, -1.4707784999999998], [54.9019149394659, -1.5255295], [51.482865, -0.009562], [51.5127514, -0.141511], [51.51483911149297, -0.0350195], [56.465466, -3.045608], [51.02295143263842, -3.9271189999999994], [51.79661280900454, -0.0777585], [55.85839558130999, -4.2417515], [51.53707969560851, -0.44236099999999995], [51.49704302186007, -3.1798], [51.39781057661456, -0.252754], [51.39781057661456, -0.252754], [51.676323, -3.542993], [51.152244, -0.184819], [52.1949280184406, -2.2118700000000002], [51.02295143263842, -3.9271189999999994], [51.544829907267776, 0.024996000000000004], [51.48651958815168, 0.317777], [53.5532640595455, -0.6594239999999999], [53.20516326587533, -1.153961], [51.815678261598435, -0.8155039999999999], [52.41195046288927, -1.5186515], [51.51483911149297, -0.0350195], [51.451674884083495, -0.19371950000000002], [51.50009845259365, -0.148936], [55.85839558130999, -4.2417515], [51.490020924854, -0.08816100000000003], [52.49405270288055, -1.8906405], [51.560607684597755, 0.21058950000000004], [52.08515709788065, -0.25159149999999997], [51.34677390884617, -0.013758999999999997], [51.58500991494593, 0.07886299999999999], [53.77411355102777, -2.7016375000000004], [54.9920651180037, -1.6453615], [50.81887558368253, -1.0669855000000004], [53.38322877572023, -1.4496120000000003], [53.456983702037085, -2.2334800000000006], [51.853102906308365, -2.2294175], [53.5767448, -2.4152271], [52.41214485808566, -4.001617], [56.01128453785989, -3.7142625000000007], [53.77411355102777, -2.7016375000000004], [55.82093124706946, -4.172645999999999], [50.84034002985045, -0.13035600000000003], [51.49704302186007, -3.1798], [51.61785957420364, -0.7377640000000001], [52.969744440802685, -1.1722659999999996], [50.83958338001748, -0.19172299999999998], [51.465826602329074, -2.492508], [50.87180683383785, 0.565823], [53.72958161796917, -1.8900305], [51.45412060423482, -0.017990000000000003], [52.23888471672323, -0.8829510000000002], [53.456983702037085, -2.2334800000000006], [51.534853100877825, -2.3926225], [57.786631183916356, -4.200440999999999], [51.46034516709653, -0.11540599999999997], [53.456983702037085, -2.2334800000000006], [51.61191284168327, -0.2108945], [52.916607589459744, -2.2981339999999997], [50.78418650705644, -0.673984], [51.5, -0.13], [52.032669234914735, -0.287395], [54.59591680133457, -5.928412999999999], [53.58421048880526, -2.434952499999999], [52.0571262016396, 1.1616629999999997], [54.972664778393785, -1.5147344999999999], [51.563315791193354, -3.3122155], [51.39781057661456, -0.252754], [53.72958161796917, -1.8900305], [50.83958338001748, -0.19172299999999998], [51.51448212166734, -0.09291050000000002], [52.09277381662941, -2.3298595], [53.802038177843606, -1.5654900000000003], [52.917040545923875, -1.3120369999999997], [52.49405270288055, -1.8906405], [55.85839558130999, -4.2417515], [51.50379309930915, -0.18919], [51.58792119344532, -0.102162], [54.59591680133457, -5.928412999999999], [51.58792119344532, -0.102162], [53.456983702037085, -2.2334800000000006], [55.85839558130999, -4.2417515], [51.315605077068035, -1.8937174999999997], [54.07111124598568, -2.7751315], [51.45255330711058, -0.9820305], [55.987021729176135, -4.5748715], [53.456983702037085, -2.2334800000000006], [54.88161261656938, -1.4236290000000003], [53.802038177843606, -1.5654900000000003], [53.414623479394955, -2.1556405], [54.675050861728614, -6.81351], [55.85839558130999, -4.2417515], [51.58500991494593, 0.07886299999999999], [52.03454362162078, -1.150016], [50.831867718238016, -0.0752265], [51.51483911149297, -0.0350195], [55.943259273756, -3.2030084999999997], [53.73772787177645, -1.3978840000000001], [51.64530734401061, -0.09916350000000003], [55.61185560072989, -4.496779500000001], [53.5532640595455, -0.6594239999999999], [55.61537432992772, -2.8030545], [52.03360633916026, -0.7640635], [53.414623479394955, -2.1556405], [51.63335610131152, -2.6772815], [51.70706023305607, -0.619748], [52.916607589459744, -2.2981339999999997], [52.37546054500854, -1.0170929999999998], [52.969744440802685, -1.1722659999999996], [52.49405270288055, -1.8906405], [50.78418650705644, -0.673984], [51.40241995038831, 0.5061565], [53.78050115925141, -2.8740285000000005], [52.000608465133446, -0.9825315000000002], [52.44725408864302, -1.7874955000000006], [54.972664778393785, -1.5147344999999999], [51.63335610131152, -2.6772815], [51.63335610131152, -2.6772815], [51.64090092075878, 0.061120999999999995], [52.227131081826634, 0.511578], [54.377781915444544, -1.7316734999999999], [51.35895133231162, -0.09263300000000001], [51.58792119344532, -0.102162], [52.11581251306233, -4.083556], [53.81595415863419, -1.7668200000000003], [53.456983702037085, -2.2334800000000006], [50.7706982, 0.1015904], [51.54765285291366, -0.060167500000000006], [57.521775, -2.00822521], [53.54288526411364, -2.1168695], [51.53707969560851, -0.44236099999999995], [51.50379309930915, -0.18919], [54.9779371296568, -1.4407025], [52.08515709788065, -0.25159149999999997], [51.39007140862319, -0.27846400000000004], [53.22073849133854, -4.1415925], [53.00279156026351, -2.2798315000000002], [51.490020924854, -0.08816100000000003], [50.84034002985045, -0.13035600000000003], [51.621174430785665, -4.026033000000001], [50.70350009784839, -3.2648420000000007], [51.560607684597755, 0.21058950000000004], [52.03360633916026, -0.7640635], [54.9779371296568, -1.4407025], [53.84127387951994, -0.42502549999999995], [55.61537432992772, -2.8030545], [51.44023795652285, 0.20662899999999995], [51.511472271181745, -0.7383080000000001], [52.75666924203877, -1.9414215000000004], [54.712678293471484, -3.4916864999999997], [53.00279156026351, -2.2798315000000002], [55.83729586045824, -3.2229734999999997], [53.470459172817435, -2.0964385], [50.81887558368253, -1.0669855000000004], [54.59591680133457, -5.928412999999999], [53.802038177843606, -1.5654900000000003], [52.227131081826634, 0.511578], [52.410568525655044, -4.069734], [51.39781057661456, -0.252754], [51.490020924854, -0.08816100000000003], [51.46469310439313, -0.07060350000000003], [51.58500991494593, 0.07886299999999999], [55.943259273756, -3.2030084999999997], [54.9045071775213, -5.0243725], [52.37718572213027, -2.3162305000000005], [51.774848680514296, 0.598466], [51.451674884083495, -0.19371950000000002], [51.44054535039476, -0.3069960000000001], [52.41214485808566, -4.001617], [52.80280339743897, -0.8380554999999998], [53.46316060476729, -1.3439270000000003], [52.11937731784101, -2.3200564999999997], [53.414623479394955, -2.1556405], [51.89632636441313, -2.0877745], [51.66254401, -0.26175367], [51.46469310439313, -0.07060350000000003], [52.94811359268024, -1.0334275000000004], [53.5532640595455, -0.6594239999999999], [51.50009845259365, -0.148936], [55.85839558130999, -4.2417515], [51.63335610131152, -2.6772815], [51.30403802091395, 1.1282275000000004], [52.90354938096474, -1.1835234999999997], [52.41195046288927, -1.5186515], [52.49405270288055, -1.8906405], [52.92351685443825, -1.128591], [51.394368557245095, 0.026298999999999996], [52.49405270288055, -1.8906405], [54.234175921979336, -1.3487329999999995], [51.51483911149297, -0.0350195], [53.80731196, -1.5566521], [53.12977465530245, -1.2724419999999999], [51.491747, -0.228784], [54.9779371296568, -1.4407025], [54.559427409931665, -1.2225015000000004], [51.51605982148212, 0.04491400000000001], [51.394368557245095, 0.026298999999999996], [54.9920651180037, -1.6453615], [51.63335610131152, -2.6772815], [51.58792119344532, -0.102162], [52.49405270288055, -1.8906405], [55.02801629516445, -1.458029], [53.00279156026351, -2.2798315000000002], [53.6903684346329, -1.785921], [51.35895133231162, -0.09263300000000001], [51.44023795652285, 0.20662899999999995], [52.969744440802685, -1.1722659999999996], [56.47700935163645, -2.955045], [55.943259273756, -3.2030084999999997], [53.76584968269761, -0.33394250000000003], [51.5248433429905, -0.17311500000000005], [54.712678293471484, -3.4916864999999997], [53.8171551, -3.0551257], [51.58500991494593, 0.07886299999999999], [53.72958161796917, -1.8900305], [56.15333744184362, -3.9314834999999997], [51.51476447266411, -0.29743], [51.5346988, -0.1383557], [53.802038177843606, -1.5654900000000003], [51.81981001827516, -1.2881384999999999], [51.777178542361, -3.2126029999999997], [51.51483911149297, -0.0350195], [51.5359129566958, -0.910568], [51.54947858240573, 0.7212505000000001], [51.35895133231162, -0.09263300000000001], [53.38322877572023, -1.4496120000000003], [53.00279156026351, -2.2798315000000002], [51.468410299162315, 0.08932450000000001], [55.75947448152295, -4.186459999999999], [51.4081263733163, -0.8415085000000001], [51.02295143263842, -3.9271189999999994], [52.766714036292804, -1.2239520000000002], [51.02295143263842, -3.9271189999999994], [55.0425, -1.48888889], [51.451674884083495, -0.19371950000000002], [51.61191284168327, -0.2108945], [51.51483911149297, -0.0350195], [52.0571262016396, 1.1616629999999997], [51.4081263733163, -0.8415085000000001], [51.35895133231162, -0.09263300000000001], [55.13511300814875, -1.7396194999999999], [53.38322877572023, -1.4496120000000003], [55.85839558130999, -4.2417515], [51.53194446, -0.12193322], [53.419914903420405, -2.9154269999999998], [51.51476447266411, -0.29743], [55.85839558130999, -4.2417515], [50.7209524108503, -3.5148764999999997], [51.468410299162315, 0.08932450000000001], [54.9779371296568, -1.4407025], [51.44023795652285, 0.20662899999999995], [50.78203303384379, 0.286119], [53.456983702037085, -2.2334800000000006], [51.443859852313665, 0.13187], [51.53707969560851, -0.44236099999999995], [53.456983702037085, -2.2334800000000006], [51.676323, -3.542993], [51.88955224701976, 0.553941], [52.80280339743897, -0.8380554999999998], [51.51483911149297, -0.0350195], [54.984881721800384, -1.5710735], [53.456983702037085, -2.2334800000000006], [50.73317897404846, -0.7902739999999998], [51.374089222012906, -0.8465774999999999], [52.55573593212342, -0.13261499999999998], [50.84092416818578, -0.7874559999999998], [54.250391801598404, -6.6983325], [51.66074958912976, -3.0146620000000004], [55.977181887158565, -4.0520369999999994], [51.58500991494593, 0.07886299999999999], [55.13511300814875, -1.7396194999999999], [52.23888471672323, -0.8829510000000002], [51.43257701021396, 0.361443], [56.03277778, -3.36], [51.53707969560851, -0.44236099999999995], [50.98235280005008, -0.7469775000000002], [53.84127387951994, -0.42502549999999995], [51.54765285291366, -0.060167500000000006], [51.47151451957592, 0.0149895], [51.64090092075878, 0.061120999999999995], [53.802038177843606, -1.5654900000000003], [54.678996915358894, -1.216432], [53.414623479394955, -2.1556405], [57.786631183916356, -4.200440999999999], [55.943259273756, -3.2030084999999997], [51.39781057661456, -0.252754], [51.39007140862319, -0.27846400000000004], [51.379657904776394, -2.3669329999999995], [54.98878992576764, -1.7245960000000005], [53.802038177843606, -1.5654900000000003], [51.53707969560851, -0.44236099999999995], [51.61191284168327, -0.2108945], [52.7061307430655, -1.509692], [51.71693708550789, -3.860929], [51.43697641004324, -2.8549455000000004], [52.64150315634781, 1.2730815], [51.50009845259365, -0.148936], [53.6948949986587, -2.325503500000001], [51.64530734401061, -0.09916350000000003], [53.79985711313213, -3.0221290000000005], [53.47968549, -2.240504], [51.31293373001153, 0.8891865000000001], [51.89632636441313, -2.0877745], [52.49405270288055, -1.8906405], [50.921354828148374, -1.3964669999999997], [51.479518714513524, 0.1618535], [51.54765285291366, -0.060167500000000006], [51.51483911149297, -0.0350195], [53.802038177843606, -1.5654900000000003], [51.39781057661456, -0.252754], [51.44054535039476, -0.3069960000000001], [54.945, -1.6175], [51.5, -0.13], [51.07073088790327, -0.3135045], [51.81301751445573, -2.6165385], [52.626293532909706, -1.13067], [51.51476447266411, -0.29743], [51.544829907267776, 0.024996000000000004], [51.394368557245095, 0.026298999999999996], [54.675050861728614, -6.81351], [51.59585202771581, -0.3370625], [51.63335610131152, -2.6772815], [52.20098398787838, 0.13591599999999998], [53.84119157314604, -3.032089000000001], [54.54242950391275, -3.579466499999999], [52.59286965724111, -1.096631], [52.88029116, -1.44522738], [55.11960984880368, -1.5278165], [51.58500991494593, 0.07886299999999999], [52.44725408864302, -1.7874955000000006], [51.51605982148212, 0.04491400000000001], [51.46034516709653, -0.11540599999999997], [51.51476447266411, -0.29743], [53.75172380053243, -2.378431999999999], [51.53707969560851, -0.44236099999999995], [52.47419446, -1.88166527], [51.54765285291366, -0.060167500000000006], [51.49839328713241, -0.21610800000000002], [52.188411240325394, -0.8222935], [55.79427478258159, -4.291421499999999], [51.81164138454239, -0.032025000000000005], [52.9244514967954, -1.2301575], [51.23643089192935, -0.5701174999999999], [53.43301858470882, -1.3668674999999997], [51.59585202771581, -0.3370625], [53.38322877572023, -1.4496120000000003], [51.63335610131152, -2.6772815], [50.211, -5.48], [52.969744440802685, -1.1722659999999996], [51.46034516709653, -0.11540599999999997], [53.7343414406204, -2.669629], [53.58214651987456, -1.7836734999999997], [53.44721721577191, -2.7298299999999998], [51.43697641004324, -2.8549455000000004], [51.54947858240573, 0.7212505000000001], [51.451674884083495, -0.19371950000000002], [51.50009845259365, -0.148936], [51.46179093953856, -0.3506925], [52.49405270288055, -1.8906405], [51.451674884083495, -0.19371950000000002], [51.69147560453682, -4.945057500000001], [55.581196920776144, -2.6740070000000005], [51.511472271181745, -0.7383080000000001], [54.9920651180037, -1.6453615], [53.456983702037085, -2.2334800000000006], [55.07112105159023, -1.5227380000000001], [51.50009845259365, -0.148936], [51.66809006143172, -0.3922755], [51.544829907267776, 0.024996000000000004], [53.362740272167414, -3.0394275000000004], [51.63335610131152, -2.6772815], [53.44721721577191, -2.7298299999999998], [51.394368557245095, 0.026298999999999996], [53.38322877572023, -1.4496120000000003], [51.45790063398809, -2.58539], [51.39781057661456, -0.252754], [52.37427738933978, -1.253726], [52.49405270288055, -1.8906405], [51.51448212166734, -0.09291050000000002], [50.33755320054015, -5.15134], [51.47151451957592, 0.0149895], [50.40223082859258, -4.142929999999999], [52.41195046288927, -1.5186515], [51.451674884083495, -0.19371950000000002], [52.583285350952416, -0.265658], [51.58567402626544, -3.0258350000000007], [52.33058798283946, -0.903591], [51.54947858240573, 0.7212505000000001], [51.468410299162315, 0.08932450000000001], [57.50503183042213, -1.7952475], [55.95001695, -3.18803908], [51.410893464308295, -0.18928900000000004], [53.26765753793334, -2.135494], [52.37427738933978, -1.253726], [51.12773719364318, -0.18683250000000007], [53.50156034651659, -2.504527], [52.23888471672323, -0.8829510000000002], [52.596279428808245, -1.999259], [54.67777153671768, -2.809186499999999], [50.84034002985045, -0.13035600000000003], [51.465826602329074, -2.492508], [51.51483911149297, -0.0350195], [52.1949280184406, -2.2118700000000002], [57.1605717487859, -2.1270404999999997], [54.577103178630836, -1.1202050000000001], [51.394368557245095, 0.026298999999999996], [52.766714036292804, -1.2239520000000002], [52.02872122990461, -3.2106980000000007], [50.84034002985045, -0.13035600000000003], [50.74229888148258, -1.8526069999999997], [55.943259273756, -3.2030084999999997], [55.85992124362443, -4.031101499999999], [53.456983702037085, -2.2334800000000006], [50.84034002985045, -0.13035600000000003], [53.456983702037085, -2.2334800000000006], [54.60276942508207, -1.2714555], [57.1605717487859, -2.1270404999999997], [52.09305556, 0.12944444], [57.47197179293184, -4.2219125], [52.40557654, -1.51451982], [54.27513639262624, -0.4163795], [51.46469310439313, -0.07060350000000003], [53.728535988425826, -2.4837504999999998], [51.61191284168327, -0.2108945], [52.44725408864302, -1.7874955000000006], [57.786631183916356, -4.200440999999999], [55.80135874607209, -3.984748], [51.410893464308295, -0.18928900000000004], [51.61712657, -3.94463209], [53.59008403194529, -2.228955], [52.969744440802685, -1.1722659999999996], [55.80135874607209, -3.984748], [55.943259273756, -3.2030084999999997], [53.58421048880526, -2.434952499999999], [51.644318675742966, -3.9457349999999987], [51.27461244, -0.74787863], [51.544829907267776, 0.024996000000000004], [51.394368557245095, 0.026298999999999996], [52.51667364180294, -1.4813514999999997], [53.01941871958767, -2.1540125], [50.664711008817804, -4.745054499999999], [53.802038177843606, -1.5654900000000003], [50.85834181389471, -0.9878955], [51.26214695188809, -2.9870915], [51.410893464308295, -0.18928900000000004], [55.950684, -3.184728], [50.81887558368253, -1.0669855000000004], [51.54765285291366, -0.060167500000000006], [52.11581251306233, -4.083556], [55.90729485946664, -4.505635999999999], [51.64530734401061, -0.09916350000000003], [51.45255330711058, -0.9820305], [51.49972222, 0.25027778], [52.23888471672323, -0.8829510000000002], [54.9045071775213, -5.0243725], [53.292164135034604, -3.467519], [53.07120692951682, -0.7921350000000003], [51.39007140862319, -0.27846400000000004], [50.95, -2.65], [53.9394953936082, -1.2074825000000002], [51.554035394136, 0.127886], [53.296631624546585, -0.8018385], [49.477, -2.578], [51.725, -2.23194], [51.640624512574604, -0.47672000000000003], [50.85834181389471, -0.9878955], [53.38322877572023, -1.4496120000000003], [51.51448212166734, -0.09291050000000002], [51.58792119344532, -0.102162], [51.46469310439313, -0.07060350000000003], [53.01903536815493, -1.4707735000000002], [55.85839558130999, -4.2417515], [51.64090092075878, 0.061120999999999995], [53.456983702037085, -2.2334800000000006], [54.07111124598568, -2.7751315], [51.46058176, -2.59307021], [55.85839558130999, -4.2417515], [51.57917782699761, -3.4281204999999995], [51.35895133231162, -0.09263300000000001], [51.58792119344532, -0.102162], [53.69084911812594, -1.3043975], [55.976014754249945, -3.5995934999999992], [51.394368557245095, 0.026298999999999996], [52.44135209651315, -0.8190824999999997], [51.49704302186007, -3.1798], [55.85839558130999, -4.2417515], [53.38322877572023, -1.4496120000000003], [51.479518714513524, 0.1618535], [52.23888471672323, -0.8829510000000002], [51.54244893903978, -0.15940300000000002], [53.456983702037085, -2.2334800000000006], [51.46034516709653, -0.11540599999999997], [51.58500991494593, 0.07886299999999999], [51.54244893903978, -0.15940300000000002], [51.45790063398809, -2.58539], [51.35895133231162, -0.09263300000000001], [52.028608006764934, -0.46634600000000004], [51.5248433429905, -0.17311500000000005], [52.21206823137265, -4.3614325], [51.560607684597755, 0.21058950000000004], [51.61785957420364, -0.7377640000000001], [51.48470686, -3.17453384], [53.132971576765556, -3.3319890000000005], [54.85516906646893, -1.8361299999999998], [50.91464801183099, -1.299116], [51.451674884083495, -0.19371950000000002], [51.44054535039476, -0.3069960000000001], [51.48470686, -3.17453384], [53.85664850426875, -2.168761], [51.51476447266411, -0.29743], [54.86376699902865, -6.290965500000001], [53.29861787089648, -3.412191], [51.6510719073029, -0.445072], [51.5248433429905, -0.17311500000000005], [55.85839558130999, -4.2417515], [53.802038177843606, -1.5654900000000003], [51.75228868262215, -0.4675694999999999], [51.71832954962456, -0.055731], [53.6792051971325, -1.5085449999999998], [51.46469310439313, -0.07060350000000003], [51.64530734401061, -0.09916350000000003], [51.81256441505724, -0.36439800000000006], [51.443859852313665, 0.13187], [55.596990127930894, -4.456689999999999], [52.44725408864302, -1.7874955000000006], [57.851951055051934, -5.696400999999999], [53.456983702037085, -2.2334800000000006], [52.49375256382238, -2.1244420000000006], [52.91556110309076, -1.4707784999999998], [56.55, -3.26667], [52.49375256382238, -2.1244420000000006], [53.05343201499378, -2.982074], [51.808499, 1.145904], [52.51490546110416, -2.0093330000000003], [53.802038177843606, -1.5654900000000003], [55.162355773520126, -1.5863075000000002], [51.46469310439313, -0.07060350000000003], [53.43301858470882, -1.3668674999999997], [51.374089222012906, -0.8465774999999999], [51.45255330711058, -0.9820305], [51.39781057661456, -0.252754], [51.39781057661456, -0.252754], [52.4662099, -1.83076], [55.85839558130999, -4.2417515], [51.45412060423482, -0.017990000000000003], [52.227131081826634, 0.511578], [52.26713477113169, -0.752501], [53.456983702037085, -2.2334800000000006], [50.263029359860894, -5.066979999999999], [53.38322877572023, -1.4496120000000003], [50.88229482721381, -1.0286495], [50.831351509424366, -0.39004099999999997], [51.479518714513524, 0.1618535], [53.456983702037085, -2.2334800000000006], [51.5248433429905, -0.17311500000000005], [55.434970403232775, -4.461192], [53.092125881429105, -2.4568145], [51.5386144, 0.70877273], [51.4081263733163, -0.8415085000000001], [51.56521809122742, -0.2631405], [51.76512619368726, -0.010624], [53.362740272167414, -3.0394275000000004], [53.21690876283937, -3.055805000000001], [55.95262881293614, -2.79078], [51.52393464, -0.07597851], [56.47700935163645, -2.955045], [53.419398352788534, -2.797908], [51.14975086264246, -2.7177454999999995], [51.39781057661456, -0.252754], [52.331442692241254, -2.057782], [51.451674884083495, -0.19371950000000002], [53.55831774893333, -1.4727814999999997], [51.717817401287505, -4.055834], [51.86805556, 0.73111111], [53.52482643, -1.40227972], [53.802038177843606, -1.5654900000000003], [52.00578732645035, -0.4961039999999999], [53.456983702037085, -2.2334800000000006], [53.38322877572023, -1.4496120000000003], [51.546931093541325, -0.10918150000000001], [51.29170463554497, -0.07395300000000002], [51.38173626, -2.36001792], [54.678996915358894, -1.216432], [55.75947448152295, -4.186459999999999], [51.479518714513524, 0.1618535], [52.273759, -1.603868], [51.01326674490614, -3.1040825], [50.391966954517855, -3.519233500000001], [53.85664850426875, -2.168761], [51.50711486, -0.12731805], [51.39781057661456, -0.252754], [53.419914903420405, -2.9154269999999998], [53.14610304123506, -4.1319040000000005], [54.74017152056649, -3.1845959999999995], [51.789168940930985, -0.7851655], [51.41015110005893, -2.3125060000000004], [55.8934446, -3.5140915], [54.59591680133457, -5.928412999999999], [52.281641377351335, -0.6475725], [52.98533808533774, -1.1140985000000003], [51.02295143263842, -3.9271189999999994], [55.85839558130999, -4.2417515], [51.44054535039476, -0.3069960000000001], [50.72837043669684, -1.9522795000000008], [54.27513639262624, -0.4163795], [51.02295143263842, -3.9271189999999994], [51.64530734401061, -0.09916350000000003], [51.39781057661456, -0.252754], [54.675050861728614, -6.81351], [52.49405270288055, -1.8906405], [52.91556110309076, -1.4707784999999998], [51.51448212166734, -0.09291050000000002], [51.676323, -3.542993], [57.50503183042213, -1.7952475], [55.00619740232842, -7.312944999999999], [52.23888471672323, -0.8829510000000002], [53.9394953936082, -1.2074825000000002], [50.74229888148258, -1.8526069999999997], [51.61191284168327, -0.2108945], [53.802038177843606, -1.5654900000000003], [51.39781057661456, -0.252754]],\n",
       "                {&quot;blur&quot;: 15, &quot;maxZoom&quot;: 18, &quot;minOpacity&quot;: 0.5, &quot;radius&quot;: 5}\n",
       "            ).addTo(map_b3e3d0eb12c17963f0b5d0a22dcf3812);\n",
       "        \n",
       "&lt;/script&gt;\n",
       "&lt;/html&gt;\" style=\"position:absolute;width:100%;height:100%;left:0;top:0;border:none !important;\" allowfullscreen webkitallowfullscreen mozallowfullscreen></iframe></div></div>"
      ],
      "text/plain": [
       "<folium.folium.Map at 0x272c139e790>"
      ]
     },
     "execution_count": 37,
     "metadata": {},
     "output_type": "execute_result"
    }
   ],
   "source": [
    "#display the map\n",
    "area_map"
   ]
  },
  {
   "cell_type": "markdown",
   "id": "dc3c870d",
   "metadata": {},
   "source": [
    "### 3. Model creation"
   ]
  },
  {
   "cell_type": "code",
   "execution_count": 38,
   "id": "53120724",
   "metadata": {},
   "outputs": [],
   "source": [
    "from sklearn.model_selection import train_test_split\n",
    "from autogluon.tabular import TabularDataset, TabularPredictor"
   ]
  },
  {
   "cell_type": "code",
   "execution_count": 39,
   "id": "4adb5e0a",
   "metadata": {},
   "outputs": [
    {
     "data": {
      "text/plain": [
       "(2999, 9)"
      ]
     },
     "execution_count": 39,
     "metadata": {},
     "output_type": "execute_result"
    }
   ],
   "source": [
    "updated_data.shape"
   ]
  },
  {
   "cell_type": "code",
   "execution_count": 40,
   "id": "5e594436",
   "metadata": {},
   "outputs": [],
   "source": [
    "train_data, test_data = train_test_split(updated_data, test_size=0.33, random_state=42)"
   ]
  },
  {
   "cell_type": "code",
   "execution_count": 41,
   "id": "9e116335",
   "metadata": {},
   "outputs": [
    {
     "data": {
      "text/plain": [
       "((2009, 9), (990, 9))"
      ]
     },
     "execution_count": 41,
     "metadata": {},
     "output_type": "execute_result"
    }
   ],
   "source": [
    "train_data.shape, test_data.shape"
   ]
  },
  {
   "cell_type": "code",
   "execution_count": 42,
   "id": "d2ea9597",
   "metadata": {},
   "outputs": [
    {
     "data": {
      "text/html": [
       "<div>\n",
       "<style scoped>\n",
       "    .dataframe tbody tr th:only-of-type {\n",
       "        vertical-align: middle;\n",
       "    }\n",
       "\n",
       "    .dataframe tbody tr th {\n",
       "        vertical-align: top;\n",
       "    }\n",
       "\n",
       "    .dataframe thead th {\n",
       "        text-align: right;\n",
       "    }\n",
       "</style>\n",
       "<table border=\"1\" class=\"dataframe\">\n",
       "  <thead>\n",
       "    <tr style=\"text-align: right;\">\n",
       "      <th></th>\n",
       "      <th>author.properties.friends</th>\n",
       "      <th>author.properties.status_count</th>\n",
       "      <th>author.properties.verified</th>\n",
       "      <th>content.body</th>\n",
       "      <th>location.country</th>\n",
       "      <th>properties.platform</th>\n",
       "      <th>properties.sentiment</th>\n",
       "      <th>location.latitude</th>\n",
       "      <th>location.longitude</th>\n",
       "    </tr>\n",
       "  </thead>\n",
       "  <tbody>\n",
       "    <tr>\n",
       "      <th>406</th>\n",
       "      <td>2280</td>\n",
       "      <td>15806.00</td>\n",
       "      <td>False</td>\n",
       "      <td>@ScottMaslenCrew just asked if Dot was Ginger omg hahaha</td>\n",
       "      <td>GB</td>\n",
       "      <td>twitter</td>\n",
       "      <td>-1.00</td>\n",
       "      <td>55.98</td>\n",
       "      <td>-3.71</td>\n",
       "    </tr>\n",
       "    <tr>\n",
       "      <th>840</th>\n",
       "      <td>616</td>\n",
       "      <td>4623.00</td>\n",
       "      <td>False</td>\n",
       "      <td>in love with my promise ring😇😇</td>\n",
       "      <td>GB</td>\n",
       "      <td>twitter</td>\n",
       "      <td>1.00</td>\n",
       "      <td>53.30</td>\n",
       "      <td>-0.80</td>\n",
       "    </tr>\n",
       "  </tbody>\n",
       "</table>\n",
       "</div>"
      ],
      "text/plain": [
       "    author.properties.friends  author.properties.status_count  \\\n",
       "406                      2280                        15806.00   \n",
       "840                       616                         4623.00   \n",
       "\n",
       "    author.properties.verified  \\\n",
       "406                      False   \n",
       "840                      False   \n",
       "\n",
       "                                                 content.body  \\\n",
       "406  @ScottMaslenCrew just asked if Dot was Ginger omg hahaha   \n",
       "840                            in love with my promise ring😇😇   \n",
       "\n",
       "    location.country properties.platform  properties.sentiment  \\\n",
       "406               GB             twitter                 -1.00   \n",
       "840               GB             twitter                  1.00   \n",
       "\n",
       "     location.latitude  location.longitude  \n",
       "406              55.98               -3.71  \n",
       "840              53.30               -0.80  "
      ]
     },
     "execution_count": 42,
     "metadata": {},
     "output_type": "execute_result"
    }
   ],
   "source": [
    "train_data.head(2)"
   ]
  },
  {
   "cell_type": "code",
   "execution_count": 43,
   "id": "7396f4e2",
   "metadata": {},
   "outputs": [
    {
     "data": {
      "text/html": [
       "<div>\n",
       "<style scoped>\n",
       "    .dataframe tbody tr th:only-of-type {\n",
       "        vertical-align: middle;\n",
       "    }\n",
       "\n",
       "    .dataframe tbody tr th {\n",
       "        vertical-align: top;\n",
       "    }\n",
       "\n",
       "    .dataframe thead th {\n",
       "        text-align: right;\n",
       "    }\n",
       "</style>\n",
       "<table border=\"1\" class=\"dataframe\">\n",
       "  <thead>\n",
       "    <tr style=\"text-align: right;\">\n",
       "      <th></th>\n",
       "      <th>author.properties.friends</th>\n",
       "      <th>author.properties.status_count</th>\n",
       "      <th>author.properties.verified</th>\n",
       "      <th>content.body</th>\n",
       "      <th>location.country</th>\n",
       "      <th>properties.platform</th>\n",
       "      <th>properties.sentiment</th>\n",
       "      <th>location.latitude</th>\n",
       "      <th>location.longitude</th>\n",
       "    </tr>\n",
       "  </thead>\n",
       "  <tbody>\n",
       "    <tr>\n",
       "      <th>376</th>\n",
       "      <td>282</td>\n",
       "      <td>2085.00</td>\n",
       "      <td>False</td>\n",
       "      <td>@Donforester Many established 1st generation immigrants want to restrict immigration. Many 2nd generation eg Irish more welcoming</td>\n",
       "      <td>GB</td>\n",
       "      <td>twitter</td>\n",
       "      <td>0.00</td>\n",
       "      <td>53.42</td>\n",
       "      <td>-2.92</td>\n",
       "    </tr>\n",
       "    <tr>\n",
       "      <th>932</th>\n",
       "      <td>51</td>\n",
       "      <td>12533.00</td>\n",
       "      <td>False</td>\n",
       "      <td>@smollyalexander thank u hunty</td>\n",
       "      <td>GB</td>\n",
       "      <td>twitter</td>\n",
       "      <td>1.00</td>\n",
       "      <td>53.37</td>\n",
       "      <td>-2.17</td>\n",
       "    </tr>\n",
       "    <tr>\n",
       "      <th>144</th>\n",
       "      <td>931</td>\n",
       "      <td>307.00</td>\n",
       "      <td>False</td>\n",
       "      <td>Hedge removal part one...!! @ Dalkeith https://t.co/slEBFhE0w9</td>\n",
       "      <td>GB</td>\n",
       "      <td>twitter</td>\n",
       "      <td>-1.00</td>\n",
       "      <td>55.87</td>\n",
       "      <td>-3.07</td>\n",
       "    </tr>\n",
       "    <tr>\n",
       "      <th>753</th>\n",
       "      <td>458</td>\n",
       "      <td>966.00</td>\n",
       "      <td>False</td>\n",
       "      <td>https://t.co/dvUtHRAPG4</td>\n",
       "      <td>GB</td>\n",
       "      <td>twitter</td>\n",
       "      <td>0.00</td>\n",
       "      <td>50.96</td>\n",
       "      <td>-0.56</td>\n",
       "    </tr>\n",
       "    <tr>\n",
       "      <th>51</th>\n",
       "      <td>680</td>\n",
       "      <td>3691.00</td>\n",
       "      <td>False</td>\n",
       "      <td>@MargevonMarge Blimey. You still haven't served enough time here? #EUref #Remain</td>\n",
       "      <td>GB</td>\n",
       "      <td>twitter</td>\n",
       "      <td>-1.00</td>\n",
       "      <td>53.55</td>\n",
       "      <td>-0.66</td>\n",
       "    </tr>\n",
       "  </tbody>\n",
       "</table>\n",
       "</div>"
      ],
      "text/plain": [
       "    author.properties.friends  author.properties.status_count  \\\n",
       "376                       282                         2085.00   \n",
       "932                        51                        12533.00   \n",
       "144                       931                          307.00   \n",
       "753                       458                          966.00   \n",
       "51                        680                         3691.00   \n",
       "\n",
       "    author.properties.verified  \\\n",
       "376                      False   \n",
       "932                      False   \n",
       "144                      False   \n",
       "753                      False   \n",
       "51                       False   \n",
       "\n",
       "                                                                                                                          content.body  \\\n",
       "376  @Donforester Many established 1st generation immigrants want to restrict immigration. Many 2nd generation eg Irish more welcoming   \n",
       "932                                                                                                     @smollyalexander thank u hunty   \n",
       "144                                                                     Hedge removal part one...!! @ Dalkeith https://t.co/slEBFhE0w9   \n",
       "753                                                                                                            https://t.co/dvUtHRAPG4   \n",
       "51                                                    @MargevonMarge Blimey. You still haven't served enough time here? #EUref #Remain   \n",
       "\n",
       "    location.country properties.platform  properties.sentiment  \\\n",
       "376               GB             twitter                  0.00   \n",
       "932               GB             twitter                  1.00   \n",
       "144               GB             twitter                 -1.00   \n",
       "753               GB             twitter                  0.00   \n",
       "51                GB             twitter                 -1.00   \n",
       "\n",
       "     location.latitude  location.longitude  \n",
       "376              53.42               -2.92  \n",
       "932              53.37               -2.17  \n",
       "144              55.87               -3.07  \n",
       "753              50.96               -0.56  \n",
       "51               53.55               -0.66  "
      ]
     },
     "execution_count": 43,
     "metadata": {},
     "output_type": "execute_result"
    }
   ],
   "source": [
    "test_data.head()"
   ]
  },
  {
   "cell_type": "markdown",
   "id": "b17c1322",
   "metadata": {},
   "source": [
    "#### Training"
   ]
  },
  {
   "cell_type": "code",
   "execution_count": 44,
   "id": "5781af46",
   "metadata": {
    "scrolled": false
   },
   "outputs": [
    {
     "name": "stderr",
     "output_type": "stream",
     "text": [
      "Warning: path already exists! This predictor may overwrite an existing predictor! path=\"artefacts/models_multiclass\"\n",
      "Beginning AutoGluon training ... Time limit = 60s\n",
      "AutoGluon will save models to \"artefacts/models_multiclass\\\"\n",
      "AutoGluon Version:  0.7.0\n",
      "Python Version:     3.9.16\n",
      "Operating System:   Windows\n",
      "Platform Machine:   AMD64\n",
      "Platform Version:   10.0.22621\n",
      "Train Data Rows:    990\n",
      "Train Data Columns: 8\n",
      "Label Column: properties.sentiment\n",
      "Preprocessing data ...\n",
      "Train Data Class Count: 3\n",
      "Using Feature Generators to preprocess the data ...\n",
      "Fitting AutoMLPipelineFeatureGenerator...\n",
      "\tAvailable Memory:                    1127.57 MB\n",
      "\tTrain Data (Original)  Memory Usage: 0.41 MB (0.0% of available memory)\n",
      "\tInferring data type of each feature based on column values. Set feature_metadata_in to manually specify special dtypes of the features.\n",
      "\tStage 1 Generators:\n",
      "\t\tFitting AsTypeFeatureGenerator...\n",
      "\t\t\tNote: Converting 1 features to boolean dtype as they only contain 2 unique values.\n",
      "\tStage 2 Generators:\n",
      "\t\tFitting FillNaFeatureGenerator...\n",
      "\tStage 3 Generators:\n",
      "\t\tFitting IdentityFeatureGenerator...\n",
      "\t\tFitting CategoryFeatureGenerator...\n",
      "\t\t\tFitting CategoryMemoryMinimizeFeatureGenerator...\n",
      "\t\tFitting TextSpecialFeatureGenerator...\n",
      "\t\t\tFitting BinnedFeatureGenerator...\n",
      "\t\t\tFitting DropDuplicatesFeatureGenerator...\n",
      "\t\tFitting TextNgramFeatureGenerator...\n",
      "\t\t\tFitting CountVectorizer for text features: ['content.body']\n",
      "\t\t\tCountVectorizer fit with vocabulary size = 41\n",
      "\t\tWarning: Due to memory constraints, ngram feature count is being reduced. Allocate more memory to maximize model quality.\n",
      "\t\tReducing Vectorizer vocab size from 41 to 30 to avoid OOM error\n",
      "\tStage 4 Generators:\n",
      "\t\tFitting DropUniqueFeatureGenerator...\n",
      "\tUseless Original Features (Count: 1): ['properties.platform']\n",
      "\t\tThese features carry no predictive signal and should be manually investigated.\n",
      "\t\tThis is typically a feature which has the same value for all rows.\n",
      "\t\tThese features do not need to be present at inference time.\n",
      "\tTypes of features in original data (raw dtype, special dtypes):\n",
      "\t\t('float', [])        : 3 | ['author.properties.status_count', 'location.latitude', 'location.longitude']\n",
      "\t\t('object', [])       : 3 | ['author.properties.friends', 'author.properties.verified', 'location.country']\n",
      "\t\t('object', ['text']) : 1 | ['content.body']\n",
      "\tTypes of features in processed data (raw dtype, special dtypes):\n",
      "\t\t('category', [])                    :  2 | ['author.properties.friends', 'author.properties.verified']\n",
      "\t\t('float', [])                       :  3 | ['author.properties.status_count', 'location.latitude', 'location.longitude']\n",
      "\t\t('int', ['binned', 'text_special']) : 24 | ['content.body.char_count', 'content.body.word_count', 'content.body.capital_ratio', 'content.body.lower_ratio', 'content.body.digit_ratio', ...]\n",
      "\t\t('int', ['bool'])                   :  1 | ['location.country']\n",
      "\t\t('int', ['text_ngram'])             : 31 | ['__nlp__.and', '__nlp__.are', '__nlp__.at', '__nlp__.be', '__nlp__.but', ...]\n",
      "\t0.5s = Fit runtime\n",
      "\t7 features in original data used to generate 61 features in processed data.\n",
      "\tTrain Data (Processed) Memory Usage: 0.11 MB (0.0% of available memory)\n",
      "Data preprocessing and feature engineering runtime = 0.58s ...\n",
      "AutoGluon will gauge predictive performance using evaluation metric: 'accuracy'\n",
      "\tTo change this, specify the eval_metric parameter of Predictor()\n",
      "Automatically generating train/validation split with holdout_frac=0.2, Train Rows: 792, Val Rows: 198\n",
      "Fitting 13 L1 models ...\n",
      "Fitting model: KNeighborsUnif ... Training model for up to 59.42s of the 59.4s of remaining time.\n",
      "\t0.4444\t = Validation score   (accuracy)\n",
      "\t1.82s\t = Training   runtime\n",
      "\t0.2s\t = Validation runtime\n",
      "Fitting model: KNeighborsDist ... Training model for up to 57.38s of the 57.36s of remaining time.\n",
      "\t0.3788\t = Validation score   (accuracy)\n",
      "\t0.02s\t = Training   runtime\n",
      "\t0.03s\t = Validation runtime\n",
      "Fitting model: NeuralNetFastAI ... Training model for up to 57.32s of the 57.3s of remaining time.\n",
      "No improvement since epoch 4: early stopping\n",
      "\t0.5859\t = Validation score   (accuracy)\n",
      "\t1.9s\t = Training   runtime\n",
      "\t0.02s\t = Validation runtime\n",
      "Fitting model: LightGBMXT ... Training model for up to 55.37s of the 55.36s of remaining time.\n",
      "\t0.6263\t = Validation score   (accuracy)\n",
      "\t0.99s\t = Training   runtime\n",
      "\t0.02s\t = Validation runtime\n",
      "Fitting model: LightGBM ... Training model for up to 54.35s of the 54.34s of remaining time.\n",
      "\t0.6313\t = Validation score   (accuracy)\n",
      "\t1.13s\t = Training   runtime\n",
      "\t0.0s\t = Validation runtime\n",
      "Fitting model: RandomForestGini ... Training model for up to 53.21s of the 53.19s of remaining time.\n",
      "\t0.6162\t = Validation score   (accuracy)\n",
      "\t0.86s\t = Training   runtime\n",
      "\t0.09s\t = Validation runtime\n",
      "Fitting model: RandomForestEntr ... Training model for up to 52.2s of the 52.19s of remaining time.\n",
      "\t0.6061\t = Validation score   (accuracy)\n",
      "\t0.78s\t = Training   runtime\n",
      "\t0.08s\t = Validation runtime\n",
      "Fitting model: CatBoost ... Training model for up to 51.29s of the 51.28s of remaining time.\n",
      "\t0.6111\t = Validation score   (accuracy)\n",
      "\t12.45s\t = Training   runtime\n",
      "\t0.02s\t = Validation runtime\n",
      "Fitting model: ExtraTreesGini ... Training model for up to 38.83s of the 38.81s of remaining time.\n",
      "\t0.6162\t = Validation score   (accuracy)\n",
      "\t0.78s\t = Training   runtime\n",
      "\t0.08s\t = Validation runtime\n",
      "Fitting model: ExtraTreesEntr ... Training model for up to 37.9s of the 37.89s of remaining time.\n",
      "\t0.6111\t = Validation score   (accuracy)\n",
      "\t0.77s\t = Training   runtime\n",
      "\t0.08s\t = Validation runtime\n",
      "Fitting model: XGBoost ... Training model for up to 37.01s of the 36.99s of remaining time.\n",
      "\t0.6162\t = Validation score   (accuracy)\n",
      "\t1.49s\t = Training   runtime\n",
      "\t0.0s\t = Validation runtime\n",
      "Fitting model: NeuralNetTorch ... Training model for up to 35.47s of the 35.46s of remaining time.\n",
      "\t0.5657\t = Validation score   (accuracy)\n",
      "\t3.3s\t = Training   runtime\n",
      "\t0.02s\t = Validation runtime\n",
      "Fitting model: LightGBMLarge ... Training model for up to 32.15s of the 32.13s of remaining time.\n",
      "\t0.5859\t = Validation score   (accuracy)\n",
      "\t3.55s\t = Training   runtime\n",
      "\t0.0s\t = Validation runtime\n",
      "Fitting model: WeightedEnsemble_L2 ... Training model for up to 59.42s of the 28.45s of remaining time.\n",
      "\t0.6515\t = Validation score   (accuracy)\n",
      "\t0.72s\t = Training   runtime\n",
      "\t0.0s\t = Validation runtime\n",
      "AutoGluon training complete, total runtime = 32.32s ... Best model: \"WeightedEnsemble_L2\"\n",
      "TabularPredictor saved. To load, use: predictor = TabularPredictor.load(\"artefacts/models_multiclass\\\")\n"
     ]
    },
    {
     "name": "stdout",
     "output_type": "stream",
     "text": [
      "CPU times: total: 45.2 s\n",
      "Wall time: 32.4 s\n"
     ]
    }
   ],
   "source": [
    "%%time\n",
    "\n",
    "save_path = 'artefacts/models_multiclass'\n",
    "time_limit = 60\n",
    "label = \"properties.sentiment\"\n",
    "\n",
    "predictor = TabularPredictor(label=label, path=save_path, problem_type='multiclass').fit(test_data, time_limit=time_limit)"
   ]
  },
  {
   "cell_type": "markdown",
   "id": "17553bb6",
   "metadata": {},
   "source": [
    "### Evaluation"
   ]
  },
  {
   "cell_type": "code",
   "execution_count": 45,
   "id": "bcabc056",
   "metadata": {},
   "outputs": [
    {
     "data": {
      "text/plain": [
       "{'accuracy': 0.8262626262626263,\n",
       " 'balanced_accuracy': 0.7833361264733814,\n",
       " 'mcc': 0.7273955003714492}"
      ]
     },
     "execution_count": 45,
     "metadata": {},
     "output_type": "execute_result"
    }
   ],
   "source": [
    "predictor.evaluate(test_data, silent=True)"
   ]
  },
  {
   "cell_type": "code",
   "execution_count": 46,
   "id": "df39d843",
   "metadata": {},
   "outputs": [
    {
     "data": {
      "text/html": [
       "<div>\n",
       "<style scoped>\n",
       "    .dataframe tbody tr th:only-of-type {\n",
       "        vertical-align: middle;\n",
       "    }\n",
       "\n",
       "    .dataframe tbody tr th {\n",
       "        vertical-align: top;\n",
       "    }\n",
       "\n",
       "    .dataframe thead th {\n",
       "        text-align: right;\n",
       "    }\n",
       "</style>\n",
       "<table border=\"1\" class=\"dataframe\">\n",
       "  <thead>\n",
       "    <tr style=\"text-align: right;\">\n",
       "      <th></th>\n",
       "      <th>model</th>\n",
       "      <th>score_test</th>\n",
       "      <th>score_val</th>\n",
       "      <th>pred_time_test</th>\n",
       "      <th>pred_time_val</th>\n",
       "      <th>fit_time</th>\n",
       "      <th>pred_time_test_marginal</th>\n",
       "      <th>pred_time_val_marginal</th>\n",
       "      <th>fit_time_marginal</th>\n",
       "      <th>stack_level</th>\n",
       "      <th>can_infer</th>\n",
       "      <th>fit_order</th>\n",
       "    </tr>\n",
       "  </thead>\n",
       "  <tbody>\n",
       "    <tr>\n",
       "      <th>0</th>\n",
       "      <td>ExtraTreesGini</td>\n",
       "      <td>0.92</td>\n",
       "      <td>0.62</td>\n",
       "      <td>0.14</td>\n",
       "      <td>0.08</td>\n",
       "      <td>0.78</td>\n",
       "      <td>0.14</td>\n",
       "      <td>0.08</td>\n",
       "      <td>0.78</td>\n",
       "      <td>1</td>\n",
       "      <td>True</td>\n",
       "      <td>9</td>\n",
       "    </tr>\n",
       "    <tr>\n",
       "      <th>1</th>\n",
       "      <td>RandomForestGini</td>\n",
       "      <td>0.92</td>\n",
       "      <td>0.62</td>\n",
       "      <td>0.16</td>\n",
       "      <td>0.09</td>\n",
       "      <td>0.86</td>\n",
       "      <td>0.16</td>\n",
       "      <td>0.09</td>\n",
       "      <td>0.86</td>\n",
       "      <td>1</td>\n",
       "      <td>True</td>\n",
       "      <td>6</td>\n",
       "    </tr>\n",
       "    <tr>\n",
       "      <th>2</th>\n",
       "      <td>ExtraTreesEntr</td>\n",
       "      <td>0.92</td>\n",
       "      <td>0.61</td>\n",
       "      <td>0.14</td>\n",
       "      <td>0.08</td>\n",
       "      <td>0.77</td>\n",
       "      <td>0.14</td>\n",
       "      <td>0.08</td>\n",
       "      <td>0.77</td>\n",
       "      <td>1</td>\n",
       "      <td>True</td>\n",
       "      <td>10</td>\n",
       "    </tr>\n",
       "    <tr>\n",
       "      <th>3</th>\n",
       "      <td>RandomForestEntr</td>\n",
       "      <td>0.92</td>\n",
       "      <td>0.61</td>\n",
       "      <td>0.13</td>\n",
       "      <td>0.08</td>\n",
       "      <td>0.78</td>\n",
       "      <td>0.13</td>\n",
       "      <td>0.08</td>\n",
       "      <td>0.78</td>\n",
       "      <td>1</td>\n",
       "      <td>True</td>\n",
       "      <td>7</td>\n",
       "    </tr>\n",
       "    <tr>\n",
       "      <th>4</th>\n",
       "      <td>LightGBMLarge</td>\n",
       "      <td>0.89</td>\n",
       "      <td>0.59</td>\n",
       "      <td>0.03</td>\n",
       "      <td>0.00</td>\n",
       "      <td>3.55</td>\n",
       "      <td>0.03</td>\n",
       "      <td>0.00</td>\n",
       "      <td>3.55</td>\n",
       "      <td>1</td>\n",
       "      <td>True</td>\n",
       "      <td>13</td>\n",
       "    </tr>\n",
       "    <tr>\n",
       "      <th>5</th>\n",
       "      <td>KNeighborsDist</td>\n",
       "      <td>0.88</td>\n",
       "      <td>0.38</td>\n",
       "      <td>0.02</td>\n",
       "      <td>0.03</td>\n",
       "      <td>0.02</td>\n",
       "      <td>0.02</td>\n",
       "      <td>0.03</td>\n",
       "      <td>0.02</td>\n",
       "      <td>1</td>\n",
       "      <td>True</td>\n",
       "      <td>2</td>\n",
       "    </tr>\n",
       "    <tr>\n",
       "      <th>6</th>\n",
       "      <td>XGBoost</td>\n",
       "      <td>0.85</td>\n",
       "      <td>0.62</td>\n",
       "      <td>0.10</td>\n",
       "      <td>0.00</td>\n",
       "      <td>1.49</td>\n",
       "      <td>0.10</td>\n",
       "      <td>0.00</td>\n",
       "      <td>1.49</td>\n",
       "      <td>1</td>\n",
       "      <td>True</td>\n",
       "      <td>11</td>\n",
       "    </tr>\n",
       "    <tr>\n",
       "      <th>7</th>\n",
       "      <td>WeightedEnsemble_L2</td>\n",
       "      <td>0.83</td>\n",
       "      <td>0.65</td>\n",
       "      <td>0.26</td>\n",
       "      <td>0.11</td>\n",
       "      <td>7.83</td>\n",
       "      <td>0.02</td>\n",
       "      <td>0.00</td>\n",
       "      <td>0.72</td>\n",
       "      <td>2</td>\n",
       "      <td>True</td>\n",
       "      <td>14</td>\n",
       "    </tr>\n",
       "    <tr>\n",
       "      <th>8</th>\n",
       "      <td>LightGBM</td>\n",
       "      <td>0.74</td>\n",
       "      <td>0.63</td>\n",
       "      <td>0.02</td>\n",
       "      <td>0.00</td>\n",
       "      <td>1.13</td>\n",
       "      <td>0.02</td>\n",
       "      <td>0.00</td>\n",
       "      <td>1.13</td>\n",
       "      <td>1</td>\n",
       "      <td>True</td>\n",
       "      <td>5</td>\n",
       "    </tr>\n",
       "    <tr>\n",
       "      <th>9</th>\n",
       "      <td>LightGBMXT</td>\n",
       "      <td>0.74</td>\n",
       "      <td>0.63</td>\n",
       "      <td>0.03</td>\n",
       "      <td>0.02</td>\n",
       "      <td>0.99</td>\n",
       "      <td>0.03</td>\n",
       "      <td>0.02</td>\n",
       "      <td>0.99</td>\n",
       "      <td>1</td>\n",
       "      <td>True</td>\n",
       "      <td>4</td>\n",
       "    </tr>\n",
       "    <tr>\n",
       "      <th>10</th>\n",
       "      <td>CatBoost</td>\n",
       "      <td>0.69</td>\n",
       "      <td>0.61</td>\n",
       "      <td>0.02</td>\n",
       "      <td>0.02</td>\n",
       "      <td>12.45</td>\n",
       "      <td>0.02</td>\n",
       "      <td>0.02</td>\n",
       "      <td>12.45</td>\n",
       "      <td>1</td>\n",
       "      <td>True</td>\n",
       "      <td>8</td>\n",
       "    </tr>\n",
       "    <tr>\n",
       "      <th>11</th>\n",
       "      <td>NeuralNetFastAI</td>\n",
       "      <td>0.65</td>\n",
       "      <td>0.59</td>\n",
       "      <td>0.05</td>\n",
       "      <td>0.02</td>\n",
       "      <td>1.90</td>\n",
       "      <td>0.05</td>\n",
       "      <td>0.02</td>\n",
       "      <td>1.90</td>\n",
       "      <td>1</td>\n",
       "      <td>True</td>\n",
       "      <td>3</td>\n",
       "    </tr>\n",
       "    <tr>\n",
       "      <th>12</th>\n",
       "      <td>NeuralNetTorch</td>\n",
       "      <td>0.59</td>\n",
       "      <td>0.57</td>\n",
       "      <td>0.05</td>\n",
       "      <td>0.02</td>\n",
       "      <td>3.30</td>\n",
       "      <td>0.05</td>\n",
       "      <td>0.02</td>\n",
       "      <td>3.30</td>\n",
       "      <td>1</td>\n",
       "      <td>True</td>\n",
       "      <td>12</td>\n",
       "    </tr>\n",
       "    <tr>\n",
       "      <th>13</th>\n",
       "      <td>KNeighborsUnif</td>\n",
       "      <td>0.57</td>\n",
       "      <td>0.44</td>\n",
       "      <td>0.01</td>\n",
       "      <td>0.20</td>\n",
       "      <td>1.82</td>\n",
       "      <td>0.01</td>\n",
       "      <td>0.20</td>\n",
       "      <td>1.82</td>\n",
       "      <td>1</td>\n",
       "      <td>True</td>\n",
       "      <td>1</td>\n",
       "    </tr>\n",
       "  </tbody>\n",
       "</table>\n",
       "</div>"
      ],
      "text/plain": [
       "                  model  score_test  score_val  pred_time_test  pred_time_val  \\\n",
       "0        ExtraTreesGini        0.92       0.62            0.14           0.08   \n",
       "1      RandomForestGini        0.92       0.62            0.16           0.09   \n",
       "2        ExtraTreesEntr        0.92       0.61            0.14           0.08   \n",
       "3      RandomForestEntr        0.92       0.61            0.13           0.08   \n",
       "4         LightGBMLarge        0.89       0.59            0.03           0.00   \n",
       "5        KNeighborsDist        0.88       0.38            0.02           0.03   \n",
       "6               XGBoost        0.85       0.62            0.10           0.00   \n",
       "7   WeightedEnsemble_L2        0.83       0.65            0.26           0.11   \n",
       "8              LightGBM        0.74       0.63            0.02           0.00   \n",
       "9            LightGBMXT        0.74       0.63            0.03           0.02   \n",
       "10             CatBoost        0.69       0.61            0.02           0.02   \n",
       "11      NeuralNetFastAI        0.65       0.59            0.05           0.02   \n",
       "12       NeuralNetTorch        0.59       0.57            0.05           0.02   \n",
       "13       KNeighborsUnif        0.57       0.44            0.01           0.20   \n",
       "\n",
       "    fit_time  pred_time_test_marginal  pred_time_val_marginal  \\\n",
       "0       0.78                     0.14                    0.08   \n",
       "1       0.86                     0.16                    0.09   \n",
       "2       0.77                     0.14                    0.08   \n",
       "3       0.78                     0.13                    0.08   \n",
       "4       3.55                     0.03                    0.00   \n",
       "5       0.02                     0.02                    0.03   \n",
       "6       1.49                     0.10                    0.00   \n",
       "7       7.83                     0.02                    0.00   \n",
       "8       1.13                     0.02                    0.00   \n",
       "9       0.99                     0.03                    0.02   \n",
       "10     12.45                     0.02                    0.02   \n",
       "11      1.90                     0.05                    0.02   \n",
       "12      3.30                     0.05                    0.02   \n",
       "13      1.82                     0.01                    0.20   \n",
       "\n",
       "    fit_time_marginal  stack_level  can_infer  fit_order  \n",
       "0                0.78            1       True          9  \n",
       "1                0.86            1       True          6  \n",
       "2                0.77            1       True         10  \n",
       "3                0.78            1       True          7  \n",
       "4                3.55            1       True         13  \n",
       "5                0.02            1       True          2  \n",
       "6                1.49            1       True         11  \n",
       "7                0.72            2       True         14  \n",
       "8                1.13            1       True          5  \n",
       "9                0.99            1       True          4  \n",
       "10              12.45            1       True          8  \n",
       "11               1.90            1       True          3  \n",
       "12               3.30            1       True         12  \n",
       "13               1.82            1       True          1  "
      ]
     },
     "execution_count": 46,
     "metadata": {},
     "output_type": "execute_result"
    }
   ],
   "source": [
    "predictor.leaderboard(test_data, silent=True)"
   ]
  },
  {
   "cell_type": "code",
   "execution_count": 47,
   "id": "f83ec40d",
   "metadata": {},
   "outputs": [
    {
     "data": {
      "text/plain": [
       "'WeightedEnsemble_L2'"
      ]
     },
     "execution_count": 47,
     "metadata": {},
     "output_type": "execute_result"
    }
   ],
   "source": [
    "predictor.get_model_best()"
   ]
  },
  {
   "cell_type": "markdown",
   "id": "4b430a57",
   "metadata": {},
   "source": [
    "### Evaluation"
   ]
  },
  {
   "cell_type": "markdown",
   "id": "22f509de",
   "metadata": {},
   "source": [
    "```python\n",
    "Features Importance\n",
    "```"
   ]
  },
  {
   "cell_type": "code",
   "execution_count": 48,
   "id": "0df01846",
   "metadata": {},
   "outputs": [],
   "source": [
    "y_test = test_data[label]  # values to be predicted\n",
    "test_data_nolab = test_data.drop(columns=[label])   "
   ]
  },
  {
   "cell_type": "code",
   "execution_count": 49,
   "id": "e2f68b59",
   "metadata": {},
   "outputs": [
    {
     "data": {
      "text/html": [
       "<div>\n",
       "<style scoped>\n",
       "    .dataframe tbody tr th:only-of-type {\n",
       "        vertical-align: middle;\n",
       "    }\n",
       "\n",
       "    .dataframe tbody tr th {\n",
       "        vertical-align: top;\n",
       "    }\n",
       "\n",
       "    .dataframe thead th {\n",
       "        text-align: right;\n",
       "    }\n",
       "</style>\n",
       "<table border=\"1\" class=\"dataframe\">\n",
       "  <thead>\n",
       "    <tr style=\"text-align: right;\">\n",
       "      <th></th>\n",
       "      <th>author.properties.friends</th>\n",
       "      <th>author.properties.status_count</th>\n",
       "      <th>author.properties.verified</th>\n",
       "      <th>content.body</th>\n",
       "      <th>location.country</th>\n",
       "      <th>properties.platform</th>\n",
       "      <th>location.latitude</th>\n",
       "      <th>location.longitude</th>\n",
       "    </tr>\n",
       "  </thead>\n",
       "  <tbody>\n",
       "    <tr>\n",
       "      <th>376</th>\n",
       "      <td>282</td>\n",
       "      <td>2085.00</td>\n",
       "      <td>False</td>\n",
       "      <td>@Donforester Many established 1st generation immigrants want to restrict immigration. Many 2nd generation eg Irish more welcoming</td>\n",
       "      <td>GB</td>\n",
       "      <td>twitter</td>\n",
       "      <td>53.42</td>\n",
       "      <td>-2.92</td>\n",
       "    </tr>\n",
       "  </tbody>\n",
       "</table>\n",
       "</div>"
      ],
      "text/plain": [
       "    author.properties.friends  author.properties.status_count  \\\n",
       "376                       282                         2085.00   \n",
       "\n",
       "    author.properties.verified  \\\n",
       "376                      False   \n",
       "\n",
       "                                                                                                                          content.body  \\\n",
       "376  @Donforester Many established 1st generation immigrants want to restrict immigration. Many 2nd generation eg Irish more welcoming   \n",
       "\n",
       "    location.country properties.platform  location.latitude  \\\n",
       "376               GB             twitter              53.42   \n",
       "\n",
       "     location.longitude  \n",
       "376               -2.92  "
      ]
     },
     "execution_count": 49,
     "metadata": {},
     "output_type": "execute_result"
    }
   ],
   "source": [
    "test_data_nolab.head(1)"
   ]
  },
  {
   "cell_type": "code",
   "execution_count": 50,
   "id": "c9a5bf3e",
   "metadata": {},
   "outputs": [],
   "source": [
    "# `predictor.path` is another way to get the relative path needed to later load predictor.\n",
    "save_model_predictor = TabularPredictor.load(save_path) "
   ]
  },
  {
   "cell_type": "code",
   "execution_count": 51,
   "id": "0634369e",
   "metadata": {},
   "outputs": [
    {
     "data": {
      "text/plain": [
       "['author.properties.friends',\n",
       " 'author.properties.status_count',\n",
       " 'author.properties.verified',\n",
       " 'content.body',\n",
       " 'location.country',\n",
       " 'location.latitude',\n",
       " 'location.longitude']"
      ]
     },
     "execution_count": 51,
     "metadata": {},
     "output_type": "execute_result"
    }
   ],
   "source": [
    "# To find out the required feature columns to make predictions\n",
    "save_model_predictor.features()"
   ]
  },
  {
   "cell_type": "markdown",
   "id": "4975f002",
   "metadata": {},
   "source": [
    "### Prediction"
   ]
  },
  {
   "cell_type": "code",
   "execution_count": 52,
   "id": "eda4c855",
   "metadata": {},
   "outputs": [],
   "source": [
    "y_pred = save_model_predictor.predict(test_data_nolab)"
   ]
  },
  {
   "cell_type": "code",
   "execution_count": 53,
   "id": "65cfa0b0",
   "metadata": {},
   "outputs": [],
   "source": [
    "# returns a DataFrame that shows which probability corresponds to which class\n",
    "y_pred_prob = save_model_predictor.predict_proba(test_data_nolab)"
   ]
  },
  {
   "cell_type": "code",
   "execution_count": 54,
   "id": "159c2930",
   "metadata": {},
   "outputs": [
    {
     "data": {
      "text/html": [
       "<div>\n",
       "<style scoped>\n",
       "    .dataframe tbody tr th:only-of-type {\n",
       "        vertical-align: middle;\n",
       "    }\n",
       "\n",
       "    .dataframe tbody tr th {\n",
       "        vertical-align: top;\n",
       "    }\n",
       "\n",
       "    .dataframe thead th {\n",
       "        text-align: right;\n",
       "    }\n",
       "</style>\n",
       "<table border=\"1\" class=\"dataframe\">\n",
       "  <thead>\n",
       "    <tr style=\"text-align: right;\">\n",
       "      <th></th>\n",
       "      <th>-1.00</th>\n",
       "      <th>0.00</th>\n",
       "      <th>1.00</th>\n",
       "    </tr>\n",
       "  </thead>\n",
       "  <tbody>\n",
       "    <tr>\n",
       "      <th>932</th>\n",
       "      <td>0.42</td>\n",
       "      <td>0.33</td>\n",
       "      <td>0.25</td>\n",
       "    </tr>\n",
       "    <tr>\n",
       "      <th>144</th>\n",
       "      <td>0.52</td>\n",
       "      <td>0.30</td>\n",
       "      <td>0.18</td>\n",
       "    </tr>\n",
       "    <tr>\n",
       "      <th>753</th>\n",
       "      <td>0.17</td>\n",
       "      <td>0.72</td>\n",
       "      <td>0.10</td>\n",
       "    </tr>\n",
       "    <tr>\n",
       "      <th>51</th>\n",
       "      <td>0.50</td>\n",
       "      <td>0.27</td>\n",
       "      <td>0.23</td>\n",
       "    </tr>\n",
       "  </tbody>\n",
       "</table>\n",
       "</div>"
      ],
      "text/plain": [
       "     -1.00  0.00   1.00 \n",
       "932   0.42   0.33   0.25\n",
       "144   0.52   0.30   0.18\n",
       "753   0.17   0.72   0.10\n",
       "51    0.50   0.27   0.23"
      ]
     },
     "execution_count": 54,
     "metadata": {},
     "output_type": "execute_result"
    }
   ],
   "source": [
    "y_pred_prob[1:5]"
   ]
  },
  {
   "cell_type": "code",
   "execution_count": 55,
   "id": "a0c05764",
   "metadata": {},
   "outputs": [
    {
     "data": {
      "text/plain": [
       "'WeightedEnsemble_L2'"
      ]
     },
     "execution_count": 55,
     "metadata": {},
     "output_type": "execute_result"
    }
   ],
   "source": [
    "predictor.get_model_best()"
   ]
  },
  {
   "cell_type": "code",
   "execution_count": 56,
   "id": "522cf9ca",
   "metadata": {},
   "outputs": [
    {
     "data": {
      "text/plain": [
       "932   -1.00\n",
       "144   -1.00\n",
       "753    0.00\n",
       "51    -1.00\n",
       "Name: properties.sentiment, dtype: float64"
      ]
     },
     "execution_count": 56,
     "metadata": {},
     "output_type": "execute_result"
    }
   ],
   "source": [
    "y_pred[1:5]"
   ]
  },
  {
   "cell_type": "code",
   "execution_count": 57,
   "id": "f068cc37",
   "metadata": {},
   "outputs": [
    {
     "data": {
      "text/plain": [
       "932    1.00\n",
       "144   -1.00\n",
       "753    0.00\n",
       "51    -1.00\n",
       "Name: properties.sentiment, dtype: float64"
      ]
     },
     "execution_count": 57,
     "metadata": {},
     "output_type": "execute_result"
    }
   ],
   "source": [
    "y_test[1:5]"
   ]
  },
  {
   "cell_type": "code",
   "execution_count": 58,
   "id": "60fa2b71",
   "metadata": {},
   "outputs": [
    {
     "data": {
      "text/html": [
       "<div>\n",
       "<style scoped>\n",
       "    .dataframe tbody tr th:only-of-type {\n",
       "        vertical-align: middle;\n",
       "    }\n",
       "\n",
       "    .dataframe tbody tr th {\n",
       "        vertical-align: top;\n",
       "    }\n",
       "\n",
       "    .dataframe thead th {\n",
       "        text-align: right;\n",
       "    }\n",
       "</style>\n",
       "<table border=\"1\" class=\"dataframe\">\n",
       "  <thead>\n",
       "    <tr style=\"text-align: right;\">\n",
       "      <th></th>\n",
       "      <th>model</th>\n",
       "      <th>score_test</th>\n",
       "      <th>accuracy</th>\n",
       "      <th>balanced_accuracy</th>\n",
       "      <th>log_loss</th>\n",
       "      <th>score_val</th>\n",
       "      <th>pred_time_test</th>\n",
       "      <th>pred_time_val</th>\n",
       "      <th>fit_time</th>\n",
       "      <th>pred_time_test_marginal</th>\n",
       "      <th>pred_time_val_marginal</th>\n",
       "      <th>fit_time_marginal</th>\n",
       "      <th>stack_level</th>\n",
       "      <th>can_infer</th>\n",
       "      <th>fit_order</th>\n",
       "    </tr>\n",
       "  </thead>\n",
       "  <tbody>\n",
       "    <tr>\n",
       "      <th>0</th>\n",
       "      <td>ExtraTreesGini</td>\n",
       "      <td>0.92</td>\n",
       "      <td>0.92</td>\n",
       "      <td>0.91</td>\n",
       "      <td>-0.36</td>\n",
       "      <td>0.62</td>\n",
       "      <td>0.14</td>\n",
       "      <td>0.08</td>\n",
       "      <td>0.78</td>\n",
       "      <td>0.14</td>\n",
       "      <td>0.08</td>\n",
       "      <td>0.78</td>\n",
       "      <td>1</td>\n",
       "      <td>True</td>\n",
       "      <td>9</td>\n",
       "    </tr>\n",
       "    <tr>\n",
       "      <th>1</th>\n",
       "      <td>RandomForestGini</td>\n",
       "      <td>0.92</td>\n",
       "      <td>0.92</td>\n",
       "      <td>0.91</td>\n",
       "      <td>-0.36</td>\n",
       "      <td>0.62</td>\n",
       "      <td>0.17</td>\n",
       "      <td>0.09</td>\n",
       "      <td>0.86</td>\n",
       "      <td>0.17</td>\n",
       "      <td>0.09</td>\n",
       "      <td>0.86</td>\n",
       "      <td>1</td>\n",
       "      <td>True</td>\n",
       "      <td>6</td>\n",
       "    </tr>\n",
       "    <tr>\n",
       "      <th>2</th>\n",
       "      <td>ExtraTreesEntr</td>\n",
       "      <td>0.92</td>\n",
       "      <td>0.92</td>\n",
       "      <td>0.91</td>\n",
       "      <td>-0.36</td>\n",
       "      <td>0.61</td>\n",
       "      <td>0.16</td>\n",
       "      <td>0.08</td>\n",
       "      <td>0.77</td>\n",
       "      <td>0.16</td>\n",
       "      <td>0.08</td>\n",
       "      <td>0.77</td>\n",
       "      <td>1</td>\n",
       "      <td>True</td>\n",
       "      <td>10</td>\n",
       "    </tr>\n",
       "    <tr>\n",
       "      <th>3</th>\n",
       "      <td>RandomForestEntr</td>\n",
       "      <td>0.92</td>\n",
       "      <td>0.92</td>\n",
       "      <td>0.91</td>\n",
       "      <td>-0.36</td>\n",
       "      <td>0.61</td>\n",
       "      <td>0.14</td>\n",
       "      <td>0.08</td>\n",
       "      <td>0.78</td>\n",
       "      <td>0.14</td>\n",
       "      <td>0.08</td>\n",
       "      <td>0.78</td>\n",
       "      <td>1</td>\n",
       "      <td>True</td>\n",
       "      <td>7</td>\n",
       "    </tr>\n",
       "    <tr>\n",
       "      <th>4</th>\n",
       "      <td>LightGBMLarge</td>\n",
       "      <td>0.89</td>\n",
       "      <td>0.89</td>\n",
       "      <td>0.86</td>\n",
       "      <td>-0.70</td>\n",
       "      <td>0.59</td>\n",
       "      <td>0.02</td>\n",
       "      <td>0.00</td>\n",
       "      <td>3.55</td>\n",
       "      <td>0.02</td>\n",
       "      <td>0.00</td>\n",
       "      <td>3.55</td>\n",
       "      <td>1</td>\n",
       "      <td>True</td>\n",
       "      <td>13</td>\n",
       "    </tr>\n",
       "    <tr>\n",
       "      <th>5</th>\n",
       "      <td>KNeighborsDist</td>\n",
       "      <td>0.88</td>\n",
       "      <td>0.88</td>\n",
       "      <td>0.87</td>\n",
       "      <td>-1.10</td>\n",
       "      <td>0.38</td>\n",
       "      <td>0.02</td>\n",
       "      <td>0.03</td>\n",
       "      <td>0.02</td>\n",
       "      <td>0.02</td>\n",
       "      <td>0.03</td>\n",
       "      <td>0.02</td>\n",
       "      <td>1</td>\n",
       "      <td>True</td>\n",
       "      <td>2</td>\n",
       "    </tr>\n",
       "    <tr>\n",
       "      <th>6</th>\n",
       "      <td>XGBoost</td>\n",
       "      <td>0.85</td>\n",
       "      <td>0.85</td>\n",
       "      <td>0.81</td>\n",
       "      <td>-0.54</td>\n",
       "      <td>0.62</td>\n",
       "      <td>0.03</td>\n",
       "      <td>0.00</td>\n",
       "      <td>1.49</td>\n",
       "      <td>0.03</td>\n",
       "      <td>0.00</td>\n",
       "      <td>1.49</td>\n",
       "      <td>1</td>\n",
       "      <td>True</td>\n",
       "      <td>11</td>\n",
       "    </tr>\n",
       "    <tr>\n",
       "      <th>7</th>\n",
       "      <td>WeightedEnsemble_L2</td>\n",
       "      <td>0.83</td>\n",
       "      <td>0.83</td>\n",
       "      <td>0.78</td>\n",
       "      <td>-0.71</td>\n",
       "      <td>0.65</td>\n",
       "      <td>0.27</td>\n",
       "      <td>0.11</td>\n",
       "      <td>7.83</td>\n",
       "      <td>0.02</td>\n",
       "      <td>0.00</td>\n",
       "      <td>0.72</td>\n",
       "      <td>2</td>\n",
       "      <td>True</td>\n",
       "      <td>14</td>\n",
       "    </tr>\n",
       "    <tr>\n",
       "      <th>8</th>\n",
       "      <td>LightGBM</td>\n",
       "      <td>0.74</td>\n",
       "      <td>0.74</td>\n",
       "      <td>0.68</td>\n",
       "      <td>-0.74</td>\n",
       "      <td>0.63</td>\n",
       "      <td>0.02</td>\n",
       "      <td>0.00</td>\n",
       "      <td>1.13</td>\n",
       "      <td>0.02</td>\n",
       "      <td>0.00</td>\n",
       "      <td>1.13</td>\n",
       "      <td>1</td>\n",
       "      <td>True</td>\n",
       "      <td>5</td>\n",
       "    </tr>\n",
       "    <tr>\n",
       "      <th>9</th>\n",
       "      <td>LightGBMXT</td>\n",
       "      <td>0.74</td>\n",
       "      <td>0.74</td>\n",
       "      <td>0.68</td>\n",
       "      <td>-0.69</td>\n",
       "      <td>0.63</td>\n",
       "      <td>0.02</td>\n",
       "      <td>0.02</td>\n",
       "      <td>0.99</td>\n",
       "      <td>0.02</td>\n",
       "      <td>0.02</td>\n",
       "      <td>0.99</td>\n",
       "      <td>1</td>\n",
       "      <td>True</td>\n",
       "      <td>4</td>\n",
       "    </tr>\n",
       "    <tr>\n",
       "      <th>10</th>\n",
       "      <td>CatBoost</td>\n",
       "      <td>0.69</td>\n",
       "      <td>0.69</td>\n",
       "      <td>0.61</td>\n",
       "      <td>-0.78</td>\n",
       "      <td>0.61</td>\n",
       "      <td>0.02</td>\n",
       "      <td>0.02</td>\n",
       "      <td>12.45</td>\n",
       "      <td>0.02</td>\n",
       "      <td>0.02</td>\n",
       "      <td>12.45</td>\n",
       "      <td>1</td>\n",
       "      <td>True</td>\n",
       "      <td>8</td>\n",
       "    </tr>\n",
       "    <tr>\n",
       "      <th>11</th>\n",
       "      <td>NeuralNetFastAI</td>\n",
       "      <td>0.65</td>\n",
       "      <td>0.65</td>\n",
       "      <td>0.60</td>\n",
       "      <td>-0.94</td>\n",
       "      <td>0.59</td>\n",
       "      <td>0.05</td>\n",
       "      <td>0.02</td>\n",
       "      <td>1.90</td>\n",
       "      <td>0.05</td>\n",
       "      <td>0.02</td>\n",
       "      <td>1.90</td>\n",
       "      <td>1</td>\n",
       "      <td>True</td>\n",
       "      <td>3</td>\n",
       "    </tr>\n",
       "    <tr>\n",
       "      <th>12</th>\n",
       "      <td>NeuralNetTorch</td>\n",
       "      <td>0.59</td>\n",
       "      <td>0.59</td>\n",
       "      <td>0.55</td>\n",
       "      <td>-0.89</td>\n",
       "      <td>0.57</td>\n",
       "      <td>0.05</td>\n",
       "      <td>0.02</td>\n",
       "      <td>3.30</td>\n",
       "      <td>0.05</td>\n",
       "      <td>0.02</td>\n",
       "      <td>3.30</td>\n",
       "      <td>1</td>\n",
       "      <td>True</td>\n",
       "      <td>12</td>\n",
       "    </tr>\n",
       "    <tr>\n",
       "      <th>13</th>\n",
       "      <td>KNeighborsUnif</td>\n",
       "      <td>0.57</td>\n",
       "      <td>0.57</td>\n",
       "      <td>0.50</td>\n",
       "      <td>-1.70</td>\n",
       "      <td>0.44</td>\n",
       "      <td>0.00</td>\n",
       "      <td>0.20</td>\n",
       "      <td>1.82</td>\n",
       "      <td>0.00</td>\n",
       "      <td>0.20</td>\n",
       "      <td>1.82</td>\n",
       "      <td>1</td>\n",
       "      <td>True</td>\n",
       "      <td>1</td>\n",
       "    </tr>\n",
       "  </tbody>\n",
       "</table>\n",
       "</div>"
      ],
      "text/plain": [
       "                  model  score_test  accuracy  balanced_accuracy  log_loss  \\\n",
       "0        ExtraTreesGini        0.92      0.92               0.91     -0.36   \n",
       "1      RandomForestGini        0.92      0.92               0.91     -0.36   \n",
       "2        ExtraTreesEntr        0.92      0.92               0.91     -0.36   \n",
       "3      RandomForestEntr        0.92      0.92               0.91     -0.36   \n",
       "4         LightGBMLarge        0.89      0.89               0.86     -0.70   \n",
       "5        KNeighborsDist        0.88      0.88               0.87     -1.10   \n",
       "6               XGBoost        0.85      0.85               0.81     -0.54   \n",
       "7   WeightedEnsemble_L2        0.83      0.83               0.78     -0.71   \n",
       "8              LightGBM        0.74      0.74               0.68     -0.74   \n",
       "9            LightGBMXT        0.74      0.74               0.68     -0.69   \n",
       "10             CatBoost        0.69      0.69               0.61     -0.78   \n",
       "11      NeuralNetFastAI        0.65      0.65               0.60     -0.94   \n",
       "12       NeuralNetTorch        0.59      0.59               0.55     -0.89   \n",
       "13       KNeighborsUnif        0.57      0.57               0.50     -1.70   \n",
       "\n",
       "    score_val  pred_time_test  pred_time_val  fit_time  \\\n",
       "0        0.62            0.14           0.08      0.78   \n",
       "1        0.62            0.17           0.09      0.86   \n",
       "2        0.61            0.16           0.08      0.77   \n",
       "3        0.61            0.14           0.08      0.78   \n",
       "4        0.59            0.02           0.00      3.55   \n",
       "5        0.38            0.02           0.03      0.02   \n",
       "6        0.62            0.03           0.00      1.49   \n",
       "7        0.65            0.27           0.11      7.83   \n",
       "8        0.63            0.02           0.00      1.13   \n",
       "9        0.63            0.02           0.02      0.99   \n",
       "10       0.61            0.02           0.02     12.45   \n",
       "11       0.59            0.05           0.02      1.90   \n",
       "12       0.57            0.05           0.02      3.30   \n",
       "13       0.44            0.00           0.20      1.82   \n",
       "\n",
       "    pred_time_test_marginal  pred_time_val_marginal  fit_time_marginal  \\\n",
       "0                      0.14                    0.08               0.78   \n",
       "1                      0.17                    0.09               0.86   \n",
       "2                      0.16                    0.08               0.77   \n",
       "3                      0.14                    0.08               0.78   \n",
       "4                      0.02                    0.00               3.55   \n",
       "5                      0.02                    0.03               0.02   \n",
       "6                      0.03                    0.00               1.49   \n",
       "7                      0.02                    0.00               0.72   \n",
       "8                      0.02                    0.00               1.13   \n",
       "9                      0.02                    0.02               0.99   \n",
       "10                     0.02                    0.02              12.45   \n",
       "11                     0.05                    0.02               1.90   \n",
       "12                     0.05                    0.02               3.30   \n",
       "13                     0.00                    0.20               1.82   \n",
       "\n",
       "    stack_level  can_infer  fit_order  \n",
       "0             1       True          9  \n",
       "1             1       True          6  \n",
       "2             1       True         10  \n",
       "3             1       True          7  \n",
       "4             1       True         13  \n",
       "5             1       True          2  \n",
       "6             1       True         11  \n",
       "7             2       True         14  \n",
       "8             1       True          5  \n",
       "9             1       True          4  \n",
       "10            1       True          8  \n",
       "11            1       True          3  \n",
       "12            1       True         12  \n",
       "13            1       True          1  "
      ]
     },
     "execution_count": 58,
     "metadata": {},
     "output_type": "execute_result"
    }
   ],
   "source": [
    "# To show scores for other metrics, you can specify the extra_metrics argument when passing in test_data\n",
    "save_model_predictor.leaderboard(test_data, extra_metrics=['accuracy', 'balanced_accuracy', 'log_loss'], silent=True)\n"
   ]
  },
  {
   "cell_type": "code",
   "execution_count": 59,
   "id": "d1054a10",
   "metadata": {},
   "outputs": [
    {
     "name": "stderr",
     "output_type": "stream",
     "text": [
      "Evaluation: accuracy on test data: 0.8262626262626263\n",
      "Evaluations on test data:\n",
      "{\n",
      "    \"accuracy\": 0.8262626262626263,\n",
      "    \"balanced_accuracy\": 0.7833361264733814,\n",
      "    \"mcc\": 0.7273955003714492\n",
      "}\n"
     ]
    }
   ],
   "source": [
    "# The predictor also remembers what metric predictions should be evaluated with\n",
    "perf = save_model_predictor.evaluate_predictions(y_true=y_test, y_pred=y_pred_prob)\n"
   ]
  },
  {
   "cell_type": "code",
   "execution_count": 60,
   "id": "4b81ca82",
   "metadata": {},
   "outputs": [
    {
     "name": "stderr",
     "output_type": "stream",
     "text": [
      "Evaluation: accuracy on test data: 0.8262626262626263\n",
      "Evaluations on test data:\n",
      "{\n",
      "    \"accuracy\": 0.8262626262626263,\n",
      "    \"balanced_accuracy\": 0.7833361264733814,\n",
      "    \"mcc\": 0.7273955003714492\n",
      "}\n"
     ]
    }
   ],
   "source": [
    "# Alternatively since the label columns remains in the test_data DataFrame \n",
    "perf = save_model_predictor.evaluate(test_data)"
   ]
  },
  {
   "cell_type": "markdown",
   "id": "17121ba5",
   "metadata": {},
   "source": [
    "###  Input for Prediction"
   ]
  },
  {
   "cell_type": "code",
   "execution_count": 61,
   "id": "cbcefb49",
   "metadata": {},
   "outputs": [
    {
     "data": {
      "text/html": [
       "<div>\n",
       "<style scoped>\n",
       "    .dataframe tbody tr th:only-of-type {\n",
       "        vertical-align: middle;\n",
       "    }\n",
       "\n",
       "    .dataframe tbody tr th {\n",
       "        vertical-align: top;\n",
       "    }\n",
       "\n",
       "    .dataframe thead th {\n",
       "        text-align: right;\n",
       "    }\n",
       "</style>\n",
       "<table border=\"1\" class=\"dataframe\">\n",
       "  <thead>\n",
       "    <tr style=\"text-align: right;\">\n",
       "      <th></th>\n",
       "      <th>author.properties.friends</th>\n",
       "      <th>author.properties.status_count</th>\n",
       "      <th>author.properties.verified</th>\n",
       "      <th>content.body</th>\n",
       "      <th>location.country</th>\n",
       "      <th>properties.platform</th>\n",
       "      <th>properties.sentiment</th>\n",
       "      <th>location.latitude</th>\n",
       "      <th>location.longitude</th>\n",
       "    </tr>\n",
       "  </thead>\n",
       "  <tbody>\n",
       "    <tr>\n",
       "      <th>0</th>\n",
       "      <td>1689</td>\n",
       "      <td>22566.00</td>\n",
       "      <td>False</td>\n",
       "      <td>Can't believe I'm missing Love Island 😩</td>\n",
       "      <td>GB</td>\n",
       "      <td>twitter</td>\n",
       "      <td>1.00</td>\n",
       "      <td>51.57</td>\n",
       "      <td>0.46</td>\n",
       "    </tr>\n",
       "  </tbody>\n",
       "</table>\n",
       "</div>"
      ],
      "text/plain": [
       "  author.properties.friends  author.properties.status_count  \\\n",
       "0                      1689                        22566.00   \n",
       "\n",
       "  author.properties.verified                             content.body  \\\n",
       "0                      False  Can't believe I'm missing Love Island 😩   \n",
       "\n",
       "  location.country properties.platform  properties.sentiment  \\\n",
       "0               GB             twitter                  1.00   \n",
       "\n",
       "   location.latitude  location.longitude  \n",
       "0              51.57                0.46  "
      ]
     },
     "execution_count": 61,
     "metadata": {},
     "output_type": "execute_result"
    }
   ],
   "source": [
    "updated_data.head(1)"
   ]
  },
  {
   "cell_type": "code",
   "execution_count": 62,
   "id": "f1788720",
   "metadata": {},
   "outputs": [
    {
     "data": {
      "text/plain": [
       "array([\"Can't believe I'm missing Love Island 😩\",\n",
       "       \"Last tweet about future wedding..... if I actually want a wedding I actually need to find a guy XD we all know I'm a loner. unlovable\",\n",
       "       'How many times does he wonna say the phrase \"i deal with shit\" #LoveIsland',\n",
       "       ..., '#NP Shola Ama - Loving My Baby',\n",
       "       'Could not have had a worse couple days. Failed MOT, lost my passport, and now just found out I sent £300 for my Napa Accom to the wrong acc.',\n",
       "       \"@FHPReading Hi guys, we're from Reading and would love to take your branding to a new level. Get in touch and we'll chat more! #snapchat\"],\n",
       "      dtype=object)"
      ]
     },
     "execution_count": 62,
     "metadata": {},
     "output_type": "execute_result"
    }
   ],
   "source": [
    "updated_data['content.body'].unique()"
   ]
  },
  {
   "cell_type": "code",
   "execution_count": 63,
   "id": "86047435",
   "metadata": {},
   "outputs": [
    {
     "data": {
      "text/plain": [
       "array([ 1., -1.,  0.])"
      ]
     },
     "execution_count": 63,
     "metadata": {},
     "output_type": "execute_result"
    }
   ],
   "source": [
    "updated_data['properties.sentiment'].unique()"
   ]
  },
  {
   "cell_type": "markdown",
   "id": "1b01b925",
   "metadata": {},
   "source": [
    "#### Create Sample Data"
   ]
  },
  {
   "cell_type": "code",
   "execution_count": 64,
   "id": "daa9ca7a",
   "metadata": {},
   "outputs": [],
   "source": [
    "sample_data_dict = {\n",
    "    \n",
    "    \"author.properties.friends\": 114,\n",
    "    \"author.properties.status_count\": 1377,\n",
    "    \"author.properties.verified\": \"True\",\n",
    "    \"content.body\": \"Can't believe I'm missing Love Island 😩\",\n",
    "    \"location.country\": 'NG',\n",
    "    \"properties.platform\": 'facebook',\n",
    "    \"location.latitude\": 52.96974444,\n",
    "    \"location.longitude\": -1.172266\n",
    "    \n",
    "}"
   ]
  },
  {
   "cell_type": "code",
   "execution_count": 65,
   "id": "a7b05a14",
   "metadata": {},
   "outputs": [],
   "source": [
    "sample_data = pd.DataFrame([sample_data_dict])"
   ]
  },
  {
   "cell_type": "code",
   "execution_count": 66,
   "id": "4bf35ced",
   "metadata": {},
   "outputs": [
    {
     "data": {
      "text/html": [
       "<div>\n",
       "<style scoped>\n",
       "    .dataframe tbody tr th:only-of-type {\n",
       "        vertical-align: middle;\n",
       "    }\n",
       "\n",
       "    .dataframe tbody tr th {\n",
       "        vertical-align: top;\n",
       "    }\n",
       "\n",
       "    .dataframe thead th {\n",
       "        text-align: right;\n",
       "    }\n",
       "</style>\n",
       "<table border=\"1\" class=\"dataframe\">\n",
       "  <thead>\n",
       "    <tr style=\"text-align: right;\">\n",
       "      <th></th>\n",
       "      <th>author.properties.friends</th>\n",
       "      <th>author.properties.status_count</th>\n",
       "      <th>author.properties.verified</th>\n",
       "      <th>content.body</th>\n",
       "      <th>location.country</th>\n",
       "      <th>properties.platform</th>\n",
       "      <th>location.latitude</th>\n",
       "      <th>location.longitude</th>\n",
       "    </tr>\n",
       "  </thead>\n",
       "  <tbody>\n",
       "    <tr>\n",
       "      <th>0</th>\n",
       "      <td>114</td>\n",
       "      <td>1377</td>\n",
       "      <td>True</td>\n",
       "      <td>Can't believe I'm missing Love Island 😩</td>\n",
       "      <td>NG</td>\n",
       "      <td>facebook</td>\n",
       "      <td>52.97</td>\n",
       "      <td>-1.17</td>\n",
       "    </tr>\n",
       "  </tbody>\n",
       "</table>\n",
       "</div>"
      ],
      "text/plain": [
       "   author.properties.friends  author.properties.status_count  \\\n",
       "0                        114                            1377   \n",
       "\n",
       "  author.properties.verified                             content.body  \\\n",
       "0                       True  Can't believe I'm missing Love Island 😩   \n",
       "\n",
       "  location.country properties.platform  location.latitude  location.longitude  \n",
       "0               NG            facebook              52.97               -1.17  "
      ]
     },
     "execution_count": 66,
     "metadata": {},
     "output_type": "execute_result"
    }
   ],
   "source": [
    "sample_data.head()"
   ]
  },
  {
   "cell_type": "code",
   "execution_count": 67,
   "id": "decd4f47",
   "metadata": {},
   "outputs": [
    {
     "data": {
      "text/plain": [
       "0   -1.00\n",
       "Name: properties.sentiment, dtype: float64"
      ]
     },
     "execution_count": 67,
     "metadata": {},
     "output_type": "execute_result"
    }
   ],
   "source": [
    "save_model_predictor.predict(sample_data)"
   ]
  },
  {
   "cell_type": "code",
   "execution_count": 68,
   "id": "93502fe9",
   "metadata": {},
   "outputs": [
    {
     "data": {
      "text/plain": [
       "-1.0"
      ]
     },
     "execution_count": 68,
     "metadata": {},
     "output_type": "execute_result"
    }
   ],
   "source": [
    "save_model_predictor.predict(sample_data)[0]"
   ]
  },
  {
   "cell_type": "code",
   "execution_count": null,
   "id": "a3646e32",
   "metadata": {},
   "outputs": [],
   "source": []
  },
  {
   "cell_type": "code",
   "execution_count": null,
   "id": "9e40afeb",
   "metadata": {},
   "outputs": [],
   "source": []
  }
 ],
 "metadata": {
  "kernelspec": {
   "display_name": "Python 3 (ipykernel)",
   "language": "python",
   "name": "python3"
  },
  "language_info": {
   "codemirror_mode": {
    "name": "ipython",
    "version": 3
   },
   "file_extension": ".py",
   "mimetype": "text/x-python",
   "name": "python",
   "nbconvert_exporter": "python",
   "pygments_lexer": "ipython3",
   "version": "3.9.16"
  }
 },
 "nbformat": 4,
 "nbformat_minor": 5
}
