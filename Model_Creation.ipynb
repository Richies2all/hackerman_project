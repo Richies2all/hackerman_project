{
 "cells": [
  {
   "cell_type": "markdown",
   "id": "abb1b02d",
   "metadata": {},
   "source": [
    "```python\n",
    "Data Hackerman Final Project\n",
    "By Richard Adeyeye\n",
    "18-April-2023\n",
    "```"
   ]
  },
  {
   "cell_type": "code",
   "execution_count": 1,
   "id": "84f7ae48",
   "metadata": {},
   "outputs": [
    {
     "data": {
      "text/html": [
       "<style>.container { width:100% !important; }</style>"
      ],
      "text/plain": [
       "<IPython.core.display.HTML object>"
      ]
     },
     "metadata": {},
     "output_type": "display_data"
    }
   ],
   "source": [
    "import pandas as pd\n",
    "import requests\n",
    "import json\n",
    "import os\n",
    "import matplotlib.pyplot as plt\n",
    "from matplotlib import cm\n",
    "import numpy as np\n",
    "import seaborn as sns\n",
    "import folium\n",
    "\n",
    "\n",
    "pd.set_option(\"display.max_columns\", None)\n",
    "pd.set_option(\"display.max_rows\", None)\n",
    "pd.options.display.max_colwidth = None\n",
    "pd.set_option(\"display.float_format\", lambda x: '%.2f' % x)\n",
    "\n",
    "from IPython.display import display, HTML\n",
    "display(HTML(\"<style>.container { width:100% !important; }</style>\"))"
   ]
  },
  {
   "cell_type": "markdown",
   "id": "69e789e3",
   "metadata": {},
   "source": [
    "### Model Creation"
   ]
  },
  {
   "cell_type": "code",
   "execution_count": 2,
   "id": "a5a8c6ee",
   "metadata": {},
   "outputs": [],
   "source": [
    "# Main working directory \n",
    "main_working_folder = os.getcwd()\n",
    "\n",
    "# Data folder directory\n",
    "data_folder = \"data\"\n",
    "\n",
    "# Combining the paths\n",
    "main_path = os.path.join(main_working_folder, data_folder)"
   ]
  },
  {
   "cell_type": "code",
   "execution_count": 3,
   "id": "7f647df8",
   "metadata": {},
   "outputs": [],
   "source": [
    "project_data_df = pd.read_csv(os.path.join(main_path, 'project_data.csv'))"
   ]
  },
  {
   "cell_type": "code",
   "execution_count": 4,
   "id": "80799653",
   "metadata": {},
   "outputs": [
    {
     "data": {
      "text/html": [
       "<div>\n",
       "<style scoped>\n",
       "    .dataframe tbody tr th:only-of-type {\n",
       "        vertical-align: middle;\n",
       "    }\n",
       "\n",
       "    .dataframe tbody tr th {\n",
       "        vertical-align: top;\n",
       "    }\n",
       "\n",
       "    .dataframe thead th {\n",
       "        text-align: right;\n",
       "    }\n",
       "</style>\n",
       "<table border=\"1\" class=\"dataframe\">\n",
       "  <thead>\n",
       "    <tr style=\"text-align: right;\">\n",
       "      <th></th>\n",
       "      <th>author.properties.friends</th>\n",
       "      <th>author.properties.status_count</th>\n",
       "      <th>author.properties.verified</th>\n",
       "      <th>content.body</th>\n",
       "      <th>location.country</th>\n",
       "      <th>properties.platform</th>\n",
       "      <th>properties.sentiment</th>\n",
       "      <th>location.latitude</th>\n",
       "      <th>location.longitude</th>\n",
       "    </tr>\n",
       "  </thead>\n",
       "  <tbody>\n",
       "    <tr>\n",
       "      <th>0</th>\n",
       "      <td>1689</td>\n",
       "      <td>22566.00</td>\n",
       "      <td>False</td>\n",
       "      <td>Can't believe I'm missing Love Island 😩</td>\n",
       "      <td>GB</td>\n",
       "      <td>twitter</td>\n",
       "      <td>1.00</td>\n",
       "      <td>51.57</td>\n",
       "      <td>0.46</td>\n",
       "    </tr>\n",
       "  </tbody>\n",
       "</table>\n",
       "</div>"
      ],
      "text/plain": [
       "   author.properties.friends  author.properties.status_count  \\\n",
       "0                       1689                        22566.00   \n",
       "\n",
       "   author.properties.verified                             content.body  \\\n",
       "0                       False  Can't believe I'm missing Love Island 😩   \n",
       "\n",
       "  location.country properties.platform  properties.sentiment  \\\n",
       "0               GB             twitter                  1.00   \n",
       "\n",
       "   location.latitude  location.longitude  \n",
       "0              51.57                0.46  "
      ]
     },
     "execution_count": 4,
     "metadata": {},
     "output_type": "execute_result"
    }
   ],
   "source": [
    "project_data_df.head(1)"
   ]
  },
  {
   "cell_type": "code",
   "execution_count": 5,
   "id": "a65c5410",
   "metadata": {},
   "outputs": [],
   "source": [
    "from sklearn.model_selection import train_test_split\n",
    "from autogluon.tabular import TabularDataset, TabularPredictor"
   ]
  },
  {
   "cell_type": "code",
   "execution_count": 6,
   "id": "9883e781",
   "metadata": {},
   "outputs": [],
   "source": [
    "train_data, test_data = train_test_split(project_data_df, test_size=0.33, random_state=42)"
   ]
  },
  {
   "cell_type": "code",
   "execution_count": 7,
   "id": "07b3869a",
   "metadata": {},
   "outputs": [
    {
     "data": {
      "text/plain": [
       "((3349, 9), (1650, 9))"
      ]
     },
     "execution_count": 7,
     "metadata": {},
     "output_type": "execute_result"
    }
   ],
   "source": [
    "train_data.shape, test_data.shape"
   ]
  },
  {
   "cell_type": "code",
   "execution_count": 8,
   "id": "caa3a4dc",
   "metadata": {},
   "outputs": [
    {
     "data": {
      "text/html": [
       "<div>\n",
       "<style scoped>\n",
       "    .dataframe tbody tr th:only-of-type {\n",
       "        vertical-align: middle;\n",
       "    }\n",
       "\n",
       "    .dataframe tbody tr th {\n",
       "        vertical-align: top;\n",
       "    }\n",
       "\n",
       "    .dataframe thead th {\n",
       "        text-align: right;\n",
       "    }\n",
       "</style>\n",
       "<table border=\"1\" class=\"dataframe\">\n",
       "  <thead>\n",
       "    <tr style=\"text-align: right;\">\n",
       "      <th></th>\n",
       "      <th>author.properties.friends</th>\n",
       "      <th>author.properties.status_count</th>\n",
       "      <th>author.properties.verified</th>\n",
       "      <th>content.body</th>\n",
       "      <th>location.country</th>\n",
       "      <th>properties.platform</th>\n",
       "      <th>properties.sentiment</th>\n",
       "      <th>location.latitude</th>\n",
       "      <th>location.longitude</th>\n",
       "    </tr>\n",
       "  </thead>\n",
       "  <tbody>\n",
       "    <tr>\n",
       "      <th>1556</th>\n",
       "      <td>288</td>\n",
       "      <td>2075.00</td>\n",
       "      <td>False</td>\n",
       "      <td>@brightsideram we tried nice men  never worked heard bad reports he likes a drink more than players U tube clip outside pub ostrich comment</td>\n",
       "      <td>GB</td>\n",
       "      <td>twitter</td>\n",
       "      <td>0.00</td>\n",
       "      <td>53.09</td>\n",
       "      <td>-1.39</td>\n",
       "    </tr>\n",
       "    <tr>\n",
       "      <th>1003</th>\n",
       "      <td>1845</td>\n",
       "      <td>19394.00</td>\n",
       "      <td>False</td>\n",
       "      <td>...even better if time travel were invented and I could go there back in 1876 and have a whiskey with Al #Deadwood</td>\n",
       "      <td>GB</td>\n",
       "      <td>twitter</td>\n",
       "      <td>-1.00</td>\n",
       "      <td>51.65</td>\n",
       "      <td>-3.80</td>\n",
       "    </tr>\n",
       "  </tbody>\n",
       "</table>\n",
       "</div>"
      ],
      "text/plain": [
       "      author.properties.friends  author.properties.status_count  \\\n",
       "1556                        288                         2075.00   \n",
       "1003                       1845                        19394.00   \n",
       "\n",
       "      author.properties.verified  \\\n",
       "1556                       False   \n",
       "1003                       False   \n",
       "\n",
       "                                                                                                                                     content.body  \\\n",
       "1556  @brightsideram we tried nice men  never worked heard bad reports he likes a drink more than players U tube clip outside pub ostrich comment   \n",
       "1003                           ...even better if time travel were invented and I could go there back in 1876 and have a whiskey with Al #Deadwood   \n",
       "\n",
       "     location.country properties.platform  properties.sentiment  \\\n",
       "1556               GB             twitter                  0.00   \n",
       "1003               GB             twitter                 -1.00   \n",
       "\n",
       "      location.latitude  location.longitude  \n",
       "1556              53.09               -1.39  \n",
       "1003              51.65               -3.80  "
      ]
     },
     "execution_count": 8,
     "metadata": {},
     "output_type": "execute_result"
    }
   ],
   "source": [
    "train_data.head(2)"
   ]
  },
  {
   "cell_type": "code",
   "execution_count": 9,
   "id": "8775876b",
   "metadata": {},
   "outputs": [
    {
     "data": {
      "text/html": [
       "<div>\n",
       "<style scoped>\n",
       "    .dataframe tbody tr th:only-of-type {\n",
       "        vertical-align: middle;\n",
       "    }\n",
       "\n",
       "    .dataframe tbody tr th {\n",
       "        vertical-align: top;\n",
       "    }\n",
       "\n",
       "    .dataframe thead th {\n",
       "        text-align: right;\n",
       "    }\n",
       "</style>\n",
       "<table border=\"1\" class=\"dataframe\">\n",
       "  <thead>\n",
       "    <tr style=\"text-align: right;\">\n",
       "      <th></th>\n",
       "      <th>author.properties.friends</th>\n",
       "      <th>author.properties.status_count</th>\n",
       "      <th>author.properties.verified</th>\n",
       "      <th>content.body</th>\n",
       "      <th>location.country</th>\n",
       "      <th>properties.platform</th>\n",
       "      <th>properties.sentiment</th>\n",
       "      <th>location.latitude</th>\n",
       "      <th>location.longitude</th>\n",
       "    </tr>\n",
       "  </thead>\n",
       "  <tbody>\n",
       "    <tr>\n",
       "      <th>84</th>\n",
       "      <td>859</td>\n",
       "      <td>36929.00</td>\n",
       "      <td>False</td>\n",
       "      <td>@JR_athletics @phil_walker spot on.</td>\n",
       "      <td>GB</td>\n",
       "      <td>twitter</td>\n",
       "      <td>-1.00</td>\n",
       "      <td>50.45</td>\n",
       "      <td>-3.55</td>\n",
       "    </tr>\n",
       "  </tbody>\n",
       "</table>\n",
       "</div>"
      ],
      "text/plain": [
       "    author.properties.friends  author.properties.status_count  \\\n",
       "84                        859                        36929.00   \n",
       "\n",
       "    author.properties.verified                         content.body  \\\n",
       "84                       False  @JR_athletics @phil_walker spot on.   \n",
       "\n",
       "   location.country properties.platform  properties.sentiment  \\\n",
       "84               GB             twitter                 -1.00   \n",
       "\n",
       "    location.latitude  location.longitude  \n",
       "84              50.45               -3.55  "
      ]
     },
     "execution_count": 9,
     "metadata": {},
     "output_type": "execute_result"
    }
   ],
   "source": [
    "test_data.head(1)"
   ]
  },
  {
   "cell_type": "markdown",
   "id": "8f3677c6",
   "metadata": {},
   "source": [
    "### Training"
   ]
  },
  {
   "cell_type": "code",
   "execution_count": 10,
   "id": "aacec3a3",
   "metadata": {},
   "outputs": [
    {
     "name": "stderr",
     "output_type": "stream",
     "text": [
      "Warning: path already exists! This predictor may overwrite an existing predictor! path=\"artefacts/models_multiclass\"\n",
      "Beginning AutoGluon training ... Time limit = 60s\n",
      "AutoGluon will save models to \"artefacts/models_multiclass\\\"\n",
      "AutoGluon Version:  0.7.0\n",
      "Python Version:     3.9.16\n",
      "Operating System:   Windows\n",
      "Platform Machine:   AMD64\n",
      "Platform Version:   10.0.22621\n",
      "Train Data Rows:    1650\n",
      "Train Data Columns: 8\n",
      "Label Column: properties.sentiment\n",
      "Preprocessing data ...\n",
      "Train Data Class Count: 3\n",
      "Using Feature Generators to preprocess the data ...\n",
      "Fitting AutoMLPipelineFeatureGenerator...\n",
      "\tAvailable Memory:                    2799.32 MB\n",
      "\tTrain Data (Original)  Memory Usage: 0.55 MB (0.0% of available memory)\n",
      "\tInferring data type of each feature based on column values. Set feature_metadata_in to manually specify special dtypes of the features.\n",
      "\tStage 1 Generators:\n",
      "\t\tFitting AsTypeFeatureGenerator...\n",
      "\t\t\tNote: Converting 1 features to boolean dtype as they only contain 2 unique values.\n",
      "\tStage 2 Generators:\n",
      "\t\tFitting FillNaFeatureGenerator...\n",
      "\tStage 3 Generators:\n",
      "\t\tFitting IdentityFeatureGenerator...\n",
      "\t\tFitting CategoryFeatureGenerator...\n",
      "\t\t\tFitting CategoryMemoryMinimizeFeatureGenerator...\n",
      "\t\tFitting TextSpecialFeatureGenerator...\n",
      "\t\t\tFitting BinnedFeatureGenerator...\n",
      "\t\t\tFitting DropDuplicatesFeatureGenerator...\n",
      "\t\tFitting TextNgramFeatureGenerator...\n",
      "\t\t\tFitting CountVectorizer for text features: ['content.body']\n",
      "\t\t\tCountVectorizer fit with vocabulary size = 59\n",
      "\tStage 4 Generators:\n",
      "\t\tFitting DropUniqueFeatureGenerator...\n",
      "\tUseless Original Features (Count: 1): ['properties.platform']\n",
      "\t\tThese features carry no predictive signal and should be manually investigated.\n",
      "\t\tThis is typically a feature which has the same value for all rows.\n",
      "\t\tThese features do not need to be present at inference time.\n",
      "\tTypes of features in original data (raw dtype, special dtypes):\n",
      "\t\t('bool', [])         : 1 | ['author.properties.verified']\n",
      "\t\t('float', [])        : 3 | ['author.properties.status_count', 'location.latitude', 'location.longitude']\n",
      "\t\t('int', [])          : 1 | ['author.properties.friends']\n",
      "\t\t('object', [])       : 1 | ['location.country']\n",
      "\t\t('object', ['text']) : 1 | ['content.body']\n",
      "\tTypes of features in processed data (raw dtype, special dtypes):\n",
      "\t\t('category', [])                    :  1 | ['location.country']\n",
      "\t\t('category', ['text_as_category'])  :  1 | ['content.body']\n",
      "\t\t('float', [])                       :  3 | ['author.properties.status_count', 'location.latitude', 'location.longitude']\n",
      "\t\t('int', [])                         :  1 | ['author.properties.friends']\n",
      "\t\t('int', ['binned', 'text_special']) : 26 | ['content.body.char_count', 'content.body.word_count', 'content.body.capital_ratio', 'content.body.lower_ratio', 'content.body.digit_ratio', ...]\n",
      "\t\t('int', ['bool'])                   :  1 | ['author.properties.verified']\n",
      "\t\t('int', ['text_ngram'])             : 60 | ['__nlp__.about', '__nlp__.all', '__nlp__.and', '__nlp__.are', '__nlp__.at', ...]\n",
      "\t0.6s = Fit runtime\n",
      "\t7 features in original data used to generate 93 features in processed data.\n",
      "\tTrain Data (Processed) Memory Usage: 0.3 MB (0.0% of available memory)\n",
      "Data preprocessing and feature engineering runtime = 0.66s ...\n",
      "AutoGluon will gauge predictive performance using evaluation metric: 'accuracy'\n",
      "\tTo change this, specify the eval_metric parameter of Predictor()\n",
      "Automatically generating train/validation split with holdout_frac=0.2, Train Rows: 1320, Val Rows: 330\n",
      "Fitting 13 L1 models ...\n",
      "Fitting model: KNeighborsUnif ... Training model for up to 59.34s of the 59.34s of remaining time.\n",
      "\t0.4424\t = Validation score   (accuracy)\n",
      "\t1.42s\t = Training   runtime\n",
      "\t0.19s\t = Validation runtime\n",
      "Fitting model: KNeighborsDist ... Training model for up to 57.73s of the 57.73s of remaining time.\n",
      "\t0.503\t = Validation score   (accuracy)\n",
      "\t0.03s\t = Training   runtime\n",
      "\t0.03s\t = Validation runtime\n",
      "Fitting model: NeuralNetFastAI ... Training model for up to 57.66s of the 57.66s of remaining time.\n",
      "\t0.6697\t = Validation score   (accuracy)\n",
      "\t2.65s\t = Training   runtime\n",
      "\t0.03s\t = Validation runtime\n",
      "Fitting model: LightGBMXT ... Training model for up to 54.96s of the 54.96s of remaining time.\n",
      "\t0.7242\t = Validation score   (accuracy)\n",
      "\t1.91s\t = Training   runtime\n",
      "\t0.02s\t = Validation runtime\n",
      "Fitting model: LightGBM ... Training model for up to 52.95s of the 52.95s of remaining time.\n",
      "\t0.7121\t = Validation score   (accuracy)\n",
      "\t1.27s\t = Training   runtime\n",
      "\t0.0s\t = Validation runtime\n",
      "Fitting model: RandomForestGini ... Training model for up to 51.66s of the 51.66s of remaining time.\n",
      "\t0.7121\t = Validation score   (accuracy)\n",
      "\t0.89s\t = Training   runtime\n",
      "\t0.08s\t = Validation runtime\n",
      "Fitting model: RandomForestEntr ... Training model for up to 50.63s of the 50.62s of remaining time.\n",
      "\t0.7061\t = Validation score   (accuracy)\n",
      "\t0.81s\t = Training   runtime\n",
      "\t0.08s\t = Validation runtime\n",
      "Fitting model: CatBoost ... Training model for up to 49.68s of the 49.68s of remaining time.\n",
      "\t0.7273\t = Validation score   (accuracy)\n",
      "\t12.4s\t = Training   runtime\n",
      "\t0.02s\t = Validation runtime\n",
      "Fitting model: ExtraTreesGini ... Training model for up to 37.27s of the 37.27s of remaining time.\n",
      "\t0.7091\t = Validation score   (accuracy)\n",
      "\t0.8s\t = Training   runtime\n",
      "\t0.09s\t = Validation runtime\n",
      "Fitting model: ExtraTreesEntr ... Training model for up to 36.33s of the 36.33s of remaining time.\n",
      "\t0.6939\t = Validation score   (accuracy)\n",
      "\t0.8s\t = Training   runtime\n",
      "\t0.09s\t = Validation runtime\n",
      "Fitting model: XGBoost ... Training model for up to 35.38s of the 35.38s of remaining time.\n",
      "\t0.7\t = Validation score   (accuracy)\n",
      "\t3.06s\t = Training   runtime\n",
      "\t0.02s\t = Validation runtime\n",
      "Fitting model: NeuralNetTorch ... Training model for up to 32.25s of the 32.25s of remaining time.\n",
      "\t0.6697\t = Validation score   (accuracy)\n",
      "\t5.01s\t = Training   runtime\n",
      "\t0.03s\t = Validation runtime\n",
      "Fitting model: LightGBMLarge ... Training model for up to 27.21s of the 27.21s of remaining time.\n",
      "\t0.7212\t = Validation score   (accuracy)\n",
      "\t5.66s\t = Training   runtime\n",
      "\t0.02s\t = Validation runtime\n",
      "Fitting model: WeightedEnsemble_L2 ... Training model for up to 59.34s of the 21.28s of remaining time.\n",
      "\t0.7485\t = Validation score   (accuracy)\n",
      "\t0.68s\t = Training   runtime\n",
      "\t0.0s\t = Validation runtime\n",
      "AutoGluon training complete, total runtime = 39.47s ... Best model: \"WeightedEnsemble_L2\"\n",
      "TabularPredictor saved. To load, use: predictor = TabularPredictor.load(\"artefacts/models_multiclass\\\")\n"
     ]
    },
    {
     "name": "stdout",
     "output_type": "stream",
     "text": [
      "CPU times: total: 1min 30s\n",
      "Wall time: 39.5 s\n"
     ]
    }
   ],
   "source": [
    "%%time\n",
    "\n",
    "save_path = 'artefacts/models_multiclass'\n",
    "time_limit = 60\n",
    "label = \"properties.sentiment\"\n",
    "\n",
    "predictor = TabularPredictor(label=label, path=save_path, problem_type='multiclass').fit(test_data, time_limit=time_limit)"
   ]
  },
  {
   "cell_type": "code",
   "execution_count": 11,
   "id": "7e67e8db",
   "metadata": {},
   "outputs": [
    {
     "data": {
      "text/plain": [
       "{'accuracy': 0.9472727272727273,\n",
       " 'balanced_accuracy': 0.9406344700352043,\n",
       " 'mcc': 0.9160283606053036}"
      ]
     },
     "execution_count": 11,
     "metadata": {},
     "output_type": "execute_result"
    }
   ],
   "source": [
    "predictor.evaluate(test_data, silent=True)"
   ]
  },
  {
   "cell_type": "code",
   "execution_count": 12,
   "id": "c9ad756f",
   "metadata": {},
   "outputs": [
    {
     "data": {
      "text/html": [
       "<div>\n",
       "<style scoped>\n",
       "    .dataframe tbody tr th:only-of-type {\n",
       "        vertical-align: middle;\n",
       "    }\n",
       "\n",
       "    .dataframe tbody tr th {\n",
       "        vertical-align: top;\n",
       "    }\n",
       "\n",
       "    .dataframe thead th {\n",
       "        text-align: right;\n",
       "    }\n",
       "</style>\n",
       "<table border=\"1\" class=\"dataframe\">\n",
       "  <thead>\n",
       "    <tr style=\"text-align: right;\">\n",
       "      <th></th>\n",
       "      <th>model</th>\n",
       "      <th>score_test</th>\n",
       "      <th>score_val</th>\n",
       "      <th>pred_time_test</th>\n",
       "      <th>pred_time_val</th>\n",
       "      <th>fit_time</th>\n",
       "      <th>pred_time_test_marginal</th>\n",
       "      <th>pred_time_val_marginal</th>\n",
       "      <th>fit_time_marginal</th>\n",
       "      <th>stack_level</th>\n",
       "      <th>can_infer</th>\n",
       "      <th>fit_order</th>\n",
       "    </tr>\n",
       "  </thead>\n",
       "  <tbody>\n",
       "    <tr>\n",
       "      <th>0</th>\n",
       "      <td>WeightedEnsemble_L2</td>\n",
       "      <td>0.95</td>\n",
       "      <td>0.75</td>\n",
       "      <td>0.63</td>\n",
       "      <td>0.28</td>\n",
       "      <td>17.49</td>\n",
       "      <td>0.02</td>\n",
       "      <td>0.00</td>\n",
       "      <td>0.68</td>\n",
       "      <td>2</td>\n",
       "      <td>True</td>\n",
       "      <td>14</td>\n",
       "    </tr>\n",
       "    <tr>\n",
       "      <th>1</th>\n",
       "      <td>LightGBMLarge</td>\n",
       "      <td>0.94</td>\n",
       "      <td>0.72</td>\n",
       "      <td>0.11</td>\n",
       "      <td>0.02</td>\n",
       "      <td>5.66</td>\n",
       "      <td>0.11</td>\n",
       "      <td>0.02</td>\n",
       "      <td>5.66</td>\n",
       "      <td>1</td>\n",
       "      <td>True</td>\n",
       "      <td>13</td>\n",
       "    </tr>\n",
       "    <tr>\n",
       "      <th>2</th>\n",
       "      <td>RandomForestGini</td>\n",
       "      <td>0.94</td>\n",
       "      <td>0.71</td>\n",
       "      <td>0.19</td>\n",
       "      <td>0.08</td>\n",
       "      <td>0.89</td>\n",
       "      <td>0.19</td>\n",
       "      <td>0.08</td>\n",
       "      <td>0.89</td>\n",
       "      <td>1</td>\n",
       "      <td>True</td>\n",
       "      <td>6</td>\n",
       "    </tr>\n",
       "    <tr>\n",
       "      <th>3</th>\n",
       "      <td>ExtraTreesGini</td>\n",
       "      <td>0.94</td>\n",
       "      <td>0.71</td>\n",
       "      <td>0.17</td>\n",
       "      <td>0.09</td>\n",
       "      <td>0.80</td>\n",
       "      <td>0.17</td>\n",
       "      <td>0.09</td>\n",
       "      <td>0.80</td>\n",
       "      <td>1</td>\n",
       "      <td>True</td>\n",
       "      <td>9</td>\n",
       "    </tr>\n",
       "    <tr>\n",
       "      <th>4</th>\n",
       "      <td>RandomForestEntr</td>\n",
       "      <td>0.94</td>\n",
       "      <td>0.71</td>\n",
       "      <td>0.14</td>\n",
       "      <td>0.08</td>\n",
       "      <td>0.81</td>\n",
       "      <td>0.14</td>\n",
       "      <td>0.08</td>\n",
       "      <td>0.81</td>\n",
       "      <td>1</td>\n",
       "      <td>True</td>\n",
       "      <td>7</td>\n",
       "    </tr>\n",
       "    <tr>\n",
       "      <th>5</th>\n",
       "      <td>XGBoost</td>\n",
       "      <td>0.94</td>\n",
       "      <td>0.70</td>\n",
       "      <td>0.20</td>\n",
       "      <td>0.02</td>\n",
       "      <td>3.06</td>\n",
       "      <td>0.20</td>\n",
       "      <td>0.02</td>\n",
       "      <td>3.06</td>\n",
       "      <td>1</td>\n",
       "      <td>True</td>\n",
       "      <td>11</td>\n",
       "    </tr>\n",
       "    <tr>\n",
       "      <th>6</th>\n",
       "      <td>LightGBMXT</td>\n",
       "      <td>0.94</td>\n",
       "      <td>0.72</td>\n",
       "      <td>0.08</td>\n",
       "      <td>0.02</td>\n",
       "      <td>1.91</td>\n",
       "      <td>0.08</td>\n",
       "      <td>0.02</td>\n",
       "      <td>1.91</td>\n",
       "      <td>1</td>\n",
       "      <td>True</td>\n",
       "      <td>4</td>\n",
       "    </tr>\n",
       "    <tr>\n",
       "      <th>7</th>\n",
       "      <td>ExtraTreesEntr</td>\n",
       "      <td>0.94</td>\n",
       "      <td>0.69</td>\n",
       "      <td>0.17</td>\n",
       "      <td>0.09</td>\n",
       "      <td>0.80</td>\n",
       "      <td>0.17</td>\n",
       "      <td>0.09</td>\n",
       "      <td>0.80</td>\n",
       "      <td>1</td>\n",
       "      <td>True</td>\n",
       "      <td>10</td>\n",
       "    </tr>\n",
       "    <tr>\n",
       "      <th>8</th>\n",
       "      <td>LightGBM</td>\n",
       "      <td>0.93</td>\n",
       "      <td>0.71</td>\n",
       "      <td>0.05</td>\n",
       "      <td>0.00</td>\n",
       "      <td>1.27</td>\n",
       "      <td>0.05</td>\n",
       "      <td>0.00</td>\n",
       "      <td>1.27</td>\n",
       "      <td>1</td>\n",
       "      <td>True</td>\n",
       "      <td>5</td>\n",
       "    </tr>\n",
       "    <tr>\n",
       "      <th>9</th>\n",
       "      <td>KNeighborsDist</td>\n",
       "      <td>0.90</td>\n",
       "      <td>0.50</td>\n",
       "      <td>0.02</td>\n",
       "      <td>0.03</td>\n",
       "      <td>0.03</td>\n",
       "      <td>0.02</td>\n",
       "      <td>0.03</td>\n",
       "      <td>0.03</td>\n",
       "      <td>1</td>\n",
       "      <td>True</td>\n",
       "      <td>2</td>\n",
       "    </tr>\n",
       "    <tr>\n",
       "      <th>10</th>\n",
       "      <td>NeuralNetFastAI</td>\n",
       "      <td>0.85</td>\n",
       "      <td>0.67</td>\n",
       "      <td>0.09</td>\n",
       "      <td>0.03</td>\n",
       "      <td>2.65</td>\n",
       "      <td>0.09</td>\n",
       "      <td>0.03</td>\n",
       "      <td>2.65</td>\n",
       "      <td>1</td>\n",
       "      <td>True</td>\n",
       "      <td>3</td>\n",
       "    </tr>\n",
       "    <tr>\n",
       "      <th>11</th>\n",
       "      <td>CatBoost</td>\n",
       "      <td>0.80</td>\n",
       "      <td>0.73</td>\n",
       "      <td>0.03</td>\n",
       "      <td>0.02</td>\n",
       "      <td>12.40</td>\n",
       "      <td>0.03</td>\n",
       "      <td>0.02</td>\n",
       "      <td>12.40</td>\n",
       "      <td>1</td>\n",
       "      <td>True</td>\n",
       "      <td>8</td>\n",
       "    </tr>\n",
       "    <tr>\n",
       "      <th>12</th>\n",
       "      <td>NeuralNetTorch</td>\n",
       "      <td>0.69</td>\n",
       "      <td>0.67</td>\n",
       "      <td>0.09</td>\n",
       "      <td>0.03</td>\n",
       "      <td>5.01</td>\n",
       "      <td>0.09</td>\n",
       "      <td>0.03</td>\n",
       "      <td>5.01</td>\n",
       "      <td>1</td>\n",
       "      <td>True</td>\n",
       "      <td>12</td>\n",
       "    </tr>\n",
       "    <tr>\n",
       "      <th>13</th>\n",
       "      <td>KNeighborsUnif</td>\n",
       "      <td>0.59</td>\n",
       "      <td>0.44</td>\n",
       "      <td>0.03</td>\n",
       "      <td>0.19</td>\n",
       "      <td>1.42</td>\n",
       "      <td>0.03</td>\n",
       "      <td>0.19</td>\n",
       "      <td>1.42</td>\n",
       "      <td>1</td>\n",
       "      <td>True</td>\n",
       "      <td>1</td>\n",
       "    </tr>\n",
       "  </tbody>\n",
       "</table>\n",
       "</div>"
      ],
      "text/plain": [
       "                  model  score_test  score_val  pred_time_test  pred_time_val  \\\n",
       "0   WeightedEnsemble_L2        0.95       0.75            0.63           0.28   \n",
       "1         LightGBMLarge        0.94       0.72            0.11           0.02   \n",
       "2      RandomForestGini        0.94       0.71            0.19           0.08   \n",
       "3        ExtraTreesGini        0.94       0.71            0.17           0.09   \n",
       "4      RandomForestEntr        0.94       0.71            0.14           0.08   \n",
       "5               XGBoost        0.94       0.70            0.20           0.02   \n",
       "6            LightGBMXT        0.94       0.72            0.08           0.02   \n",
       "7        ExtraTreesEntr        0.94       0.69            0.17           0.09   \n",
       "8              LightGBM        0.93       0.71            0.05           0.00   \n",
       "9        KNeighborsDist        0.90       0.50            0.02           0.03   \n",
       "10      NeuralNetFastAI        0.85       0.67            0.09           0.03   \n",
       "11             CatBoost        0.80       0.73            0.03           0.02   \n",
       "12       NeuralNetTorch        0.69       0.67            0.09           0.03   \n",
       "13       KNeighborsUnif        0.59       0.44            0.03           0.19   \n",
       "\n",
       "    fit_time  pred_time_test_marginal  pred_time_val_marginal  \\\n",
       "0      17.49                     0.02                    0.00   \n",
       "1       5.66                     0.11                    0.02   \n",
       "2       0.89                     0.19                    0.08   \n",
       "3       0.80                     0.17                    0.09   \n",
       "4       0.81                     0.14                    0.08   \n",
       "5       3.06                     0.20                    0.02   \n",
       "6       1.91                     0.08                    0.02   \n",
       "7       0.80                     0.17                    0.09   \n",
       "8       1.27                     0.05                    0.00   \n",
       "9       0.03                     0.02                    0.03   \n",
       "10      2.65                     0.09                    0.03   \n",
       "11     12.40                     0.03                    0.02   \n",
       "12      5.01                     0.09                    0.03   \n",
       "13      1.42                     0.03                    0.19   \n",
       "\n",
       "    fit_time_marginal  stack_level  can_infer  fit_order  \n",
       "0                0.68            2       True         14  \n",
       "1                5.66            1       True         13  \n",
       "2                0.89            1       True          6  \n",
       "3                0.80            1       True          9  \n",
       "4                0.81            1       True          7  \n",
       "5                3.06            1       True         11  \n",
       "6                1.91            1       True          4  \n",
       "7                0.80            1       True         10  \n",
       "8                1.27            1       True          5  \n",
       "9                0.03            1       True          2  \n",
       "10               2.65            1       True          3  \n",
       "11              12.40            1       True          8  \n",
       "12               5.01            1       True         12  \n",
       "13               1.42            1       True          1  "
      ]
     },
     "execution_count": 12,
     "metadata": {},
     "output_type": "execute_result"
    }
   ],
   "source": [
    "predictor.leaderboard(test_data, silent=True)"
   ]
  },
  {
   "cell_type": "code",
   "execution_count": 13,
   "id": "87e9a0d5",
   "metadata": {},
   "outputs": [
    {
     "data": {
      "text/plain": [
       "'WeightedEnsemble_L2'"
      ]
     },
     "execution_count": 13,
     "metadata": {},
     "output_type": "execute_result"
    }
   ],
   "source": [
    "predictor.get_model_best()"
   ]
  },
  {
   "cell_type": "markdown",
   "id": "7519046f",
   "metadata": {},
   "source": [
    "### Evaluation"
   ]
  },
  {
   "cell_type": "markdown",
   "id": "92128eee",
   "metadata": {},
   "source": [
    "```python\n",
    "Feature Importance\n",
    "```"
   ]
  },
  {
   "cell_type": "code",
   "execution_count": 14,
   "id": "ca37f59b",
   "metadata": {},
   "outputs": [],
   "source": [
    "y_test = test_data[label]  # values to be predicted\n",
    "test_data_nolab = test_data.drop(columns=[label])   "
   ]
  },
  {
   "cell_type": "code",
   "execution_count": 15,
   "id": "14f27fcb",
   "metadata": {},
   "outputs": [
    {
     "data": {
      "text/html": [
       "<div>\n",
       "<style scoped>\n",
       "    .dataframe tbody tr th:only-of-type {\n",
       "        vertical-align: middle;\n",
       "    }\n",
       "\n",
       "    .dataframe tbody tr th {\n",
       "        vertical-align: top;\n",
       "    }\n",
       "\n",
       "    .dataframe thead th {\n",
       "        text-align: right;\n",
       "    }\n",
       "</style>\n",
       "<table border=\"1\" class=\"dataframe\">\n",
       "  <thead>\n",
       "    <tr style=\"text-align: right;\">\n",
       "      <th></th>\n",
       "      <th>author.properties.friends</th>\n",
       "      <th>author.properties.status_count</th>\n",
       "      <th>author.properties.verified</th>\n",
       "      <th>content.body</th>\n",
       "      <th>location.country</th>\n",
       "      <th>properties.platform</th>\n",
       "      <th>location.latitude</th>\n",
       "      <th>location.longitude</th>\n",
       "    </tr>\n",
       "  </thead>\n",
       "  <tbody>\n",
       "    <tr>\n",
       "      <th>84</th>\n",
       "      <td>859</td>\n",
       "      <td>36929.00</td>\n",
       "      <td>False</td>\n",
       "      <td>@JR_athletics @phil_walker spot on.</td>\n",
       "      <td>GB</td>\n",
       "      <td>twitter</td>\n",
       "      <td>50.45</td>\n",
       "      <td>-3.55</td>\n",
       "    </tr>\n",
       "  </tbody>\n",
       "</table>\n",
       "</div>"
      ],
      "text/plain": [
       "    author.properties.friends  author.properties.status_count  \\\n",
       "84                        859                        36929.00   \n",
       "\n",
       "    author.properties.verified                         content.body  \\\n",
       "84                       False  @JR_athletics @phil_walker spot on.   \n",
       "\n",
       "   location.country properties.platform  location.latitude  location.longitude  \n",
       "84               GB             twitter              50.45               -3.55  "
      ]
     },
     "execution_count": 15,
     "metadata": {},
     "output_type": "execute_result"
    }
   ],
   "source": [
    "test_data_nolab.head(1)"
   ]
  },
  {
   "cell_type": "code",
   "execution_count": 16,
   "id": "2578ecc1",
   "metadata": {},
   "outputs": [],
   "source": [
    "# `predictor.path` is another way to get the relative path needed to later load predictor.\n",
    "save_model_predictor = TabularPredictor.load(save_path) "
   ]
  },
  {
   "cell_type": "code",
   "execution_count": 17,
   "id": "f9fbf410",
   "metadata": {},
   "outputs": [
    {
     "data": {
      "text/plain": [
       "['author.properties.friends',\n",
       " 'author.properties.status_count',\n",
       " 'author.properties.verified',\n",
       " 'content.body',\n",
       " 'location.country',\n",
       " 'location.latitude',\n",
       " 'location.longitude']"
      ]
     },
     "execution_count": 17,
     "metadata": {},
     "output_type": "execute_result"
    }
   ],
   "source": [
    "# To find out the required feature columns to make predictions\n",
    "save_model_predictor.features()"
   ]
  },
  {
   "cell_type": "markdown",
   "id": "9e23a0b6",
   "metadata": {},
   "source": [
    "### Prediction"
   ]
  },
  {
   "cell_type": "code",
   "execution_count": 18,
   "id": "1fb0e9cb",
   "metadata": {},
   "outputs": [],
   "source": [
    "y_pred = save_model_predictor.predict(test_data_nolab)"
   ]
  },
  {
   "cell_type": "code",
   "execution_count": 19,
   "id": "12d27d41",
   "metadata": {},
   "outputs": [],
   "source": [
    "# returns a DataFrame that shows which probability corresponds to which class\n",
    "y_pred_prob = save_model_predictor.predict_proba(test_data_nolab)"
   ]
  },
  {
   "cell_type": "code",
   "execution_count": 20,
   "id": "edfd9599",
   "metadata": {},
   "outputs": [
    {
     "data": {
      "text/html": [
       "<div>\n",
       "<style scoped>\n",
       "    .dataframe tbody tr th:only-of-type {\n",
       "        vertical-align: middle;\n",
       "    }\n",
       "\n",
       "    .dataframe tbody tr th {\n",
       "        vertical-align: top;\n",
       "    }\n",
       "\n",
       "    .dataframe thead th {\n",
       "        text-align: right;\n",
       "    }\n",
       "</style>\n",
       "<table border=\"1\" class=\"dataframe\">\n",
       "  <thead>\n",
       "    <tr style=\"text-align: right;\">\n",
       "      <th></th>\n",
       "      <th>-1.00</th>\n",
       "      <th>0.00</th>\n",
       "      <th>1.00</th>\n",
       "    </tr>\n",
       "  </thead>\n",
       "  <tbody>\n",
       "    <tr>\n",
       "      <th>2470</th>\n",
       "      <td>0.88</td>\n",
       "      <td>0.04</td>\n",
       "      <td>0.08</td>\n",
       "    </tr>\n",
       "    <tr>\n",
       "      <th>2804</th>\n",
       "      <td>0.09</td>\n",
       "      <td>0.79</td>\n",
       "      <td>0.12</td>\n",
       "    </tr>\n",
       "    <tr>\n",
       "      <th>4987</th>\n",
       "      <td>0.07</td>\n",
       "      <td>0.89</td>\n",
       "      <td>0.04</td>\n",
       "    </tr>\n",
       "    <tr>\n",
       "      <th>4924</th>\n",
       "      <td>0.42</td>\n",
       "      <td>0.08</td>\n",
       "      <td>0.50</td>\n",
       "    </tr>\n",
       "  </tbody>\n",
       "</table>\n",
       "</div>"
      ],
      "text/plain": [
       "      -1.00  0.00   1.00 \n",
       "2470   0.88   0.04   0.08\n",
       "2804   0.09   0.79   0.12\n",
       "4987   0.07   0.89   0.04\n",
       "4924   0.42   0.08   0.50"
      ]
     },
     "execution_count": 20,
     "metadata": {},
     "output_type": "execute_result"
    }
   ],
   "source": [
    "y_pred_prob[1:5]"
   ]
  },
  {
   "cell_type": "code",
   "execution_count": 21,
   "id": "dc850aa9",
   "metadata": {},
   "outputs": [
    {
     "data": {
      "text/plain": [
       "'WeightedEnsemble_L2'"
      ]
     },
     "execution_count": 21,
     "metadata": {},
     "output_type": "execute_result"
    }
   ],
   "source": [
    "predictor.get_model_best()"
   ]
  },
  {
   "cell_type": "code",
   "execution_count": 22,
   "id": "4405f2ce",
   "metadata": {},
   "outputs": [
    {
     "data": {
      "text/plain": [
       "2470   -1.00\n",
       "2804    0.00\n",
       "4987    0.00\n",
       "4924    1.00\n",
       "Name: properties.sentiment, dtype: float64"
      ]
     },
     "execution_count": 22,
     "metadata": {},
     "output_type": "execute_result"
    }
   ],
   "source": [
    "y_pred[1:5]"
   ]
  },
  {
   "cell_type": "code",
   "execution_count": 23,
   "id": "eecbde31",
   "metadata": {},
   "outputs": [
    {
     "data": {
      "text/plain": [
       "2470   -1.00\n",
       "2804    0.00\n",
       "4987    0.00\n",
       "4924    1.00\n",
       "Name: properties.sentiment, dtype: float64"
      ]
     },
     "execution_count": 23,
     "metadata": {},
     "output_type": "execute_result"
    }
   ],
   "source": [
    "y_test[1:5]"
   ]
  },
  {
   "cell_type": "code",
   "execution_count": 24,
   "id": "6a2b1ad8",
   "metadata": {},
   "outputs": [
    {
     "data": {
      "text/html": [
       "<div>\n",
       "<style scoped>\n",
       "    .dataframe tbody tr th:only-of-type {\n",
       "        vertical-align: middle;\n",
       "    }\n",
       "\n",
       "    .dataframe tbody tr th {\n",
       "        vertical-align: top;\n",
       "    }\n",
       "\n",
       "    .dataframe thead th {\n",
       "        text-align: right;\n",
       "    }\n",
       "</style>\n",
       "<table border=\"1\" class=\"dataframe\">\n",
       "  <thead>\n",
       "    <tr style=\"text-align: right;\">\n",
       "      <th></th>\n",
       "      <th>model</th>\n",
       "      <th>score_test</th>\n",
       "      <th>accuracy</th>\n",
       "      <th>balanced_accuracy</th>\n",
       "      <th>log_loss</th>\n",
       "      <th>score_val</th>\n",
       "      <th>pred_time_test</th>\n",
       "      <th>pred_time_val</th>\n",
       "      <th>fit_time</th>\n",
       "      <th>pred_time_test_marginal</th>\n",
       "      <th>pred_time_val_marginal</th>\n",
       "      <th>fit_time_marginal</th>\n",
       "      <th>stack_level</th>\n",
       "      <th>can_infer</th>\n",
       "      <th>fit_order</th>\n",
       "    </tr>\n",
       "  </thead>\n",
       "  <tbody>\n",
       "    <tr>\n",
       "      <th>0</th>\n",
       "      <td>WeightedEnsemble_L2</td>\n",
       "      <td>0.95</td>\n",
       "      <td>0.95</td>\n",
       "      <td>0.94</td>\n",
       "      <td>-0.32</td>\n",
       "      <td>0.75</td>\n",
       "      <td>0.56</td>\n",
       "      <td>0.28</td>\n",
       "      <td>17.49</td>\n",
       "      <td>0.02</td>\n",
       "      <td>0.00</td>\n",
       "      <td>0.68</td>\n",
       "      <td>2</td>\n",
       "      <td>True</td>\n",
       "      <td>14</td>\n",
       "    </tr>\n",
       "    <tr>\n",
       "      <th>1</th>\n",
       "      <td>LightGBMLarge</td>\n",
       "      <td>0.94</td>\n",
       "      <td>0.94</td>\n",
       "      <td>0.94</td>\n",
       "      <td>-0.18</td>\n",
       "      <td>0.72</td>\n",
       "      <td>0.08</td>\n",
       "      <td>0.02</td>\n",
       "      <td>5.66</td>\n",
       "      <td>0.08</td>\n",
       "      <td>0.02</td>\n",
       "      <td>5.66</td>\n",
       "      <td>1</td>\n",
       "      <td>True</td>\n",
       "      <td>13</td>\n",
       "    </tr>\n",
       "    <tr>\n",
       "      <th>2</th>\n",
       "      <td>RandomForestGini</td>\n",
       "      <td>0.94</td>\n",
       "      <td>0.94</td>\n",
       "      <td>0.93</td>\n",
       "      <td>-0.29</td>\n",
       "      <td>0.71</td>\n",
       "      <td>0.16</td>\n",
       "      <td>0.08</td>\n",
       "      <td>0.89</td>\n",
       "      <td>0.16</td>\n",
       "      <td>0.08</td>\n",
       "      <td>0.89</td>\n",
       "      <td>1</td>\n",
       "      <td>True</td>\n",
       "      <td>6</td>\n",
       "    </tr>\n",
       "    <tr>\n",
       "      <th>3</th>\n",
       "      <td>ExtraTreesGini</td>\n",
       "      <td>0.94</td>\n",
       "      <td>0.94</td>\n",
       "      <td>0.93</td>\n",
       "      <td>-0.29</td>\n",
       "      <td>0.71</td>\n",
       "      <td>0.13</td>\n",
       "      <td>0.09</td>\n",
       "      <td>0.80</td>\n",
       "      <td>0.13</td>\n",
       "      <td>0.09</td>\n",
       "      <td>0.80</td>\n",
       "      <td>1</td>\n",
       "      <td>True</td>\n",
       "      <td>9</td>\n",
       "    </tr>\n",
       "    <tr>\n",
       "      <th>4</th>\n",
       "      <td>RandomForestEntr</td>\n",
       "      <td>0.94</td>\n",
       "      <td>0.94</td>\n",
       "      <td>0.93</td>\n",
       "      <td>-0.29</td>\n",
       "      <td>0.71</td>\n",
       "      <td>0.14</td>\n",
       "      <td>0.08</td>\n",
       "      <td>0.81</td>\n",
       "      <td>0.14</td>\n",
       "      <td>0.08</td>\n",
       "      <td>0.81</td>\n",
       "      <td>1</td>\n",
       "      <td>True</td>\n",
       "      <td>7</td>\n",
       "    </tr>\n",
       "    <tr>\n",
       "      <th>5</th>\n",
       "      <td>XGBoost</td>\n",
       "      <td>0.94</td>\n",
       "      <td>0.94</td>\n",
       "      <td>0.93</td>\n",
       "      <td>-0.19</td>\n",
       "      <td>0.70</td>\n",
       "      <td>0.13</td>\n",
       "      <td>0.02</td>\n",
       "      <td>3.06</td>\n",
       "      <td>0.13</td>\n",
       "      <td>0.02</td>\n",
       "      <td>3.06</td>\n",
       "      <td>1</td>\n",
       "      <td>True</td>\n",
       "      <td>11</td>\n",
       "    </tr>\n",
       "    <tr>\n",
       "      <th>6</th>\n",
       "      <td>LightGBMXT</td>\n",
       "      <td>0.94</td>\n",
       "      <td>0.94</td>\n",
       "      <td>0.93</td>\n",
       "      <td>-0.28</td>\n",
       "      <td>0.72</td>\n",
       "      <td>0.08</td>\n",
       "      <td>0.02</td>\n",
       "      <td>1.91</td>\n",
       "      <td>0.08</td>\n",
       "      <td>0.02</td>\n",
       "      <td>1.91</td>\n",
       "      <td>1</td>\n",
       "      <td>True</td>\n",
       "      <td>4</td>\n",
       "    </tr>\n",
       "    <tr>\n",
       "      <th>7</th>\n",
       "      <td>ExtraTreesEntr</td>\n",
       "      <td>0.94</td>\n",
       "      <td>0.94</td>\n",
       "      <td>0.93</td>\n",
       "      <td>-0.29</td>\n",
       "      <td>0.69</td>\n",
       "      <td>0.16</td>\n",
       "      <td>0.09</td>\n",
       "      <td>0.80</td>\n",
       "      <td>0.16</td>\n",
       "      <td>0.09</td>\n",
       "      <td>0.80</td>\n",
       "      <td>1</td>\n",
       "      <td>True</td>\n",
       "      <td>10</td>\n",
       "    </tr>\n",
       "    <tr>\n",
       "      <th>8</th>\n",
       "      <td>LightGBM</td>\n",
       "      <td>0.93</td>\n",
       "      <td>0.93</td>\n",
       "      <td>0.92</td>\n",
       "      <td>-0.34</td>\n",
       "      <td>0.71</td>\n",
       "      <td>0.05</td>\n",
       "      <td>0.00</td>\n",
       "      <td>1.27</td>\n",
       "      <td>0.05</td>\n",
       "      <td>0.00</td>\n",
       "      <td>1.27</td>\n",
       "      <td>1</td>\n",
       "      <td>True</td>\n",
       "      <td>5</td>\n",
       "    </tr>\n",
       "    <tr>\n",
       "      <th>9</th>\n",
       "      <td>KNeighborsDist</td>\n",
       "      <td>0.90</td>\n",
       "      <td>0.90</td>\n",
       "      <td>0.89</td>\n",
       "      <td>-0.84</td>\n",
       "      <td>0.50</td>\n",
       "      <td>0.02</td>\n",
       "      <td>0.03</td>\n",
       "      <td>0.03</td>\n",
       "      <td>0.02</td>\n",
       "      <td>0.03</td>\n",
       "      <td>0.03</td>\n",
       "      <td>1</td>\n",
       "      <td>True</td>\n",
       "      <td>2</td>\n",
       "    </tr>\n",
       "    <tr>\n",
       "      <th>10</th>\n",
       "      <td>NeuralNetFastAI</td>\n",
       "      <td>0.85</td>\n",
       "      <td>0.85</td>\n",
       "      <td>0.83</td>\n",
       "      <td>-0.47</td>\n",
       "      <td>0.67</td>\n",
       "      <td>0.04</td>\n",
       "      <td>0.03</td>\n",
       "      <td>2.65</td>\n",
       "      <td>0.04</td>\n",
       "      <td>0.03</td>\n",
       "      <td>2.65</td>\n",
       "      <td>1</td>\n",
       "      <td>True</td>\n",
       "      <td>3</td>\n",
       "    </tr>\n",
       "    <tr>\n",
       "      <th>11</th>\n",
       "      <td>CatBoost</td>\n",
       "      <td>0.80</td>\n",
       "      <td>0.80</td>\n",
       "      <td>0.76</td>\n",
       "      <td>-0.57</td>\n",
       "      <td>0.73</td>\n",
       "      <td>0.02</td>\n",
       "      <td>0.02</td>\n",
       "      <td>12.40</td>\n",
       "      <td>0.02</td>\n",
       "      <td>0.02</td>\n",
       "      <td>12.40</td>\n",
       "      <td>1</td>\n",
       "      <td>True</td>\n",
       "      <td>8</td>\n",
       "    </tr>\n",
       "    <tr>\n",
       "      <th>12</th>\n",
       "      <td>NeuralNetTorch</td>\n",
       "      <td>0.69</td>\n",
       "      <td>0.69</td>\n",
       "      <td>0.62</td>\n",
       "      <td>-0.76</td>\n",
       "      <td>0.67</td>\n",
       "      <td>0.06</td>\n",
       "      <td>0.03</td>\n",
       "      <td>5.01</td>\n",
       "      <td>0.06</td>\n",
       "      <td>0.03</td>\n",
       "      <td>5.01</td>\n",
       "      <td>1</td>\n",
       "      <td>True</td>\n",
       "      <td>12</td>\n",
       "    </tr>\n",
       "    <tr>\n",
       "      <th>13</th>\n",
       "      <td>KNeighborsUnif</td>\n",
       "      <td>0.59</td>\n",
       "      <td>0.59</td>\n",
       "      <td>0.52</td>\n",
       "      <td>-1.44</td>\n",
       "      <td>0.44</td>\n",
       "      <td>0.02</td>\n",
       "      <td>0.19</td>\n",
       "      <td>1.42</td>\n",
       "      <td>0.02</td>\n",
       "      <td>0.19</td>\n",
       "      <td>1.42</td>\n",
       "      <td>1</td>\n",
       "      <td>True</td>\n",
       "      <td>1</td>\n",
       "    </tr>\n",
       "  </tbody>\n",
       "</table>\n",
       "</div>"
      ],
      "text/plain": [
       "                  model  score_test  accuracy  balanced_accuracy  log_loss  \\\n",
       "0   WeightedEnsemble_L2        0.95      0.95               0.94     -0.32   \n",
       "1         LightGBMLarge        0.94      0.94               0.94     -0.18   \n",
       "2      RandomForestGini        0.94      0.94               0.93     -0.29   \n",
       "3        ExtraTreesGini        0.94      0.94               0.93     -0.29   \n",
       "4      RandomForestEntr        0.94      0.94               0.93     -0.29   \n",
       "5               XGBoost        0.94      0.94               0.93     -0.19   \n",
       "6            LightGBMXT        0.94      0.94               0.93     -0.28   \n",
       "7        ExtraTreesEntr        0.94      0.94               0.93     -0.29   \n",
       "8              LightGBM        0.93      0.93               0.92     -0.34   \n",
       "9        KNeighborsDist        0.90      0.90               0.89     -0.84   \n",
       "10      NeuralNetFastAI        0.85      0.85               0.83     -0.47   \n",
       "11             CatBoost        0.80      0.80               0.76     -0.57   \n",
       "12       NeuralNetTorch        0.69      0.69               0.62     -0.76   \n",
       "13       KNeighborsUnif        0.59      0.59               0.52     -1.44   \n",
       "\n",
       "    score_val  pred_time_test  pred_time_val  fit_time  \\\n",
       "0        0.75            0.56           0.28     17.49   \n",
       "1        0.72            0.08           0.02      5.66   \n",
       "2        0.71            0.16           0.08      0.89   \n",
       "3        0.71            0.13           0.09      0.80   \n",
       "4        0.71            0.14           0.08      0.81   \n",
       "5        0.70            0.13           0.02      3.06   \n",
       "6        0.72            0.08           0.02      1.91   \n",
       "7        0.69            0.16           0.09      0.80   \n",
       "8        0.71            0.05           0.00      1.27   \n",
       "9        0.50            0.02           0.03      0.03   \n",
       "10       0.67            0.04           0.03      2.65   \n",
       "11       0.73            0.02           0.02     12.40   \n",
       "12       0.67            0.06           0.03      5.01   \n",
       "13       0.44            0.02           0.19      1.42   \n",
       "\n",
       "    pred_time_test_marginal  pred_time_val_marginal  fit_time_marginal  \\\n",
       "0                      0.02                    0.00               0.68   \n",
       "1                      0.08                    0.02               5.66   \n",
       "2                      0.16                    0.08               0.89   \n",
       "3                      0.13                    0.09               0.80   \n",
       "4                      0.14                    0.08               0.81   \n",
       "5                      0.13                    0.02               3.06   \n",
       "6                      0.08                    0.02               1.91   \n",
       "7                      0.16                    0.09               0.80   \n",
       "8                      0.05                    0.00               1.27   \n",
       "9                      0.02                    0.03               0.03   \n",
       "10                     0.04                    0.03               2.65   \n",
       "11                     0.02                    0.02              12.40   \n",
       "12                     0.06                    0.03               5.01   \n",
       "13                     0.02                    0.19               1.42   \n",
       "\n",
       "    stack_level  can_infer  fit_order  \n",
       "0             2       True         14  \n",
       "1             1       True         13  \n",
       "2             1       True          6  \n",
       "3             1       True          9  \n",
       "4             1       True          7  \n",
       "5             1       True         11  \n",
       "6             1       True          4  \n",
       "7             1       True         10  \n",
       "8             1       True          5  \n",
       "9             1       True          2  \n",
       "10            1       True          3  \n",
       "11            1       True          8  \n",
       "12            1       True         12  \n",
       "13            1       True          1  "
      ]
     },
     "execution_count": 24,
     "metadata": {},
     "output_type": "execute_result"
    }
   ],
   "source": [
    "# To show scores for other metrics, you can specify the extra_metrics argument when passing in test_data\n",
    "save_model_predictor.leaderboard(test_data, extra_metrics=['accuracy', 'balanced_accuracy', 'log_loss'], silent=True)"
   ]
  },
  {
   "cell_type": "code",
   "execution_count": 25,
   "id": "c2e1cd84",
   "metadata": {},
   "outputs": [
    {
     "name": "stderr",
     "output_type": "stream",
     "text": [
      "Evaluation: accuracy on test data: 0.9472727272727273\n",
      "Evaluations on test data:\n",
      "{\n",
      "    \"accuracy\": 0.9472727272727273,\n",
      "    \"balanced_accuracy\": 0.9406344700352043,\n",
      "    \"mcc\": 0.9160283606053036\n",
      "}\n"
     ]
    }
   ],
   "source": [
    "# The predictor also remembers what metric predictions should be evaluated with\n",
    "perf = save_model_predictor.evaluate_predictions(y_true=y_test, y_pred=y_pred_prob)"
   ]
  },
  {
   "cell_type": "code",
   "execution_count": 26,
   "id": "88dfcffe",
   "metadata": {},
   "outputs": [
    {
     "name": "stderr",
     "output_type": "stream",
     "text": [
      "Evaluation: accuracy on test data: 0.9472727272727273\n",
      "Evaluations on test data:\n",
      "{\n",
      "    \"accuracy\": 0.9472727272727273,\n",
      "    \"balanced_accuracy\": 0.9406344700352043,\n",
      "    \"mcc\": 0.9160283606053036\n",
      "}\n"
     ]
    }
   ],
   "source": [
    "# Alternatively since the label columns remains in the test_data DataFrame \n",
    "perf = save_model_predictor.evaluate(test_data)"
   ]
  },
  {
   "cell_type": "markdown",
   "id": "8adaf55f",
   "metadata": {},
   "source": [
    "### Input for Prediction"
   ]
  },
  {
   "cell_type": "code",
   "execution_count": 27,
   "id": "f2993b49",
   "metadata": {},
   "outputs": [
    {
     "data": {
      "text/html": [
       "<div>\n",
       "<style scoped>\n",
       "    .dataframe tbody tr th:only-of-type {\n",
       "        vertical-align: middle;\n",
       "    }\n",
       "\n",
       "    .dataframe tbody tr th {\n",
       "        vertical-align: top;\n",
       "    }\n",
       "\n",
       "    .dataframe thead th {\n",
       "        text-align: right;\n",
       "    }\n",
       "</style>\n",
       "<table border=\"1\" class=\"dataframe\">\n",
       "  <thead>\n",
       "    <tr style=\"text-align: right;\">\n",
       "      <th></th>\n",
       "      <th>author.properties.friends</th>\n",
       "      <th>author.properties.status_count</th>\n",
       "      <th>author.properties.verified</th>\n",
       "      <th>content.body</th>\n",
       "      <th>location.country</th>\n",
       "      <th>properties.platform</th>\n",
       "      <th>properties.sentiment</th>\n",
       "      <th>location.latitude</th>\n",
       "      <th>location.longitude</th>\n",
       "    </tr>\n",
       "  </thead>\n",
       "  <tbody>\n",
       "    <tr>\n",
       "      <th>0</th>\n",
       "      <td>1689</td>\n",
       "      <td>22566.00</td>\n",
       "      <td>False</td>\n",
       "      <td>Can't believe I'm missing Love Island 😩</td>\n",
       "      <td>GB</td>\n",
       "      <td>twitter</td>\n",
       "      <td>1.00</td>\n",
       "      <td>51.57</td>\n",
       "      <td>0.46</td>\n",
       "    </tr>\n",
       "  </tbody>\n",
       "</table>\n",
       "</div>"
      ],
      "text/plain": [
       "   author.properties.friends  author.properties.status_count  \\\n",
       "0                       1689                        22566.00   \n",
       "\n",
       "   author.properties.verified                             content.body  \\\n",
       "0                       False  Can't believe I'm missing Love Island 😩   \n",
       "\n",
       "  location.country properties.platform  properties.sentiment  \\\n",
       "0               GB             twitter                  1.00   \n",
       "\n",
       "   location.latitude  location.longitude  \n",
       "0              51.57                0.46  "
      ]
     },
     "execution_count": 27,
     "metadata": {},
     "output_type": "execute_result"
    }
   ],
   "source": [
    "project_data_df.head(1)"
   ]
  },
  {
   "cell_type": "code",
   "execution_count": 28,
   "id": "d5f6a619",
   "metadata": {},
   "outputs": [
    {
     "data": {
      "text/plain": [
       "array([\"Can't believe I'm missing Love Island 😩\",\n",
       "       \"Last tweet about future wedding..... if I actually want a wedding I actually need to find a guy XD we all know I'm a loner. unlovable\",\n",
       "       'How many times does he wonna say the phrase \"i deal with shit\" #LoveIsland',\n",
       "       ..., '#NP Shola Ama - Loving My Baby',\n",
       "       'Could not have had a worse couple days. Failed MOT, lost my passport, and now just found out I sent £300 for my Napa Accom to the wrong acc.',\n",
       "       \"@FHPReading Hi guys, we're from Reading and would love to take your branding to a new level. Get in touch and we'll chat more! #snapchat\"],\n",
       "      dtype=object)"
      ]
     },
     "execution_count": 28,
     "metadata": {},
     "output_type": "execute_result"
    }
   ],
   "source": [
    "project_data_df['content.body'].unique()"
   ]
  },
  {
   "cell_type": "code",
   "execution_count": 29,
   "id": "ab34a4c1",
   "metadata": {},
   "outputs": [
    {
     "data": {
      "text/plain": [
       "array([ 1., -1.,  0.])"
      ]
     },
     "execution_count": 29,
     "metadata": {},
     "output_type": "execute_result"
    }
   ],
   "source": [
    "project_data_df['properties.sentiment'].unique()"
   ]
  },
  {
   "cell_type": "code",
   "execution_count": 30,
   "id": "8e0f18aa",
   "metadata": {},
   "outputs": [],
   "source": [
    "# save_model_predictor.predict(project_data_df)"
   ]
  },
  {
   "cell_type": "code",
   "execution_count": 32,
   "id": "a7c8188f",
   "metadata": {},
   "outputs": [
    {
     "data": {
      "text/plain": [
       "1.0"
      ]
     },
     "execution_count": 32,
     "metadata": {},
     "output_type": "execute_result"
    }
   ],
   "source": [
    "save_model_predictor.predict(project_data_df)[0]"
   ]
  },
  {
   "cell_type": "markdown",
   "id": "3acc992d",
   "metadata": {},
   "source": [
    "### Create Sample Data"
   ]
  },
  {
   "cell_type": "code",
   "execution_count": 33,
   "id": "09a7eda8",
   "metadata": {},
   "outputs": [],
   "source": [
    "sample_data_dict = {\n",
    "    \n",
    "    \"author.properties.friends\": 114,\n",
    "    \"author.properties.status_count\": 1377,\n",
    "    \"author.properties.verified\": \"True\",\n",
    "    \"content.body\": \"Can't believe I'm missing Love Island 😩\",\n",
    "    \"location.country\": 'NG',\n",
    "    \"properties.platform\": 'facebook',\n",
    "    \"location.latitude\": 52.96974444,\n",
    "    \"location.longitude\": -1.172266\n",
    "    \n",
    "}"
   ]
  },
  {
   "cell_type": "code",
   "execution_count": 34,
   "id": "3d6c21e1",
   "metadata": {},
   "outputs": [],
   "source": [
    "sample_data = pd.DataFrame([sample_data_dict])"
   ]
  },
  {
   "cell_type": "code",
   "execution_count": 35,
   "id": "42423e29",
   "metadata": {},
   "outputs": [
    {
     "data": {
      "text/html": [
       "<div>\n",
       "<style scoped>\n",
       "    .dataframe tbody tr th:only-of-type {\n",
       "        vertical-align: middle;\n",
       "    }\n",
       "\n",
       "    .dataframe tbody tr th {\n",
       "        vertical-align: top;\n",
       "    }\n",
       "\n",
       "    .dataframe thead th {\n",
       "        text-align: right;\n",
       "    }\n",
       "</style>\n",
       "<table border=\"1\" class=\"dataframe\">\n",
       "  <thead>\n",
       "    <tr style=\"text-align: right;\">\n",
       "      <th></th>\n",
       "      <th>author.properties.friends</th>\n",
       "      <th>author.properties.status_count</th>\n",
       "      <th>author.properties.verified</th>\n",
       "      <th>content.body</th>\n",
       "      <th>location.country</th>\n",
       "      <th>properties.platform</th>\n",
       "      <th>location.latitude</th>\n",
       "      <th>location.longitude</th>\n",
       "    </tr>\n",
       "  </thead>\n",
       "  <tbody>\n",
       "    <tr>\n",
       "      <th>0</th>\n",
       "      <td>114</td>\n",
       "      <td>1377</td>\n",
       "      <td>True</td>\n",
       "      <td>Can't believe I'm missing Love Island 😩</td>\n",
       "      <td>NG</td>\n",
       "      <td>facebook</td>\n",
       "      <td>52.97</td>\n",
       "      <td>-1.17</td>\n",
       "    </tr>\n",
       "  </tbody>\n",
       "</table>\n",
       "</div>"
      ],
      "text/plain": [
       "   author.properties.friends  author.properties.status_count  \\\n",
       "0                        114                            1377   \n",
       "\n",
       "  author.properties.verified                             content.body  \\\n",
       "0                       True  Can't believe I'm missing Love Island 😩   \n",
       "\n",
       "  location.country properties.platform  location.latitude  location.longitude  \n",
       "0               NG            facebook              52.97               -1.17  "
      ]
     },
     "execution_count": 35,
     "metadata": {},
     "output_type": "execute_result"
    }
   ],
   "source": [
    "sample_data.head()"
   ]
  },
  {
   "cell_type": "code",
   "execution_count": 36,
   "id": "bdaec075",
   "metadata": {},
   "outputs": [
    {
     "data": {
      "text/plain": [
       "0   1.00\n",
       "Name: properties.sentiment, dtype: float64"
      ]
     },
     "execution_count": 36,
     "metadata": {},
     "output_type": "execute_result"
    }
   ],
   "source": [
    "save_model_predictor.predict(sample_data)"
   ]
  },
  {
   "cell_type": "code",
   "execution_count": 37,
   "id": "18a621b2",
   "metadata": {},
   "outputs": [
    {
     "data": {
      "text/plain": [
       "1.0"
      ]
     },
     "execution_count": 37,
     "metadata": {},
     "output_type": "execute_result"
    }
   ],
   "source": [
    "save_model_predictor.predict(sample_data)[0]"
   ]
  },
  {
   "cell_type": "code",
   "execution_count": null,
   "id": "332ee320",
   "metadata": {},
   "outputs": [],
   "source": []
  }
 ],
 "metadata": {
  "kernelspec": {
   "display_name": "Python 3 (ipykernel)",
   "language": "python",
   "name": "python3"
  },
  "language_info": {
   "codemirror_mode": {
    "name": "ipython",
    "version": 3
   },
   "file_extension": ".py",
   "mimetype": "text/x-python",
   "name": "python",
   "nbconvert_exporter": "python",
   "pygments_lexer": "ipython3",
   "version": "3.9.16"
  }
 },
 "nbformat": 4,
 "nbformat_minor": 5
}
